{
 "cells": [
  {
   "cell_type": "markdown",
   "metadata": {},
   "source": [
    "## Limpieza de la base de datos tr_Usuario\n",
    "El primer paso es importar las librerias que necesitaremos"
   ]
  },
  {
   "cell_type": "code",
   "execution_count": 1,
   "metadata": {},
   "outputs": [],
   "source": [
    "import pandas as pd\n",
    "import numpy as np"
   ]
  },
  {
   "cell_type": "markdown",
   "metadata": {},
   "source": [
    "### Carga de la base de datos "
   ]
  },
  {
   "cell_type": "code",
   "execution_count": 2,
   "metadata": {},
   "outputs": [],
   "source": [
    "path='C:/Users/alejandro/Desktop/ProyectoFinal Delfin/Bases de datos/conjunto_de_datos/tr_usuario.csv'\n",
    "df_Usuario=pd.read_csv(path,low_memory=False,index_col=0)"
   ]
  },
  {
   "cell_type": "code",
   "execution_count": 3,
   "metadata": {},
   "outputs": [
    {
     "data": {
      "text/html": [
       "<div>\n",
       "<style scoped>\n",
       "    .dataframe tbody tr th:only-of-type {\n",
       "        vertical-align: middle;\n",
       "    }\n",
       "\n",
       "    .dataframe tbody tr th {\n",
       "        vertical-align: top;\n",
       "    }\n",
       "\n",
       "    .dataframe thead th {\n",
       "        text-align: right;\n",
       "    }\n",
       "</style>\n",
       "<table border=\"1\" class=\"dataframe\">\n",
       "  <thead>\n",
       "    <tr style=\"text-align: right;\">\n",
       "      <th></th>\n",
       "      <th>VIV_SEL</th>\n",
       "      <th>HOGAR</th>\n",
       "      <th>N_REN</th>\n",
       "      <th>P6_1</th>\n",
       "      <th>P6_2_1</th>\n",
       "      <th>P6_2_2</th>\n",
       "      <th>P6_2_3</th>\n",
       "      <th>P6_3</th>\n",
       "      <th>P6_3E</th>\n",
       "      <th>P6_4</th>\n",
       "      <th>...</th>\n",
       "      <th>P8_13_5</th>\n",
       "      <th>P8_13_6</th>\n",
       "      <th>P8_13_7</th>\n",
       "      <th>P8_13_8</th>\n",
       "      <th>P8_13_8E</th>\n",
       "      <th>P8_14</th>\n",
       "      <th>P8_15</th>\n",
       "      <th>CD_ENDUTIH</th>\n",
       "      <th>ENT</th>\n",
       "      <th>FAC_PER</th>\n",
       "    </tr>\n",
       "    <tr>\n",
       "      <th>UPM</th>\n",
       "      <th></th>\n",
       "      <th></th>\n",
       "      <th></th>\n",
       "      <th></th>\n",
       "      <th></th>\n",
       "      <th></th>\n",
       "      <th></th>\n",
       "      <th></th>\n",
       "      <th></th>\n",
       "      <th></th>\n",
       "      <th></th>\n",
       "      <th></th>\n",
       "      <th></th>\n",
       "      <th></th>\n",
       "      <th></th>\n",
       "      <th></th>\n",
       "      <th></th>\n",
       "      <th></th>\n",
       "      <th></th>\n",
       "      <th></th>\n",
       "      <th></th>\n",
       "    </tr>\n",
       "  </thead>\n",
       "  <tbody>\n",
       "    <tr>\n",
       "      <th>100008</th>\n",
       "      <td>1</td>\n",
       "      <td>1</td>\n",
       "      <td>4</td>\n",
       "      <td>2</td>\n",
       "      <td>NaN</td>\n",
       "      <td>NaN</td>\n",
       "      <td>NaN</td>\n",
       "      <td>6.0</td>\n",
       "      <td>SOLO UTILIZA SU CELULAR</td>\n",
       "      <td>NaN</td>\n",
       "      <td>...</td>\n",
       "      <td>2.0</td>\n",
       "      <td>1.0</td>\n",
       "      <td>1.0</td>\n",
       "      <td>2.0</td>\n",
       "      <td>NaN</td>\n",
       "      <td>1.0</td>\n",
       "      <td>1.0</td>\n",
       "      <td>14.0</td>\n",
       "      <td>1</td>\n",
       "      <td>618</td>\n",
       "    </tr>\n",
       "    <tr>\n",
       "      <th>100008</th>\n",
       "      <td>2</td>\n",
       "      <td>1</td>\n",
       "      <td>1</td>\n",
       "      <td>2</td>\n",
       "      <td>NaN</td>\n",
       "      <td>NaN</td>\n",
       "      <td>NaN</td>\n",
       "      <td>3.0</td>\n",
       "      <td>NaN</td>\n",
       "      <td>NaN</td>\n",
       "      <td>...</td>\n",
       "      <td>NaN</td>\n",
       "      <td>NaN</td>\n",
       "      <td>NaN</td>\n",
       "      <td>NaN</td>\n",
       "      <td>NaN</td>\n",
       "      <td>NaN</td>\n",
       "      <td>NaN</td>\n",
       "      <td>14.0</td>\n",
       "      <td>1</td>\n",
       "      <td>222</td>\n",
       "    </tr>\n",
       "    <tr>\n",
       "      <th>100008</th>\n",
       "      <td>3</td>\n",
       "      <td>1</td>\n",
       "      <td>1</td>\n",
       "      <td>1</td>\n",
       "      <td>2.0</td>\n",
       "      <td>2.0</td>\n",
       "      <td>1.0</td>\n",
       "      <td>NaN</td>\n",
       "      <td>NaN</td>\n",
       "      <td>3.0</td>\n",
       "      <td>...</td>\n",
       "      <td>NaN</td>\n",
       "      <td>NaN</td>\n",
       "      <td>NaN</td>\n",
       "      <td>NaN</td>\n",
       "      <td>NaN</td>\n",
       "      <td>NaN</td>\n",
       "      <td>NaN</td>\n",
       "      <td>14.0</td>\n",
       "      <td>1</td>\n",
       "      <td>342</td>\n",
       "    </tr>\n",
       "    <tr>\n",
       "      <th>100008</th>\n",
       "      <td>4</td>\n",
       "      <td>1</td>\n",
       "      <td>1</td>\n",
       "      <td>1</td>\n",
       "      <td>2.0</td>\n",
       "      <td>1.0</td>\n",
       "      <td>2.0</td>\n",
       "      <td>NaN</td>\n",
       "      <td>NaN</td>\n",
       "      <td>1.0</td>\n",
       "      <td>...</td>\n",
       "      <td>2.0</td>\n",
       "      <td>1.0</td>\n",
       "      <td>2.0</td>\n",
       "      <td>2.0</td>\n",
       "      <td>NaN</td>\n",
       "      <td>1.0</td>\n",
       "      <td>1.0</td>\n",
       "      <td>14.0</td>\n",
       "      <td>1</td>\n",
       "      <td>148</td>\n",
       "    </tr>\n",
       "    <tr>\n",
       "      <th>100008</th>\n",
       "      <td>4</td>\n",
       "      <td>2</td>\n",
       "      <td>1</td>\n",
       "      <td>1</td>\n",
       "      <td>2.0</td>\n",
       "      <td>1.0</td>\n",
       "      <td>2.0</td>\n",
       "      <td>NaN</td>\n",
       "      <td>NaN</td>\n",
       "      <td>1.0</td>\n",
       "      <td>...</td>\n",
       "      <td>2.0</td>\n",
       "      <td>1.0</td>\n",
       "      <td>2.0</td>\n",
       "      <td>2.0</td>\n",
       "      <td>NaN</td>\n",
       "      <td>1.0</td>\n",
       "      <td>1.0</td>\n",
       "      <td>14.0</td>\n",
       "      <td>1</td>\n",
       "      <td>148</td>\n",
       "    </tr>\n",
       "  </tbody>\n",
       "</table>\n",
       "<p>5 rows × 208 columns</p>\n",
       "</div>"
      ],
      "text/plain": [
       "        VIV_SEL  HOGAR  N_REN  P6_1  P6_2_1  P6_2_2  P6_2_3  P6_3  \\\n",
       "UPM                                                                 \n",
       "100008        1      1      4     2     NaN     NaN     NaN   6.0   \n",
       "100008        2      1      1     2     NaN     NaN     NaN   3.0   \n",
       "100008        3      1      1     1     2.0     2.0     1.0   NaN   \n",
       "100008        4      1      1     1     2.0     1.0     2.0   NaN   \n",
       "100008        4      2      1     1     2.0     1.0     2.0   NaN   \n",
       "\n",
       "                          P6_3E  P6_4   ...     P8_13_5  P8_13_6  P8_13_7  \\\n",
       "UPM                                     ...                                 \n",
       "100008  SOLO UTILIZA SU CELULAR   NaN   ...         2.0      1.0      1.0   \n",
       "100008                      NaN   NaN   ...         NaN      NaN      NaN   \n",
       "100008                      NaN   3.0   ...         NaN      NaN      NaN   \n",
       "100008                      NaN   1.0   ...         2.0      1.0      2.0   \n",
       "100008                      NaN   1.0   ...         2.0      1.0      2.0   \n",
       "\n",
       "        P8_13_8  P8_13_8E  P8_14  P8_15  CD_ENDUTIH ENT  FAC_PER  \n",
       "UPM                                                               \n",
       "100008      2.0       NaN    1.0    1.0        14.0   1      618  \n",
       "100008      NaN       NaN    NaN    NaN        14.0   1      222  \n",
       "100008      NaN       NaN    NaN    NaN        14.0   1      342  \n",
       "100008      2.0       NaN    1.0    1.0        14.0   1      148  \n",
       "100008      2.0       NaN    1.0    1.0        14.0   1      148  \n",
       "\n",
       "[5 rows x 208 columns]"
      ]
     },
     "execution_count": 3,
     "metadata": {},
     "output_type": "execute_result"
    }
   ],
   "source": [
    "df_Usuario.head()"
   ]
  },
  {
   "cell_type": "code",
   "execution_count": 4,
   "metadata": {},
   "outputs": [
    {
     "data": {
      "text/plain": [
       "(135341, 208)"
      ]
     },
     "execution_count": 4,
     "metadata": {},
     "output_type": "execute_result"
    }
   ],
   "source": [
    "df_Usuario.shape"
   ]
  },
  {
   "cell_type": "code",
   "execution_count": 5,
   "metadata": {},
   "outputs": [],
   "source": [
    "df_usuario_copy= df_Usuario"
   ]
  },
  {
   "cell_type": "code",
   "execution_count": 6,
   "metadata": {},
   "outputs": [
    {
     "data": {
      "text/html": [
       "<div>\n",
       "<style scoped>\n",
       "    .dataframe tbody tr th:only-of-type {\n",
       "        vertical-align: middle;\n",
       "    }\n",
       "\n",
       "    .dataframe tbody tr th {\n",
       "        vertical-align: top;\n",
       "    }\n",
       "\n",
       "    .dataframe thead th {\n",
       "        text-align: right;\n",
       "    }\n",
       "</style>\n",
       "<table border=\"1\" class=\"dataframe\">\n",
       "  <thead>\n",
       "    <tr style=\"text-align: right;\">\n",
       "      <th></th>\n",
       "      <th>VIV_SEL</th>\n",
       "      <th>HOGAR</th>\n",
       "      <th>N_REN</th>\n",
       "      <th>P6_1</th>\n",
       "      <th>P6_2_1</th>\n",
       "      <th>P6_2_2</th>\n",
       "      <th>P6_2_3</th>\n",
       "      <th>P6_3</th>\n",
       "      <th>P6_3E</th>\n",
       "      <th>P6_4</th>\n",
       "      <th>...</th>\n",
       "      <th>P8_13_5</th>\n",
       "      <th>P8_13_6</th>\n",
       "      <th>P8_13_7</th>\n",
       "      <th>P8_13_8</th>\n",
       "      <th>P8_13_8E</th>\n",
       "      <th>P8_14</th>\n",
       "      <th>P8_15</th>\n",
       "      <th>CD_ENDUTIH</th>\n",
       "      <th>ENT</th>\n",
       "      <th>FAC_PER</th>\n",
       "    </tr>\n",
       "    <tr>\n",
       "      <th>UPM</th>\n",
       "      <th></th>\n",
       "      <th></th>\n",
       "      <th></th>\n",
       "      <th></th>\n",
       "      <th></th>\n",
       "      <th></th>\n",
       "      <th></th>\n",
       "      <th></th>\n",
       "      <th></th>\n",
       "      <th></th>\n",
       "      <th></th>\n",
       "      <th></th>\n",
       "      <th></th>\n",
       "      <th></th>\n",
       "      <th></th>\n",
       "      <th></th>\n",
       "      <th></th>\n",
       "      <th></th>\n",
       "      <th></th>\n",
       "      <th></th>\n",
       "      <th></th>\n",
       "    </tr>\n",
       "  </thead>\n",
       "  <tbody>\n",
       "    <tr>\n",
       "      <th>100008</th>\n",
       "      <td>1</td>\n",
       "      <td>1</td>\n",
       "      <td>4</td>\n",
       "      <td>2</td>\n",
       "      <td>NaN</td>\n",
       "      <td>NaN</td>\n",
       "      <td>NaN</td>\n",
       "      <td>6.0</td>\n",
       "      <td>SOLO UTILIZA SU CELULAR</td>\n",
       "      <td>NaN</td>\n",
       "      <td>...</td>\n",
       "      <td>2.0</td>\n",
       "      <td>1.0</td>\n",
       "      <td>1.0</td>\n",
       "      <td>2.0</td>\n",
       "      <td>NaN</td>\n",
       "      <td>1.0</td>\n",
       "      <td>1.0</td>\n",
       "      <td>14.0</td>\n",
       "      <td>1</td>\n",
       "      <td>618</td>\n",
       "    </tr>\n",
       "    <tr>\n",
       "      <th>100008</th>\n",
       "      <td>2</td>\n",
       "      <td>1</td>\n",
       "      <td>1</td>\n",
       "      <td>2</td>\n",
       "      <td>NaN</td>\n",
       "      <td>NaN</td>\n",
       "      <td>NaN</td>\n",
       "      <td>3.0</td>\n",
       "      <td>NaN</td>\n",
       "      <td>NaN</td>\n",
       "      <td>...</td>\n",
       "      <td>NaN</td>\n",
       "      <td>NaN</td>\n",
       "      <td>NaN</td>\n",
       "      <td>NaN</td>\n",
       "      <td>NaN</td>\n",
       "      <td>NaN</td>\n",
       "      <td>NaN</td>\n",
       "      <td>14.0</td>\n",
       "      <td>1</td>\n",
       "      <td>222</td>\n",
       "    </tr>\n",
       "    <tr>\n",
       "      <th>100008</th>\n",
       "      <td>3</td>\n",
       "      <td>1</td>\n",
       "      <td>1</td>\n",
       "      <td>1</td>\n",
       "      <td>2.0</td>\n",
       "      <td>2.0</td>\n",
       "      <td>1.0</td>\n",
       "      <td>NaN</td>\n",
       "      <td>NaN</td>\n",
       "      <td>3.0</td>\n",
       "      <td>...</td>\n",
       "      <td>NaN</td>\n",
       "      <td>NaN</td>\n",
       "      <td>NaN</td>\n",
       "      <td>NaN</td>\n",
       "      <td>NaN</td>\n",
       "      <td>NaN</td>\n",
       "      <td>NaN</td>\n",
       "      <td>14.0</td>\n",
       "      <td>1</td>\n",
       "      <td>342</td>\n",
       "    </tr>\n",
       "    <tr>\n",
       "      <th>100008</th>\n",
       "      <td>4</td>\n",
       "      <td>1</td>\n",
       "      <td>1</td>\n",
       "      <td>1</td>\n",
       "      <td>2.0</td>\n",
       "      <td>1.0</td>\n",
       "      <td>2.0</td>\n",
       "      <td>NaN</td>\n",
       "      <td>NaN</td>\n",
       "      <td>1.0</td>\n",
       "      <td>...</td>\n",
       "      <td>2.0</td>\n",
       "      <td>1.0</td>\n",
       "      <td>2.0</td>\n",
       "      <td>2.0</td>\n",
       "      <td>NaN</td>\n",
       "      <td>1.0</td>\n",
       "      <td>1.0</td>\n",
       "      <td>14.0</td>\n",
       "      <td>1</td>\n",
       "      <td>148</td>\n",
       "    </tr>\n",
       "    <tr>\n",
       "      <th>100008</th>\n",
       "      <td>4</td>\n",
       "      <td>2</td>\n",
       "      <td>1</td>\n",
       "      <td>1</td>\n",
       "      <td>2.0</td>\n",
       "      <td>1.0</td>\n",
       "      <td>2.0</td>\n",
       "      <td>NaN</td>\n",
       "      <td>NaN</td>\n",
       "      <td>1.0</td>\n",
       "      <td>...</td>\n",
       "      <td>2.0</td>\n",
       "      <td>1.0</td>\n",
       "      <td>2.0</td>\n",
       "      <td>2.0</td>\n",
       "      <td>NaN</td>\n",
       "      <td>1.0</td>\n",
       "      <td>1.0</td>\n",
       "      <td>14.0</td>\n",
       "      <td>1</td>\n",
       "      <td>148</td>\n",
       "    </tr>\n",
       "  </tbody>\n",
       "</table>\n",
       "<p>5 rows × 208 columns</p>\n",
       "</div>"
      ],
      "text/plain": [
       "        VIV_SEL  HOGAR  N_REN  P6_1  P6_2_1  P6_2_2  P6_2_3  P6_3  \\\n",
       "UPM                                                                 \n",
       "100008        1      1      4     2     NaN     NaN     NaN   6.0   \n",
       "100008        2      1      1     2     NaN     NaN     NaN   3.0   \n",
       "100008        3      1      1     1     2.0     2.0     1.0   NaN   \n",
       "100008        4      1      1     1     2.0     1.0     2.0   NaN   \n",
       "100008        4      2      1     1     2.0     1.0     2.0   NaN   \n",
       "\n",
       "                          P6_3E  P6_4   ...     P8_13_5  P8_13_6  P8_13_7  \\\n",
       "UPM                                     ...                                 \n",
       "100008  SOLO UTILIZA SU CELULAR   NaN   ...         2.0      1.0      1.0   \n",
       "100008                      NaN   NaN   ...         NaN      NaN      NaN   \n",
       "100008                      NaN   3.0   ...         NaN      NaN      NaN   \n",
       "100008                      NaN   1.0   ...         2.0      1.0      2.0   \n",
       "100008                      NaN   1.0   ...         2.0      1.0      2.0   \n",
       "\n",
       "        P8_13_8  P8_13_8E  P8_14  P8_15  CD_ENDUTIH ENT  FAC_PER  \n",
       "UPM                                                               \n",
       "100008      2.0       NaN    1.0    1.0        14.0   1      618  \n",
       "100008      NaN       NaN    NaN    NaN        14.0   1      222  \n",
       "100008      NaN       NaN    NaN    NaN        14.0   1      342  \n",
       "100008      2.0       NaN    1.0    1.0        14.0   1      148  \n",
       "100008      2.0       NaN    1.0    1.0        14.0   1      148  \n",
       "\n",
       "[5 rows x 208 columns]"
      ]
     },
     "execution_count": 6,
     "metadata": {},
     "output_type": "execute_result"
    }
   ],
   "source": [
    "df_usuario_copy.head()"
   ]
  },
  {
   "cell_type": "code",
   "execution_count": 7,
   "metadata": {},
   "outputs": [],
   "source": [
    "dicc_col_el=('VIV_SEL','HOGAR','N_REN','P6_1','P6_2_1','P6_2_2','P6_2_3',\n",
    "             'P6_3','P6_3E','P6_4','P6_5','P6_6_1','P6_6_2','P6_6_3','P6_6_4',\n",
    "             'P6_6_5','P6_6_6','P6_6_7','P6_6_7E','P6_7_1','P6_7_2','P6_7_3',\n",
    "             'P6_7_4','P6_7_5','P6_7_6','P6_7_7','P6_7_8','P6_7_8E','P6_8_01',\n",
    "             'P6_8_02','P6_8_03','P6_8_04','P6_8_05','P6_8_06','P6_8_07','P6_8_08',\n",
    "             'P6_8_09','P6_8_10','P6_8_10E','P6_9_1','P6_9_2','P6_9_3','P6_9_4',\n",
    "             'P6_9_5','P6_9_6','P6_9_6E','P7_1','P7_2','P7_2E','P7_3','P7_4','P7_5_1',\n",
    "             'P7_5_2','P7_5_3','P7_5_4','P7_5_5','P7_5_6','P7_5_7','P7_5_7E','P7_6',\n",
    "             'P7_7_1','P7_7_2','P7_7_3','P7_7_4','P7_7_5','P7_7_6','P7_7_7','P7_7_8',\n",
    "             'P7_7_8E','P7_8_1','P7_8_2','P7_8_3','P7_8_4','P7_8_5','P7_8_6','P7_8_7',\n",
    "             'P7_8_7E','P7_9_1','P7_9_2','P7_9_3','P7_9_4','P7_9_4E','P7_10_1','P7_10_2',\n",
    "             'P7_10_3','P7_10_4','P7_10_5','P7_10_6','P7_10_7','P7_10_7E','P7_11','P7_12',\n",
    "             'P7_13_1','P7_13_2','P7_13_3','P7_13_4','P7_13_5','P7_13_6','P7_13_6E','P7_14',\n",
    "             'P7_15_1','P7_15_2','P7_16_1'\n",
    "            )\n",
    "\n",
    "for i in dicc_col_el:\n",
    "    df_usuario_copy.drop(i, axis=1, inplace=True)\n"
   ]
  },
  {
   "cell_type": "code",
   "execution_count": 8,
   "metadata": {},
   "outputs": [
    {
     "data": {
      "text/html": [
       "<div>\n",
       "<style scoped>\n",
       "    .dataframe tbody tr th:only-of-type {\n",
       "        vertical-align: middle;\n",
       "    }\n",
       "\n",
       "    .dataframe tbody tr th {\n",
       "        vertical-align: top;\n",
       "    }\n",
       "\n",
       "    .dataframe thead th {\n",
       "        text-align: right;\n",
       "    }\n",
       "</style>\n",
       "<table border=\"1\" class=\"dataframe\">\n",
       "  <thead>\n",
       "    <tr style=\"text-align: right;\">\n",
       "      <th></th>\n",
       "      <th>P7_16_2</th>\n",
       "      <th>P7_16_3</th>\n",
       "      <th>P7_16_4</th>\n",
       "      <th>P7_16_5</th>\n",
       "      <th>P7_16_6</th>\n",
       "      <th>P7_16_7</th>\n",
       "      <th>P7_16_8</th>\n",
       "      <th>P7_16_8E</th>\n",
       "      <th>P7_17</th>\n",
       "      <th>P7_18</th>\n",
       "      <th>...</th>\n",
       "      <th>P8_13_5</th>\n",
       "      <th>P8_13_6</th>\n",
       "      <th>P8_13_7</th>\n",
       "      <th>P8_13_8</th>\n",
       "      <th>P8_13_8E</th>\n",
       "      <th>P8_14</th>\n",
       "      <th>P8_15</th>\n",
       "      <th>CD_ENDUTIH</th>\n",
       "      <th>ENT</th>\n",
       "      <th>FAC_PER</th>\n",
       "    </tr>\n",
       "    <tr>\n",
       "      <th>UPM</th>\n",
       "      <th></th>\n",
       "      <th></th>\n",
       "      <th></th>\n",
       "      <th></th>\n",
       "      <th></th>\n",
       "      <th></th>\n",
       "      <th></th>\n",
       "      <th></th>\n",
       "      <th></th>\n",
       "      <th></th>\n",
       "      <th></th>\n",
       "      <th></th>\n",
       "      <th></th>\n",
       "      <th></th>\n",
       "      <th></th>\n",
       "      <th></th>\n",
       "      <th></th>\n",
       "      <th></th>\n",
       "      <th></th>\n",
       "      <th></th>\n",
       "      <th></th>\n",
       "    </tr>\n",
       "  </thead>\n",
       "  <tbody>\n",
       "    <tr>\n",
       "      <th>100008</th>\n",
       "      <td>2.0</td>\n",
       "      <td>2.0</td>\n",
       "      <td>2.0</td>\n",
       "      <td>2.0</td>\n",
       "      <td>2.0</td>\n",
       "      <td>2.0</td>\n",
       "      <td>2.0</td>\n",
       "      <td>NaN</td>\n",
       "      <td>2.0</td>\n",
       "      <td>NaN</td>\n",
       "      <td>...</td>\n",
       "      <td>2.0</td>\n",
       "      <td>1.0</td>\n",
       "      <td>1.0</td>\n",
       "      <td>2.0</td>\n",
       "      <td>NaN</td>\n",
       "      <td>1.0</td>\n",
       "      <td>1.0</td>\n",
       "      <td>14.0</td>\n",
       "      <td>1</td>\n",
       "      <td>618</td>\n",
       "    </tr>\n",
       "    <tr>\n",
       "      <th>100008</th>\n",
       "      <td>NaN</td>\n",
       "      <td>NaN</td>\n",
       "      <td>NaN</td>\n",
       "      <td>NaN</td>\n",
       "      <td>NaN</td>\n",
       "      <td>NaN</td>\n",
       "      <td>NaN</td>\n",
       "      <td>NaN</td>\n",
       "      <td>NaN</td>\n",
       "      <td>NaN</td>\n",
       "      <td>...</td>\n",
       "      <td>NaN</td>\n",
       "      <td>NaN</td>\n",
       "      <td>NaN</td>\n",
       "      <td>NaN</td>\n",
       "      <td>NaN</td>\n",
       "      <td>NaN</td>\n",
       "      <td>NaN</td>\n",
       "      <td>14.0</td>\n",
       "      <td>1</td>\n",
       "      <td>222</td>\n",
       "    </tr>\n",
       "    <tr>\n",
       "      <th>100008</th>\n",
       "      <td>2.0</td>\n",
       "      <td>2.0</td>\n",
       "      <td>2.0</td>\n",
       "      <td>2.0</td>\n",
       "      <td>2.0</td>\n",
       "      <td>2.0</td>\n",
       "      <td>2.0</td>\n",
       "      <td>NaN</td>\n",
       "      <td>2.0</td>\n",
       "      <td>NaN</td>\n",
       "      <td>...</td>\n",
       "      <td>NaN</td>\n",
       "      <td>NaN</td>\n",
       "      <td>NaN</td>\n",
       "      <td>NaN</td>\n",
       "      <td>NaN</td>\n",
       "      <td>NaN</td>\n",
       "      <td>NaN</td>\n",
       "      <td>14.0</td>\n",
       "      <td>1</td>\n",
       "      <td>342</td>\n",
       "    </tr>\n",
       "    <tr>\n",
       "      <th>100008</th>\n",
       "      <td>2.0</td>\n",
       "      <td>2.0</td>\n",
       "      <td>2.0</td>\n",
       "      <td>2.0</td>\n",
       "      <td>2.0</td>\n",
       "      <td>2.0</td>\n",
       "      <td>2.0</td>\n",
       "      <td>NaN</td>\n",
       "      <td>2.0</td>\n",
       "      <td>NaN</td>\n",
       "      <td>...</td>\n",
       "      <td>2.0</td>\n",
       "      <td>1.0</td>\n",
       "      <td>2.0</td>\n",
       "      <td>2.0</td>\n",
       "      <td>NaN</td>\n",
       "      <td>1.0</td>\n",
       "      <td>1.0</td>\n",
       "      <td>14.0</td>\n",
       "      <td>1</td>\n",
       "      <td>148</td>\n",
       "    </tr>\n",
       "    <tr>\n",
       "      <th>100008</th>\n",
       "      <td>2.0</td>\n",
       "      <td>2.0</td>\n",
       "      <td>1.0</td>\n",
       "      <td>2.0</td>\n",
       "      <td>2.0</td>\n",
       "      <td>2.0</td>\n",
       "      <td>2.0</td>\n",
       "      <td>NaN</td>\n",
       "      <td>2.0</td>\n",
       "      <td>NaN</td>\n",
       "      <td>...</td>\n",
       "      <td>2.0</td>\n",
       "      <td>1.0</td>\n",
       "      <td>2.0</td>\n",
       "      <td>2.0</td>\n",
       "      <td>NaN</td>\n",
       "      <td>1.0</td>\n",
       "      <td>1.0</td>\n",
       "      <td>14.0</td>\n",
       "      <td>1</td>\n",
       "      <td>148</td>\n",
       "    </tr>\n",
       "  </tbody>\n",
       "</table>\n",
       "<p>5 rows × 105 columns</p>\n",
       "</div>"
      ],
      "text/plain": [
       "        P7_16_2  P7_16_3  P7_16_4  P7_16_5  P7_16_6  P7_16_7  P7_16_8  \\\n",
       "UPM                                                                     \n",
       "100008      2.0      2.0      2.0      2.0      2.0      2.0      2.0   \n",
       "100008      NaN      NaN      NaN      NaN      NaN      NaN      NaN   \n",
       "100008      2.0      2.0      2.0      2.0      2.0      2.0      2.0   \n",
       "100008      2.0      2.0      2.0      2.0      2.0      2.0      2.0   \n",
       "100008      2.0      2.0      1.0      2.0      2.0      2.0      2.0   \n",
       "\n",
       "       P7_16_8E  P7_17  P7_18   ...    P8_13_5  P8_13_6  P8_13_7  P8_13_8  \\\n",
       "UPM                             ...                                         \n",
       "100008      NaN    2.0    NaN   ...        2.0      1.0      1.0      2.0   \n",
       "100008      NaN    NaN    NaN   ...        NaN      NaN      NaN      NaN   \n",
       "100008      NaN    2.0    NaN   ...        NaN      NaN      NaN      NaN   \n",
       "100008      NaN    2.0    NaN   ...        2.0      1.0      2.0      2.0   \n",
       "100008      NaN    2.0    NaN   ...        2.0      1.0      2.0      2.0   \n",
       "\n",
       "        P8_13_8E  P8_14  P8_15  CD_ENDUTIH  ENT FAC_PER  \n",
       "UPM                                                      \n",
       "100008       NaN    1.0    1.0        14.0    1     618  \n",
       "100008       NaN    NaN    NaN        14.0    1     222  \n",
       "100008       NaN    NaN    NaN        14.0    1     342  \n",
       "100008       NaN    1.0    1.0        14.0    1     148  \n",
       "100008       NaN    1.0    1.0        14.0    1     148  \n",
       "\n",
       "[5 rows x 105 columns]"
      ]
     },
     "execution_count": 8,
     "metadata": {},
     "output_type": "execute_result"
    }
   ],
   "source": [
    "df_usuario_copy.head()"
   ]
  },
  {
   "cell_type": "code",
   "execution_count": 9,
   "metadata": {},
   "outputs": [],
   "source": [
    "for col in df_usuario_copy.columns:\n",
    "    try:\n",
    "        df_usuario_copy[col].fillna(value='99', inplace=True)\n",
    "    except:\n",
    "        pass"
   ]
  },
  {
   "cell_type": "markdown",
   "metadata": {},
   "source": [
    "### Exploracion de la columna P7_16_2\n",
    "exceso de información no deseada?\n",
    "\n",
    "    1 Sí\n",
    "    2 No\n",
    "    99 blanco"
   ]
  },
  {
   "cell_type": "code",
   "execution_count": 10,
   "metadata": {
    "scrolled": true
   },
   "outputs": [
    {
     "data": {
      "text/plain": [
       "2.0    65368\n",
       "99     47601\n",
       "1.0    22372\n",
       "Name: P7_16_2, dtype: int64"
      ]
     },
     "execution_count": 10,
     "metadata": {},
     "output_type": "execute_result"
    }
   ],
   "source": [
    "df_usuario_copy.P7_16_2= df_usuario_copy.P7_16_2.astype('category')\n",
    "df_usuario_copy.P7_16_2.value_counts()"
   ]
  },
  {
   "cell_type": "code",
   "execution_count": 11,
   "metadata": {},
   "outputs": [],
   "source": [
    "dicc_P7_16_2={2:'2',1:'1'}"
   ]
  },
  {
   "cell_type": "code",
   "execution_count": 12,
   "metadata": {},
   "outputs": [
    {
     "data": {
      "text/plain": [
       "2     65368\n",
       "99    47601\n",
       "1     22372\n",
       "Name: P7_16_2, dtype: int64"
      ]
     },
     "execution_count": 12,
     "metadata": {},
     "output_type": "execute_result"
    }
   ],
   "source": [
    "df_usuario_copy.P7_16_2.replace(dicc_P7_16_2,inplace=True)\n",
    "df_usuario_copy.P7_16_2.value_counts()"
   ]
  },
  {
   "cell_type": "markdown",
   "metadata": {},
   "source": [
    "### Exploracion de la columna P7_16_3\n",
    "interrupciones en el servicio?\n",
    "\n",
    "    1 Sí\n",
    "    2 No\n",
    "    b blanco"
   ]
  },
  {
   "cell_type": "code",
   "execution_count": 13,
   "metadata": {},
   "outputs": [
    {
     "data": {
      "text/plain": [
       "2.0    53369\n",
       "99     47601\n",
       "1.0    34371\n",
       "Name: P7_16_3, dtype: int64"
      ]
     },
     "execution_count": 13,
     "metadata": {},
     "output_type": "execute_result"
    }
   ],
   "source": [
    "df_usuario_copy.P7_16_3=df_usuario_copy.P7_16_3.astype('category')\n",
    "df_usuario_copy.P7_16_3.value_counts()"
   ]
  },
  {
   "cell_type": "code",
   "execution_count": 14,
   "metadata": {},
   "outputs": [
    {
     "data": {
      "text/plain": [
       "2     53369\n",
       "99    47601\n",
       "1     34371\n",
       "Name: P7_16_3, dtype: int64"
      ]
     },
     "execution_count": 14,
     "metadata": {},
     "output_type": "execute_result"
    }
   ],
   "source": [
    "df_usuario_copy.P7_16_3.replace(dicc_P7_16_2,inplace=True)\n",
    "df_usuario_copy.P7_16_3.value_counts()"
   ]
  },
  {
   "cell_type": "markdown",
   "metadata": {},
   "source": [
    "### Exploracion de la columna P7_16_4\n",
    "lentitud en la transferencia de la información?\n",
    "\n",
    "    1 Sí\n",
    "    2 No\n",
    "    b blanco"
   ]
  },
  {
   "cell_type": "code",
   "execution_count": 15,
   "metadata": {},
   "outputs": [
    {
     "data": {
      "text/plain": [
       "99     47601\n",
       "1.0    47155\n",
       "2.0    40585\n",
       "Name: P7_16_4, dtype: int64"
      ]
     },
     "execution_count": 15,
     "metadata": {},
     "output_type": "execute_result"
    }
   ],
   "source": [
    "df_usuario_copy.P7_16_4=df_usuario_copy.P7_16_4.astype('category')\n",
    "df_usuario_copy.P7_16_4.value_counts()"
   ]
  },
  {
   "cell_type": "code",
   "execution_count": 16,
   "metadata": {},
   "outputs": [
    {
     "data": {
      "text/plain": [
       "99    47601\n",
       "1     47155\n",
       "2     40585\n",
       "Name: P7_16_4, dtype: int64"
      ]
     },
     "execution_count": 16,
     "metadata": {},
     "output_type": "execute_result"
    }
   ],
   "source": [
    "df_usuario_copy.P7_16_4.replace(dicc_P7_16_2,inplace=True)\n",
    "df_usuario_copy.P7_16_4.value_counts()"
   ]
  },
  {
   "cell_type": "markdown",
   "metadata": {},
   "source": [
    "### Exploracion de la columna P7_16_5\n",
    "fraudes con información (financiera, personal, etc.)?\n",
    "\n",
    "    1 Sí\n",
    "    2 No\n",
    "    b blanco"
   ]
  },
  {
   "cell_type": "code",
   "execution_count": 17,
   "metadata": {},
   "outputs": [
    {
     "data": {
      "text/plain": [
       "2.0    84367\n",
       "99     47601\n",
       "1.0     3373\n",
       "Name: P7_16_5, dtype: int64"
      ]
     },
     "execution_count": 17,
     "metadata": {},
     "output_type": "execute_result"
    }
   ],
   "source": [
    "df_usuario_copy.P7_16_5=df_usuario_copy.P7_16_5.astype('category')\n",
    "df_usuario_copy.P7_16_5.value_counts()"
   ]
  },
  {
   "cell_type": "code",
   "execution_count": 18,
   "metadata": {},
   "outputs": [
    {
     "data": {
      "text/plain": [
       "2     84367\n",
       "99    47601\n",
       "1      3373\n",
       "Name: P7_16_5, dtype: int64"
      ]
     },
     "execution_count": 18,
     "metadata": {},
     "output_type": "execute_result"
    }
   ],
   "source": [
    "df_usuario_copy.P7_16_5.replace(dicc_P7_16_2,inplace=True)\n",
    "df_usuario_copy.P7_16_5.value_counts()"
   ]
  },
  {
   "cell_type": "markdown",
   "metadata": {},
   "source": [
    "### Exploracion de la columna P7_16_6\n",
    " violación a la privacidad?\n",
    "\n",
    "    1 Sí\n",
    "    2 No\n",
    "    b blanco"
   ]
  },
  {
   "cell_type": "code",
   "execution_count": 19,
   "metadata": {},
   "outputs": [
    {
     "data": {
      "text/plain": [
       "2.0    84488\n",
       "99     47601\n",
       "1.0     3252\n",
       "Name: P7_16_6, dtype: int64"
      ]
     },
     "execution_count": 19,
     "metadata": {},
     "output_type": "execute_result"
    }
   ],
   "source": [
    "df_usuario_copy.P7_16_6=df_usuario_copy.P7_16_6.astype('category')\n",
    "df_usuario_copy.P7_16_6.value_counts()"
   ]
  },
  {
   "cell_type": "code",
   "execution_count": 20,
   "metadata": {},
   "outputs": [
    {
     "data": {
      "text/plain": [
       "2     84488\n",
       "99    47601\n",
       "1      3252\n",
       "Name: P7_16_6, dtype: int64"
      ]
     },
     "execution_count": 20,
     "metadata": {},
     "output_type": "execute_result"
    }
   ],
   "source": [
    "df_usuario_copy.P7_16_6.replace(dicc_P7_16_2,inplace=True)\n",
    "df_usuario_copy.P7_16_6.value_counts()"
   ]
  },
  {
   "cell_type": "code",
   "execution_count": 21,
   "metadata": {},
   "outputs": [
    {
     "data": {
      "text/plain": [
       "(135341, 105)"
      ]
     },
     "execution_count": 21,
     "metadata": {},
     "output_type": "execute_result"
    }
   ],
   "source": [
    "df_usuario_copy.shape"
   ]
  },
  {
   "cell_type": "code",
   "execution_count": 22,
   "metadata": {},
   "outputs": [
    {
     "data": {
      "text/html": [
       "<div>\n",
       "<style scoped>\n",
       "    .dataframe tbody tr th:only-of-type {\n",
       "        vertical-align: middle;\n",
       "    }\n",
       "\n",
       "    .dataframe tbody tr th {\n",
       "        vertical-align: top;\n",
       "    }\n",
       "\n",
       "    .dataframe thead th {\n",
       "        text-align: right;\n",
       "    }\n",
       "</style>\n",
       "<table border=\"1\" class=\"dataframe\">\n",
       "  <thead>\n",
       "    <tr style=\"text-align: right;\">\n",
       "      <th></th>\n",
       "      <th>P7_16_2</th>\n",
       "      <th>P7_16_3</th>\n",
       "      <th>P7_16_4</th>\n",
       "      <th>P7_16_5</th>\n",
       "      <th>P7_16_6</th>\n",
       "      <th>P7_16_7</th>\n",
       "      <th>P7_16_8</th>\n",
       "      <th>P7_16_8E</th>\n",
       "      <th>P7_17</th>\n",
       "      <th>P7_18</th>\n",
       "      <th>...</th>\n",
       "      <th>P8_13_5</th>\n",
       "      <th>P8_13_6</th>\n",
       "      <th>P8_13_7</th>\n",
       "      <th>P8_13_8</th>\n",
       "      <th>P8_13_8E</th>\n",
       "      <th>P8_14</th>\n",
       "      <th>P8_15</th>\n",
       "      <th>CD_ENDUTIH</th>\n",
       "      <th>ENT</th>\n",
       "      <th>FAC_PER</th>\n",
       "    </tr>\n",
       "    <tr>\n",
       "      <th>UPM</th>\n",
       "      <th></th>\n",
       "      <th></th>\n",
       "      <th></th>\n",
       "      <th></th>\n",
       "      <th></th>\n",
       "      <th></th>\n",
       "      <th></th>\n",
       "      <th></th>\n",
       "      <th></th>\n",
       "      <th></th>\n",
       "      <th></th>\n",
       "      <th></th>\n",
       "      <th></th>\n",
       "      <th></th>\n",
       "      <th></th>\n",
       "      <th></th>\n",
       "      <th></th>\n",
       "      <th></th>\n",
       "      <th></th>\n",
       "      <th></th>\n",
       "      <th></th>\n",
       "    </tr>\n",
       "  </thead>\n",
       "  <tbody>\n",
       "    <tr>\n",
       "      <th>100008</th>\n",
       "      <td>2</td>\n",
       "      <td>2</td>\n",
       "      <td>2</td>\n",
       "      <td>2</td>\n",
       "      <td>2</td>\n",
       "      <td>2</td>\n",
       "      <td>2</td>\n",
       "      <td>99</td>\n",
       "      <td>2</td>\n",
       "      <td>99</td>\n",
       "      <td>...</td>\n",
       "      <td>2</td>\n",
       "      <td>1</td>\n",
       "      <td>1</td>\n",
       "      <td>2</td>\n",
       "      <td>99</td>\n",
       "      <td>1</td>\n",
       "      <td>1</td>\n",
       "      <td>14</td>\n",
       "      <td>1</td>\n",
       "      <td>618</td>\n",
       "    </tr>\n",
       "    <tr>\n",
       "      <th>100008</th>\n",
       "      <td>99</td>\n",
       "      <td>99</td>\n",
       "      <td>99</td>\n",
       "      <td>99</td>\n",
       "      <td>99</td>\n",
       "      <td>99</td>\n",
       "      <td>99</td>\n",
       "      <td>99</td>\n",
       "      <td>99</td>\n",
       "      <td>99</td>\n",
       "      <td>...</td>\n",
       "      <td>99</td>\n",
       "      <td>99</td>\n",
       "      <td>99</td>\n",
       "      <td>99</td>\n",
       "      <td>99</td>\n",
       "      <td>99</td>\n",
       "      <td>99</td>\n",
       "      <td>14</td>\n",
       "      <td>1</td>\n",
       "      <td>222</td>\n",
       "    </tr>\n",
       "    <tr>\n",
       "      <th>100008</th>\n",
       "      <td>2</td>\n",
       "      <td>2</td>\n",
       "      <td>2</td>\n",
       "      <td>2</td>\n",
       "      <td>2</td>\n",
       "      <td>2</td>\n",
       "      <td>2</td>\n",
       "      <td>99</td>\n",
       "      <td>2</td>\n",
       "      <td>99</td>\n",
       "      <td>...</td>\n",
       "      <td>99</td>\n",
       "      <td>99</td>\n",
       "      <td>99</td>\n",
       "      <td>99</td>\n",
       "      <td>99</td>\n",
       "      <td>99</td>\n",
       "      <td>99</td>\n",
       "      <td>14</td>\n",
       "      <td>1</td>\n",
       "      <td>342</td>\n",
       "    </tr>\n",
       "    <tr>\n",
       "      <th>100008</th>\n",
       "      <td>2</td>\n",
       "      <td>2</td>\n",
       "      <td>2</td>\n",
       "      <td>2</td>\n",
       "      <td>2</td>\n",
       "      <td>2</td>\n",
       "      <td>2</td>\n",
       "      <td>99</td>\n",
       "      <td>2</td>\n",
       "      <td>99</td>\n",
       "      <td>...</td>\n",
       "      <td>2</td>\n",
       "      <td>1</td>\n",
       "      <td>2</td>\n",
       "      <td>2</td>\n",
       "      <td>99</td>\n",
       "      <td>1</td>\n",
       "      <td>1</td>\n",
       "      <td>14</td>\n",
       "      <td>1</td>\n",
       "      <td>148</td>\n",
       "    </tr>\n",
       "    <tr>\n",
       "      <th>100008</th>\n",
       "      <td>2</td>\n",
       "      <td>2</td>\n",
       "      <td>1</td>\n",
       "      <td>2</td>\n",
       "      <td>2</td>\n",
       "      <td>2</td>\n",
       "      <td>2</td>\n",
       "      <td>99</td>\n",
       "      <td>2</td>\n",
       "      <td>99</td>\n",
       "      <td>...</td>\n",
       "      <td>2</td>\n",
       "      <td>1</td>\n",
       "      <td>2</td>\n",
       "      <td>2</td>\n",
       "      <td>99</td>\n",
       "      <td>1</td>\n",
       "      <td>1</td>\n",
       "      <td>14</td>\n",
       "      <td>1</td>\n",
       "      <td>148</td>\n",
       "    </tr>\n",
       "  </tbody>\n",
       "</table>\n",
       "<p>5 rows × 105 columns</p>\n",
       "</div>"
      ],
      "text/plain": [
       "       P7_16_2 P7_16_3 P7_16_4 P7_16_5 P7_16_6 P7_16_7 P7_16_8 P7_16_8E P7_17  \\\n",
       "UPM                                                                             \n",
       "100008       2       2       2       2       2       2       2       99     2   \n",
       "100008      99      99      99      99      99      99      99       99    99   \n",
       "100008       2       2       2       2       2       2       2       99     2   \n",
       "100008       2       2       2       2       2       2       2       99     2   \n",
       "100008       2       2       1       2       2       2       2       99     2   \n",
       "\n",
       "       P7_18   ...   P8_13_5 P8_13_6 P8_13_7 P8_13_8 P8_13_8E P8_14 P8_15  \\\n",
       "UPM            ...                                                          \n",
       "100008    99   ...         2       1       1       2       99     1     1   \n",
       "100008    99   ...        99      99      99      99       99    99    99   \n",
       "100008    99   ...        99      99      99      99       99    99    99   \n",
       "100008    99   ...         2       1       2       2       99     1     1   \n",
       "100008    99   ...         2       1       2       2       99     1     1   \n",
       "\n",
       "       CD_ENDUTIH ENT FAC_PER  \n",
       "UPM                            \n",
       "100008         14   1     618  \n",
       "100008         14   1     222  \n",
       "100008         14   1     342  \n",
       "100008         14   1     148  \n",
       "100008         14   1     148  \n",
       "\n",
       "[5 rows x 105 columns]"
      ]
     },
     "execution_count": 22,
     "metadata": {},
     "output_type": "execute_result"
    }
   ],
   "source": [
    "df_usuario_copy.head()"
   ]
  },
  {
   "cell_type": "code",
   "execution_count": 23,
   "metadata": {},
   "outputs": [
    {
     "data": {
      "text/plain": [
       "<bound method IndexOpsMixin.value_counts of UPM\n",
       "100008     99\n",
       "100008     99\n",
       "100008     99\n",
       "100008     99\n",
       "100008     99\n",
       "100008     99\n",
       "100008     99\n",
       "100010     99\n",
       "100010     99\n",
       "100010     99\n",
       "100010     99\n",
       "100010     99\n",
       "100014     99\n",
       "100014     99\n",
       "100014     99\n",
       "100014     99\n",
       "100014     99\n",
       "100025     99\n",
       "100025     99\n",
       "100025     99\n",
       "100025     99\n",
       "100025     99\n",
       "100025     99\n",
       "100025     99\n",
       "100027     99\n",
       "100027     99\n",
       "100027     99\n",
       "100027     99\n",
       "100040     99\n",
       "100040     99\n",
       "           ..\n",
       "3160498    99\n",
       "3160498    99\n",
       "3160501    99\n",
       "3160501    99\n",
       "3160501    99\n",
       "3160510    99\n",
       "3160510    99\n",
       "3200433    99\n",
       "3200633    99\n",
       "3200633    99\n",
       "3200772    99\n",
       "3200778    99\n",
       "3200820    99\n",
       "3200857    99\n",
       "3200911    99\n",
       "3200925    99\n",
       "3200925    99\n",
       "3200956    99\n",
       "3200956    99\n",
       "3201008    99\n",
       "3201015    99\n",
       "3260011    99\n",
       "3260115    99\n",
       "3260115    99\n",
       "3260115    99\n",
       "3260115    99\n",
       "3260115    99\n",
       "3260140    99\n",
       "3260380    99\n",
       "3260583    99\n",
       "Name: P7_16_8E, Length: 135341, dtype: category\n",
       "Categories (65, object): [99, ACCESARON A SU CUENTA, ANUNCIOS, BLOQUEO DE CUENTAS, ..., TRABAJO, VER VIDEOS, VIDEOS DE PERSONAS VIOLENTAS, VIOLACION DE CODIGO EN LA NUBE]>"
      ]
     },
     "execution_count": 23,
     "metadata": {},
     "output_type": "execute_result"
    }
   ],
   "source": [
    "df_usuario_copy.P7_16_8E=df_usuario_copy.P7_16_8E.astype('category')\n",
    "df_usuario_copy.P7_16_8E.value_counts"
   ]
  },
  {
   "cell_type": "code",
   "execution_count": 24,
   "metadata": {},
   "outputs": [],
   "source": [
    "df_usuario_copy.drop('P7_16_8E',axis=1,inplace=True)"
   ]
  },
  {
   "cell_type": "code",
   "execution_count": 25,
   "metadata": {},
   "outputs": [
    {
     "data": {
      "text/plain": [
       "99     126418\n",
       "2.0      7004\n",
       "1.0      1919\n",
       "Name: P7_18, dtype: int64"
      ]
     },
     "execution_count": 25,
     "metadata": {},
     "output_type": "execute_result"
    }
   ],
   "source": [
    "df_usuario_copy.P7_18=df_usuario_copy.P7_18.astype('category')\n",
    "df_usuario_copy.P7_18.value_counts()"
   ]
  },
  {
   "cell_type": "code",
   "execution_count": 26,
   "metadata": {},
   "outputs": [
    {
     "data": {
      "text/plain": [
       "99                                                                   132370\n",
       "ES MENOR DE EDAD                                                        193\n",
       "NO TIENE DINERO                                                         143\n",
       "NO LE GUSTA                                                             109\n",
       "MENOR DE EDAD                                                            55\n",
       "FALTA DE RECURSOS ECONOMICOS                                             38\n",
       "FALTA DE DINERO                                                          33\n",
       "POR SER MENOR DE EDAD                                                    33\n",
       "NO LE DAN PERMISO                                                        31\n",
       "POR LA EDAD                                                              30\n",
       "FALTA DE RECURSOS                                                        30\n",
       "POR QUE ES MENOR DE EDAD                                                 26\n",
       "POR SU EDAD                                                              23\n",
       "POR FALTA DE RECURSOS                                                    21\n",
       "NO TIENE LA EDAD                                                         20\n",
       "NO TIENE TIEMPO                                                          20\n",
       "NO LO DEJAN                                                              19\n",
       "NO TIENE PERMISO                                                         18\n",
       "NO TIENE EDAD                                                            18\n",
       "NO HAY DINERO                                                            17\n",
       "POR QUE NO TIENE DINERO                                                  17\n",
       "NO LE LLAMA LA ATENCION                                                  16\n",
       "NO LA DEJAN                                                              15\n",
       "PORQUE ES MENOR DE EDAD                                                  15\n",
       "ES UN MENOR DE EDAD                                                      15\n",
       "PORQUE NO TIENE DINERO                                                   15\n",
       "POR FALTA DE RECURSOS ECONOMICOS                                         14\n",
       "NO LO DEJAN SUS PAPAS                                                    13\n",
       "POR FALTA DE TIEMPO                                                      11\n",
       "ES MENOR                                                                 11\n",
       "                                                                      ...  \n",
       "POR LA EDASD NO TIENE AUTORIZACION                                        1\n",
       "POR LA EDEAD                                                              1\n",
       "POR LA FALTA DE RECURSOS.                                                 1\n",
       "POR LA LEJANIA DE SU LOCALIDAD                                            1\n",
       "POR LA LOCACION NO LLEGAN                                                 1\n",
       "POR EL PROBLEMA VISUAL                                                    1\n",
       "POR EL MOMENTO NO TIENE RECURSOS ECONOMICOS PARA REALIZARL                1\n",
       "POR EL COSTO                                                              1\n",
       "PODRIAN SER FRAUDES                                                       1\n",
       "PARA NO ENDEUDARSE                                                        1\n",
       "PELIGRO QUE SE ENFRENTA                                                   1\n",
       "PERDIO LA CONTRASEÑA DE MERCADO LIBRE Y DESDE AHI NO HACE COMPRAS         1\n",
       "PERSONA MENOR DE EDAD                                                     1\n",
       "PIENSA QUE ES UN FRAUDE                                                   1\n",
       "PIENSA QUE SON FRAUDES                                                    1\n",
       "PO EL COSTO ADICIONAL DEL ENVIO                                           1\n",
       "PO FALTA DE RECURSO ECONOMICOS                                            1\n",
       "POCO USO DE INTERNET                                                      1\n",
       "POE QUWE ES MENOR DE EDAD                                                 1\n",
       "POR EDAD NO TIENE PERMITIDO                                               1\n",
       "POIRQUE NO TIENE DINERO                                                   1\n",
       "POQUE ES MENOR DE EDAD                                                    1\n",
       "POR ALTA DE RECURSOS                                                      1\n",
       "POR CUESTION ECONOMICA                                                    1\n",
       "POR DEPOSITO QUE PIDEN                                                    1\n",
       "POR DIFICULTAD DE PAQUETERIA                                              1\n",
       "POR DINERO                                                                1\n",
       "POR ECONOMIA                                                              1\n",
       "POR EDAD NO CONSENTIMIENTO DE PADRES                                      1\n",
       " ES MENOR                                                                 1\n",
       "Name: P7_20_8E, Length: 1673, dtype: int64"
      ]
     },
     "execution_count": 26,
     "metadata": {},
     "output_type": "execute_result"
    }
   ],
   "source": [
    "df_usuario_copy.P7_20_8E=df_usuario_copy.P7_20_8E.astype('category')\n",
    "df_usuario_copy.P7_20_8E.value_counts()"
   ]
  },
  {
   "cell_type": "code",
   "execution_count": 27,
   "metadata": {},
   "outputs": [],
   "source": [
    "df_usuario_copy.drop('P7_20_8E',axis=1, inplace=True)"
   ]
  },
  {
   "cell_type": "code",
   "execution_count": 28,
   "metadata": {},
   "outputs": [
    {
     "data": {
      "text/plain": [
       "99     117688\n",
       "5.0      6674\n",
       "6.0      4627\n",
       "4.0      4583\n",
       "3.0       850\n",
       "2.0       750\n",
       "1.0       169\n",
       "Name: P7_21, dtype: int64"
      ]
     },
     "execution_count": 28,
     "metadata": {},
     "output_type": "execute_result"
    }
   ],
   "source": [
    "df_usuario_copy.P7_21=df_usuario_copy.P7_21.astype('category')\n",
    "df_usuario_copy.P7_21.value_counts()"
   ]
  },
  {
   "cell_type": "code",
   "execution_count": 29,
   "metadata": {},
   "outputs": [
    {
     "data": {
      "text/plain": [
       "99                                                          128844\n",
       "ROPA                                                          1480\n",
       "ARTICULOS PERSONALES                                           187\n",
       "JUGUETES                                                        98\n",
       "ZAPATOS                                                         89\n",
       "UBER                                                            83\n",
       "ROPA Y ZAPATOS                                                  80\n",
       "SERVICIO DE UBER                                                67\n",
       "MUEBLES                                                         61\n",
       "COSMETICOS                                                      61\n",
       "ROPA Y CALZADO                                                  53\n",
       "ROPA Y ACCESORIOS                                               52\n",
       "TENIS                                                           47\n",
       "ACCESORIOS                                                      44\n",
       "PRODUCTOS DE BELLEZA                                            41\n",
       "CALZADO                                                         38\n",
       "SERVICIO UBER                                                   36\n",
       "MAQUILLAJE                                                      35\n",
       "ROPA ZAPATOS                                                    34\n",
       "COSAS PERSONALES                                                32\n",
       "HERRAMIENTAS                                                    32\n",
       "ACCESORIOS PERSONALES                                           31\n",
       "PRODUCTOS PERSONALES                                            29\n",
       "JUEGOS                                                          29\n",
       "REFACCIONES                                                     28\n",
       "VIDEOJUEGOS                                                     28\n",
       "CELULAR                                                         26\n",
       "ARTICULOS DEPORTIVOS                                            26\n",
       "PRENDAS DE VESTIR                                               24\n",
       "VIDEO JUEGOS                                                    23\n",
       "                                                             ...  \n",
       "PIEZAS DE BICICLETAS                                             1\n",
       "PIEZAS DE CARRO.                                                 1\n",
       "PIEZAS DE CARROS                                                 1\n",
       "PIEZAS DE CELULARES                                              1\n",
       "PIEZAS DE COCHES                                                 1\n",
       "PIEZAS DE MOTOCICLETA                                            1\n",
       "PIEZAS ELECTRICAS Y REFACCIONES                                  1\n",
       "PIEZAS ELECTRONICAS                                              1\n",
       "PIEZAS ELECTRONICAS PARA NEGOCIO                                 1\n",
       "PIEZAS METALICAS                                                 1\n",
       "PIEZAS PARA AUTO                                                 1\n",
       "PIEZAS PARA AUTOMOVIL PROPIO                                     1\n",
       "PIEZAS PARA AUTOS                                                1\n",
       "PIEZAS PARA CAMIONES                                             1\n",
       "PIEZAZ DE MOTOR                                                  1\n",
       "PIEZAS PARA CARROS Y LLANTAS                                     1\n",
       "PIEZAS PARA CELULARES                                            1\n",
       "PIEZAS PARA COCHES                                               1\n",
       "PIEZAS PARA EQUIPO DE COMPUTO                                    1\n",
       "PIEZAS PARA LAPTOP                                               1\n",
       "PIEZAS PARA MAQUINAS                                             1\n",
       "PIEZAS PARA MOTO                                                 1\n",
       "PIEZAS PARA MOTOS                                                1\n",
       "PIEZAS PARA REFACCIONES                                          1\n",
       "PIEZAS PARA REPARACION EN GENERAL DE CELULARES PANTALLAS         1\n",
       "PIEZAS PARA SU AUTOMOVIL                                         1\n",
       "PIEZAS PARA VEHICULOS                                            1\n",
       "PIEZAS PARAAUTOS                                                 1\n",
       "PIEZAS Y HERRAMIENTAS MECANICAS                                  1\n",
       " DIVERSOS ACCESORIOS                                             1\n",
       "Name: P7_22_8E, Length: 2430, dtype: int64"
      ]
     },
     "execution_count": 29,
     "metadata": {},
     "output_type": "execute_result"
    }
   ],
   "source": [
    "df_usuario_copy.P7_22_8E=df_usuario_copy.P7_22_8E.astype('category')\n",
    "df_usuario_copy.P7_22_8E.value_counts()"
   ]
  },
  {
   "cell_type": "code",
   "execution_count": 30,
   "metadata": {},
   "outputs": [],
   "source": [
    "df_usuario_copy.drop('P7_22_8E',axis=1,inplace=True)"
   ]
  },
  {
   "cell_type": "code",
   "execution_count": 31,
   "metadata": {},
   "outputs": [
    {
     "data": {
      "text/plain": [
       "99     117688\n",
       "1.0     11360\n",
       "3.0      4249\n",
       "2.0      1912\n",
       "9.0       132\n",
       "Name: P7_23, dtype: int64"
      ]
     },
     "execution_count": 31,
     "metadata": {},
     "output_type": "execute_result"
    }
   ],
   "source": [
    "df_usuario_copy.P7_23= df_usuario_copy.P7_23.astype('category')\n",
    "df_usuario_copy.P7_23.value_counts()"
   ]
  },
  {
   "cell_type": "code",
   "execution_count": 32,
   "metadata": {},
   "outputs": [
    {
     "data": {
      "text/plain": [
       "99                                                                                                135155\n",
       "CALIDAD DEL PRODUCTO                                                                                   3\n",
       "CON EL PRODUCTO                                                                                        3\n",
       "RELACIONADO CON EL PRODUCTO                                                                            2\n",
       "NO LLEGO EL PRODUCTO                                                                                   2\n",
       "LA CALIDAD DEL PRODUCTO                                                                                2\n",
       "CON EL BANCO                                                                                           2\n",
       "PRODUCTO DEFECTUOSO                                                                                    2\n",
       "ES MUY CARO SERVICIO DE ENTREGA                                                                        1\n",
       "ERROR DEL SERVIDOR DONDE COMPRA                                                                        1\n",
       "ERROR DE FECHA DE RESERVACION DE HOSEDAJE                                                              1\n",
       "EQUIPO DAÑADO                                                                                          1\n",
       "EN MAL ESTADO EL PRODUCTO                                                                              1\n",
       "EN LA ENTREGA                                                                                          1\n",
       "EN CUANTO AL COBRO ERA MAS DE LO QUE LE HABIAN DICHO                                                   1\n",
       "EN EL FUNCIONAMIENTO DE EQUIPO ELECTRONICO                                                             1\n",
       "EL TIEMPO DE ENTREGA                                                                                   1\n",
       "EL SERVICIO ES MUY LENTO                                                                               1\n",
       "EL SEGURO NO QUERIA HACERSE CARGO DE UNAS FACTURAS HOSPITALARIAS.                                      1\n",
       "EL PRODUCTO RESULTO SER ROBADO                                                                         1\n",
       "EL PRODUCTO QUE COMPRO NO ENCENDIA PERO LO REGRESO Y QUEDARON DE VOLVERSELO A MANDAR                   1\n",
       "EL PRODUCTO NOERA LO QUE ESPERABA                                                                      1\n",
       "EL PRODUCTO NO SIRVIO                                                                                  1\n",
       "EL PRODUCTO NO SERVIA                                                                                  1\n",
       "EL PRODUCTO NO HAY EN EXISTENCIA                                                                       1\n",
       "ESTABA BLOQUEADO EL APARATO ELECTRONICO                                                                1\n",
       "FALLA DE MERCANCIA                                                                                     1\n",
       "ESTADO DEL PRODUCTO                                                                                    1\n",
       "FALLA  DEL SISTEMA DE QUIEN GENERO LA VENTA                                                            1\n",
       "LE COBRARON DE MAS LO QUE ERA                                                                          1\n",
       "                                                                                                   ...  \n",
       "N FUNCIONO EL ARTICULO YA QUE ERA UN PROGRAMA                                                          1\n",
       "MI TARJETA ESTA VENCIDA                                                                                1\n",
       "MARCA FRAUDULENTA O PRODUCTO PIRATA                                                                    1\n",
       "MANDO EL DINERO Y NO LLEGO EL PRODUCTO                                                                 1\n",
       "MALA CALIDAD DEL PRODUCTO Y TARDANZA ENLA ENTREGA                                                      1\n",
       "MALA CALIDAD                                                                                           1\n",
       "LE QUISIERON ESTAFAR CON UN IFON                                                                       1\n",
       "NO LE COMENTARON DE LAS FALLAS DEL PRODUCTO                                                            1\n",
       "NO LLEGA A TIEMPO                                                                                      1\n",
       "PIEZAS CON FALLAS                                                                                      1\n",
       "NO SERVIA EL PRODUCTO                                                                                  1\n",
       "PARA REALIZAR TRAMITE                                                                                  1\n",
       "PAGO EN INTERNET PERO NO SE VIO REFLEJADO SU PAGO                                                      1\n",
       "PAGINAS QUE OFERTAN QUE NO DEJAN TERMINAR LA COMPRA                                                    1\n",
       "OBJETO DEFECTUOSO                                                                                      1\n",
       "NO TUVO RESPUESTA  LA GARANTIA                                                                         1\n",
       "NO TENIAN EL PRODUCTO DE SU PREFERENCIA                                                                1\n",
       "NO SIRVIO LO QUE COMPRO                                                                                1\n",
       "NO SEV CONCRETO LA COMPRA PORQUE TUVO UN FALLO                                                         1\n",
       "NO SE RECONOCIA SUS DATOS                                                                              1\n",
       "NO PRENDIA EL TELEFONO QUE COMPRO.                                                                     1\n",
       "NO SE REALIZA LA TRANSACCION                                                                           1\n",
       "NO SE PERMITIO REALIZAR LA COMPRA                                                                      1\n",
       "NO RESPETARON LA CANCELACION DEL PRODUCTO                                                              1\n",
       "NO RECONOCIAN EL PAGO                                                                                  1\n",
       "NO RECIBIO EL PRODUCTO EOERADO                                                                         1\n",
       "NO RECIBIO E PRODUCTO                                                                                  1\n",
       "NO PUEDE INGRESAR CAMBIARON LA PAGINA Y NO PUEDE INGRESAR PARA HACER SU PEDIDO                         1\n",
       "NO PUDO CONCRETAR LA COMPRA POR UN PROBLEMA CON LA TARJETA                                             1\n",
       "LE MANDARON UN COLOR DIFERENTE AL SOLICITADO Y OTRA COMPRA QUE HIZO ESTUVO FALLADO EL ARTICULO         1\n",
       "Name: P7_25_4E, Length: 178, dtype: int64"
      ]
     },
     "execution_count": 32,
     "metadata": {},
     "output_type": "execute_result"
    }
   ],
   "source": [
    "df_usuario_copy.P7_25_4E=df_usuario_copy.P7_25_4E.astype('category')\n",
    "df_usuario_copy.P7_25_4E.value_counts()"
   ]
  },
  {
   "cell_type": "code",
   "execution_count": 33,
   "metadata": {},
   "outputs": [],
   "source": [
    "df_usuario_copy.drop('P7_25_4E',axis=1,inplace=True)"
   ]
  },
  {
   "cell_type": "code",
   "execution_count": 34,
   "metadata": {},
   "outputs": [
    {
     "data": {
      "text/plain": [
       "99                                                       134660\n",
       "NO LE GUSTA                                                  42\n",
       "NO LE INTERESA                                               36\n",
       "NO TIENE DINERO                                              14\n",
       "ES MENOR DE EDAD                                              9\n",
       "NO TIENE TIEMPO                                               6\n",
       "NO HA COMPRADO NADA                                           5\n",
       "NO ME GUSTA                                                   5\n",
       "NO TIENE DEUDAS                                               5\n",
       "NO LE LLAMA LA ATENCION                                       4\n",
       "POR QUE ES MENOR DE EDAD                                      4\n",
       "FALTA DE TIEMPO                                               4\n",
       "FALTA DE RECURSOS ECONOMICOS                                  4\n",
       "LO REALIZA OTRA PERSONA                                       4\n",
       "NO LE GUSTA COMPRAR POR INTERNET                              3\n",
       "POR SER MENOR DE EDAD                                         3\n",
       "LO HACE SU ESPOSO                                             3\n",
       "NO COMPRA NADA                                                3\n",
       "NO LE GUSTA.                                                  3\n",
       "LO REALIZA SU ESPOSO                                          3\n",
       "POR FALTA DE TIEMPO                                           3\n",
       "LOS PAGOS LOS REALIZA SU ESPOSO                               3\n",
       "MENOR DE EDAD                                                 3\n",
       "FALTA DE INTERES                                              2\n",
       "PORQUE NO HACE COMPRAS                                        2\n",
       "FALTA DE RECURSOS                                             2\n",
       "PORQUE SOY MENOR DE EDAD                                      2\n",
       "NO HA COMPRADO                                                2\n",
       "POR SEGURIDAD                                                 2\n",
       "PORQUE NO HA COMPRADO NADA                                    2\n",
       "                                                          ...  \n",
       "NO USA TARJETA NO HAY SISTEMA                                 1\n",
       "NO USA TARJETA                                                1\n",
       "NO TIENE NINGUN PAGO POR HACER                                1\n",
       "NO TIENE EL RECURSO                                           1\n",
       "NO TIENE ESA CULTURA                                          1\n",
       "NO TIENE INTERNET EN CASA PARA REALZAR PAGOS                  1\n",
       "NO TIENE INTERNET EN SU HOGAR                                 1\n",
       "NO TIENE LA EDAD NECESARIA ESO ES LO QUE EL CONSIDERA         1\n",
       "NO TIENE LA EDAD PARA MANEJAR TARJETAS                        1\n",
       "NO TIENE LA EDAD PARA REALIZARLOS                             1\n",
       "NO TIENE LA EDAD SUFICIENTE                                   1\n",
       "NO TIENE LA EDAD TODAVIA                                      1\n",
       "NO TIENE LOS INGRESOS NECESARIOS                              1\n",
       "NO TIENE NADA QUE PAGAR                                       1\n",
       "NO TIENE NECESIDAD DE HACERLO                                 1\n",
       "NO TIENE NINGUNA COMPRA O DEUDA POR INTERNET                  1\n",
       "NO TIENES CUENTA                                              1\n",
       "NO TIENE PAGOS QUE HACER                                      1\n",
       "NO TIENE PERMISO                                              1\n",
       "NO TIENE PERMISO DE SU MAMA                                   1\n",
       "NO TIENE PERMISO DE SUS PAPAS                                 1\n",
       "NO TIENE RECURSOS ECONOMICOS                                  1\n",
       "NO TIENE SERVICIO PARA PAGAR POR INTERNET                     1\n",
       "NO TIENE TARJETAS                                             1\n",
       "NO TIENE TIEMPO DE HACERLO                                    1\n",
       "NO TIENE TIEMPO POR QUE ES  MUY DESESPERADO                   1\n",
       "NO TIENE UNA RAZON PARA NO HACERLO                            1\n",
       "NO TIENEN LA POSIBILIDAD ECONOMICA                            1\n",
       "NO TIENEN SOLVENCIA ECONOMICA                                 1\n",
       " NO HE REALIZADO NINGUNA COMPA                                1\n",
       "Name: P7_27E, Length: 510, dtype: int64"
      ]
     },
     "execution_count": 34,
     "metadata": {},
     "output_type": "execute_result"
    }
   ],
   "source": [
    "df_usuario_copy.P7_27E=df_usuario_copy.P7_27E.astype('category')\n",
    "df_usuario_copy.P7_27E.value_counts()"
   ]
  },
  {
   "cell_type": "code",
   "execution_count": 35,
   "metadata": {},
   "outputs": [],
   "source": [
    "df_usuario_copy.drop('P7_27E',axis=1,inplace=True)"
   ]
  },
  {
   "cell_type": "code",
   "execution_count": 36,
   "metadata": {},
   "outputs": [
    {
     "data": {
      "text/plain": [
       "99                                                                 135151\n",
       "UBER                                                                   13\n",
       "NETFLIX                                                                 6\n",
       "BOLETOS DE AVION                                                        5\n",
       "PAGO DE NETFLIX                                                         5\n",
       "PAGO DE TELEFONO                                                        4\n",
       "VIAJES                                                                  4\n",
       "SERVICIO UBER                                                           3\n",
       "PAGO DE CELULAR                                                         2\n",
       "OXXO                                                                    2\n",
       "RECARGAS DE TIEMPO AIRE                                                 2\n",
       "BOLETOS DE CINE                                                         2\n",
       "PAGO NETFLIX                                                            2\n",
       "BOLETO DE AVION                                                         2\n",
       "BOLETOS DE AUTOBUS Y HOTELES                                            1\n",
       "FLORES Y DETALLES                                                       1\n",
       "HIPOTECA Y INTERNAL REVENEU SERVICE                                     1\n",
       "HTRANSFERENCIAS                                                         1\n",
       "JUEGOS                                                                  1\n",
       "JUEGOS EN LINEA                                                         1\n",
       "MENCIONA AQUE FUE UN DONATIVO                                           1\n",
       "MENSUALIDADES DE SERVIDORES                                             1\n",
       "MERCADO PAGO SOBRE ACCESORIOS DE CELULAR                                1\n",
       "NEFLIX                                                                  1\n",
       "ARTICULOS DE USO PRESONAL                                               1\n",
       "NETFLYX                                                                 1\n",
       "NEXFLIS                                                                 1\n",
       "NO ESPECIFICA                                                           1\n",
       "NO HACE                                                                 1\n",
       "NO SE ACUERDA                                                           1\n",
       "                                                                    ...  \n",
       "PARA PAGAR HOSTING WEB Y VPS                                            1\n",
       "PARA MI NEGOCIO                                                         1\n",
       "PAGOS POR LA VENTA  DE CALZADO                                          1\n",
       "PAGOS DE TELEFONO PARA SU TRABAJO                                       1\n",
       "PAGOS DE SERVICIOS DEL HOGAR                                            1\n",
       "PAGOS DE RECIBOS                                                        1\n",
       "PAGOS AL GOB IERNO                                                      1\n",
       "PAGOS  PERSONALES                                                       1\n",
       "PAGO UNA APLICACION PARA EL CELULAR                                     1\n",
       "PAGO RENTA DEL TELEFONO                                                 1\n",
       "PAGO POR SPOTY FIVE                                                     1\n",
       "POR USO DE PUBLICDA PARA SU ACTIVIDA ECONOMICA                          1\n",
       "POR VIAJES                                                              1\n",
       "POR VUELOS                                                              1\n",
       "RECARGAS DE TIEMPO AIRE POR INTERNET                                    1\n",
       "SE HIZO DEPOSITO EN EFECTIVO EN  TIENDA DE CONVENIENCIA                 1\n",
       "ROPA ZAPATOS ARTICULOS PARA EJERCICIO CREMAS FACIALES NATURALES         1\n",
       "ROPA                                                                    1\n",
       "RESERVACION DE VUELO                                                    1\n",
       "RENTA DE HOTEL                                                          1\n",
       "RENTA                                                                   1\n",
       "RECARGAS DE TELEFONO                                                    1\n",
       "PRODUCTOS DE SALUD                                                      1\n",
       "RECARGAS DE CEL                                                         1\n",
       "RECARGA MOVIL                                                           1\n",
       "RECARGA DE CELULAR                                                      1\n",
       "PUBLICIDAD PARA SU NEGOCIO                                              1\n",
       "PROVEEDORES EN EL TRABAJO                                               1\n",
       "PRODUCTOS PARA LA SALUD                                                 1\n",
       "PAGO POR LAS COMPRAS DE INSTRUMENTOS MUICALE                            1\n",
       "Name: P7_29_6E, Length: 152, dtype: int64"
      ]
     },
     "execution_count": 36,
     "metadata": {},
     "output_type": "execute_result"
    }
   ],
   "source": [
    "df_usuario_copy.P7_29_6E=df_usuario_copy.P7_29_6E.astype('category')\n",
    "df_usuario_copy.P7_29_6E.value_counts()"
   ]
  },
  {
   "cell_type": "code",
   "execution_count": 37,
   "metadata": {},
   "outputs": [],
   "source": [
    "df_usuario_copy.drop('P7_29_6E',axis=1, inplace=True)"
   ]
  },
  {
   "cell_type": "code",
   "execution_count": 38,
   "metadata": {},
   "outputs": [
    {
     "data": {
      "text/plain": [
       "99                                                                         134979\n",
       "EFECTIVO                                                                      102\n",
       "EN EFECTIVO                                                                    19\n",
       "DEPOSITO                                                                       14\n",
       "DEPOSITO BANCARIO                                                              10\n",
       "OXXO                                                                            9\n",
       "DEPOSITO EN OXXO                                                                7\n",
       "PAGO EN OXXO                                                                    6\n",
       "PAGO EN EFECTIVO                                                                6\n",
       "PERSONAL                                                                        4\n",
       "DEPOSITOS                                                                       4\n",
       "DEPOSITO EN EFECTIVO                                                            3\n",
       "TARJETA DE GOOGLE PLAY                                                          2\n",
       "SE PAGO EN EFECTIVO                                                             2\n",
       "DEPOSITO A CUENTA EN OXXO                                                       2\n",
       "PAGO CONTRA ENTREGA                                                             2\n",
       "DEPOSITOS OXXO                                                                  2\n",
       "DEPOSITO OXXO                                                                   2\n",
       "EN EFECTIVO EN OXXO                                                             2\n",
       "TARJETAS DE REGALO                                                              2\n",
       "PAGO POR EFECTIVO                                                               2\n",
       "TARJETA DE PREPAGO                                                              2\n",
       "POR EL OXXO                                                                     2\n",
       "DEPOSITOS EN EFECTIVO                                                           2\n",
       "DOMICILIADO                                                                     1\n",
       "EBANS                                                                           1\n",
       "EFECTIVO ATRAVES DE LA CUENTA QUE LE PROPORCIONARON                             1\n",
       "EFECTIVO DEPOSITOS                                                              1\n",
       "DIRECTO A TIENDA                                                                1\n",
       "EFECTIVO EN OXXO O UN BANCO                                                     1\n",
       "                                                                            ...  \n",
       "LINEA DE PAGO DE LA ESCUELA                                                     1\n",
       "LE DIERON UNA CUENTA Y SA ESA DEPOSITO                                          1\n",
       "LE DIERON CODIGO EN LA PAGINA DE INTERNET Y PAGO EN EFECTIVO EN UN OXXO         1\n",
       "LA TARJETA DE CREDITO ES DE LA EMPRESA.                                         1\n",
       "USA LA TARJETA DE SU PAPA                                                       1\n",
       "IBANX                                                                           1\n",
       "I TUNES                                                                         1\n",
       "HIZO EL TRATO POR INTERNET Y PAGO EN PERSONA                                    1\n",
       "PAGA EN EL CAJERO DEL BANCO O CAJA                                              1\n",
       "PAGAR EN EL OXXO   PAGOS ENEFECTVOS                                             1\n",
       "POR CAJERO EN EFECTIVO                                                          1\n",
       "PAGO BANCARIO                                                                   1\n",
       "PERSONALMENTE PAGO                                                              1\n",
       "PERSONALMENTE                                                                   1\n",
       "PERSONA A PERSONA EFECTIVO                                                      1\n",
       "PAGOS EN OXXO                                                                   1\n",
       "PAGOS EN EL OXXO                                                                1\n",
       "PAGO REFERENCIADO                                                               1\n",
       "PAGO POR OXXO                                                                   1\n",
       "PAGO EN VENTANILLA DEL BANCO                                                    1\n",
       "PAGO EN VENTANILLA DE BANCO                                                     1\n",
       "PAGO EN TIENDA DE AUTOSERVICIO CON PAGO A CUENTA DE COMPRA                      1\n",
       "PAGO EN PERSONA DIRECTA                                                         1\n",
       "PAGO EN OXXO LE MANDAN UN CODIGO                                                1\n",
       "PAGO EN FARMACIAS                                                               1\n",
       "PAGO EN EFECTIVO SU REFRIGERACION                                               1\n",
       "PAGO EN EFECTIVO AL RECIBIR EL PRODUCTO                                         1\n",
       "PAGO DE OXXO                                                                    1\n",
       "PAGO DE IMPUESROS                                                               1\n",
       " EN EFECTIVO EN TIENDAS DE AUTO SERVICIO OXXO                                   1\n",
       "Name: P7_30_5E, Length: 178, dtype: int64"
      ]
     },
     "execution_count": 38,
     "metadata": {},
     "output_type": "execute_result"
    }
   ],
   "source": [
    "df_usuario_copy.P7_30_5E=df_usuario_copy.P7_30_5E.astype('category')\n",
    "df_usuario_copy.P7_30_5E.value_counts()"
   ]
  },
  {
   "cell_type": "code",
   "execution_count": 39,
   "metadata": {},
   "outputs": [],
   "source": [
    "df_usuario_copy.drop('P7_30_5E', axis=1,inplace=True)"
   ]
  },
  {
   "cell_type": "code",
   "execution_count": 40,
   "metadata": {},
   "outputs": [
    {
     "data": {
      "text/plain": [
       "99                                                        135249\n",
       "RETIROS                                                        5\n",
       "PAGO DE TARJETA DE CREDITO                                     3\n",
       "DEPOSITOS                                                      3\n",
       "PAGO DE TARJETA                                                2\n",
       "PAGO DE IMPUESTOS                                              2\n",
       "PAGOS DE TARJETA DE CREDITO                                    2\n",
       "PAGOS DE TARJETAS DE CREDITO                                   2\n",
       "PAGO DE NOMINA                                                 2\n",
       "IMPUESTOS FEDERALES Y ESTATALES                                1\n",
       "IMPRESION DE ESTADOS DE CUENTA TRAMITACION DE CHEQUES          1\n",
       "DOMICILIACION                                                  1\n",
       "ESTADOS DE CUENTA MENSUALES                                    1\n",
       "NO QUISO DECIR CUALES                                          1\n",
       "NO QUISOPROPORCIONAR INFORMACION                               1\n",
       "ESTADOS DE CUENTA                                              1\n",
       "ESTADO DE CUENTA                                               1\n",
       "ESPAIN                                                         1\n",
       "INFORMACIONSOBRE RECLAMODE SALDP                               1\n",
       "INVERSIONES                                                    1\n",
       "DOSITOS Y TRANSFERENCIAS                                       1\n",
       "DONATIVOS                                                      1\n",
       "MOVIMIENTOS DE SU TARJETA Y COMPRAS                            1\n",
       "DEPOSITO                                                       1\n",
       "DESACTIVAR COMPRAS EN LINEA                                    1\n",
       "COMPRA DE ARTICULOS PARA HOGAR                                 1\n",
       "ABONOS A DEUDAS COMO TARJETAS DEPOSITOS                        1\n",
       "ADQUISICION DE SEGUROS                                         1\n",
       "AVISO DE MOVIMIENTOS DE ESTADO                                 1\n",
       "BANCOMER                                                       1\n",
       "                                                           ...  \n",
       "POR SERICIOS DE PAGO EN LA NUBE                                1\n",
       "PRESTAMO PERSONAL                                              1\n",
       "RECIBIR NOTIFICACIONES DE MOVIMIENTOS EN SU TARJETA            1\n",
       "RENOVACION DE PRESTAMOS PERSONA                                1\n",
       "RETIRO DE DINERO                                               1\n",
       "RETIRO DE DINERO CON CLAVE PERSONAL                            1\n",
       "RETIRO SIN TARGETA                                             1\n",
       "RETIRO SIN TARJETA                                             1\n",
       "RETIROS  DE DINERO                                             1\n",
       "RETIROS BANCARIOS                                              1\n",
       "SOBRE INVERSIONES                                              1\n",
       "PAGOS DE SERVICIOS PUBLICOS                                    1\n",
       "PAGOS DE IMPUESTOS                                             1\n",
       "PAGOS DE GOBIERNOS                                             1\n",
       "PAGO DE LAS COMPRAS POR INTERNET                               1\n",
       "PAGO A TARJETA DE CREDITO DEPOSITO POR ALGUN PRESTAMO.         1\n",
       "SPEI TARJETAS DE CRDEDITO                                      1\n",
       "PAGO DE CARGOS A LA TARJETA DE CREDITO                         1\n",
       "PAGO DE COLEGIATURAS                                           1\n",
       "PAGO DE COMPRAS COMERCIALES                                    1\n",
       "PAGO DE ESCUELA                                                1\n",
       "PAGO DE TAGETAS                                                1\n",
       "PAGOS DE CURSOS Y SERVICIOS                                    1\n",
       "PAGO DE TARJETAS                                               1\n",
       "PAGO DE TENENCIA                                               1\n",
       "PAGOS A LA TARJETA DE CREDITO                                  1\n",
       "PAGOS A PROVEEDORES                                            1\n",
       "PAGOS AL BANCO.                                                1\n",
       "PAGOS DE COLEGIATURA                                           1\n",
       "PAGO DE BOLETOS DE AVION                                       1\n",
       "Name: P7_32_5E, Length: 80, dtype: int64"
      ]
     },
     "execution_count": 40,
     "metadata": {},
     "output_type": "execute_result"
    }
   ],
   "source": [
    "df_usuario_copy.P7_32_5E=df_usuario_copy.P7_32_5E.astype('category')\n",
    "df_usuario_copy.P7_32_5E.value_counts()"
   ]
  },
  {
   "cell_type": "code",
   "execution_count": 41,
   "metadata": {},
   "outputs": [],
   "source": [
    "df_usuario_copy.drop('P7_32_5E',axis=1,inplace=True)"
   ]
  },
  {
   "cell_type": "code",
   "execution_count": 42,
   "metadata": {},
   "outputs": [
    {
     "data": {
      "text/plain": [
       "99                                                                      135226\n",
       "PARA ENTRETENIMIENTO                                                         4\n",
       "CURP                                                                         3\n",
       "INFONAVIT                                                                    3\n",
       "ENTRETENIMIENTO                                                              2\n",
       "NINGUNA                                                                      2\n",
       "ESCUELA                                                                      2\n",
       "DECLARACION DE IMPUESTOS                                                     2\n",
       "CONSULTAR INFORMACION DE LA ESCUELA (SICRES)                                 1\n",
       "CONSULTAR RECIBOS DE LA CFE                                                  1\n",
       "CONSULTAR SUS PUNTOS EN INFONAVIT                                            1\n",
       "CONSULTAS DE NO INFRACCIONES VEHICULARES                                     1\n",
       "CONSULTO INFORMACION DE LAS PLACAS Y EL PREDIAL.                             1\n",
       "CONTESTO EXAMEN EN ITEA ATRAVEZ DE INTERNET                                  1\n",
       "CORRESPONDENCIA DOCUMENTAL                                                   1\n",
       "CREDENCIAL DE ELECTOR                                                        1\n",
       "DESCARGA IMAGENES RASTER Y TOPOGRAFICAS DEL INEGI                            1\n",
       "DCONSULTA DE NOTICIAS                                                        1\n",
       "DESCARGA RECIBOS DEE PAGO PORQUE TRABAJA EN DEPENDENCI GUBERNAMENTAL         1\n",
       "DESCARGAR ACUERDOS DEL CONGRESO                                              1\n",
       "DESCARGAR HOJAS DE AYUDA PARA PAGO DE DERECHO.                               1\n",
       "DESCARGAR JUEGOS MUSICA                                                      1\n",
       "DESCARGAR TALONES DE PAGO DEL ISSSTE                                         1\n",
       "DREVISR SUS RECIBOS DE PGO                                                   1\n",
       "DUDAS  SOBREN  TRAITE DE VISA                                                1\n",
       "ENTRETENIENTO                                                                1\n",
       "CONSULTAR CURP                                                               1\n",
       "CONSULTAR CALIFICACIONES DE LA PREPARATORIA                                  1\n",
       "CONSULTA DE TENENCIA PREDIAL MULTAS                                          1\n",
       "CONSULTA DE PLACAS                                                           1\n",
       "                                                                         ...  \n",
       "TRAMITES DE INFONAVIT                                                        1\n",
       "USA SOLO  PARA REDES SOCIALES                                                1\n",
       "USOPAGINA DE GONIERNO PARA SACAR INFORMACION REFERENTE A UNA TAREA           1\n",
       "UTILIZAR REDES SOCIALES                                                      1\n",
       "REPORTAR ENFERMEDADES DE VIGILANCIA EPIDIOMOLOGICAS                          1\n",
       "REFRENDOS                                                                    1\n",
       "RECIBOS DE NOMINA                                                            1\n",
       "RECAUDANET                                                                   1\n",
       "HACIENDA                                                                     1\n",
       "INFOMEX O INFOSLP SOLICITUD DE INFORMACION                                   1\n",
       "INFORMACION SOBRE FRAUDES                                                    1\n",
       "INFORMACION SOBRE SALUD                                                      1\n",
       "INTERCCION COMPRANET                                                         1\n",
       "LLENADO DE ENCUESTA                                                          1\n",
       "NADA MAS PARA BAJAR LOS TALONES DE PAGO                                      1\n",
       "OTRA PERSONA LO RALIZO POR ELLA                                              1\n",
       "PAGO DE IMPUESTOS                                                            1\n",
       "PAGOS                                                                        1\n",
       "PARA OBTENER SU TARJETON DE JUBILADO                                         1\n",
       "PARA TAREAS Y ENTRETENIMIENTO                                                1\n",
       "PARA TRANITES LABORALES                                                      1\n",
       "PARA VENTAS                                                                  1\n",
       "PLACAS                                                                       1\n",
       "PLACAS DEL AUTO                                                              1\n",
       "PUBLICACION BANAVIM                                                          1\n",
       "QUEJA DE FALTA DE SERVICIOS                                                  1\n",
       "QUERIA ENTRAR A LA MARINA                                                    1\n",
       "REALIZAR FACTURAS                                                            1\n",
       "REALIZO LA PRIMARIA ABIERTA                                                  1\n",
       "GUARDERIA IMSS                                                               1\n",
       "Name: P7_33_5E, Length: 105, dtype: int64"
      ]
     },
     "execution_count": 42,
     "metadata": {},
     "output_type": "execute_result"
    }
   ],
   "source": [
    "df_usuario_copy.P7_33_5E=df_usuario_copy.P7_33_5E.astype('category')\n",
    "df_usuario_copy.P7_33_5E.value_counts()"
   ]
  },
  {
   "cell_type": "code",
   "execution_count": 43,
   "metadata": {},
   "outputs": [],
   "source": [
    "df_usuario_copy.drop('P7_33_5E',axis=1,inplace=True)"
   ]
  },
  {
   "cell_type": "code",
   "execution_count": 44,
   "metadata": {},
   "outputs": [
    {
     "data": {
      "text/plain": [
       "99                                                                 133266\n",
       "PAGO DE TENENCIA                                                       42\n",
       "INFONAVIT                                                              34\n",
       "TENENCIA                                                               27\n",
       "PLACAS                                                                 26\n",
       "TENENCIA VEHICULAR                                                     19\n",
       "CONSULTA DE INFORMACION                                                15\n",
       "PAGO DE TENENCIA VEHICULAR                                             10\n",
       "TRAMITES VEHICULARES                                                   10\n",
       "PAGO DE PREDIAL                                                        10\n",
       "DECLARACION PATRIMONIAL                                                 7\n",
       "NINGUNO                                                                 7\n",
       "BECAS                                                                   6\n",
       "CONSULTA DE PLACAS                                                      6\n",
       "SOLO INFORMACION                                                        6\n",
       "CONSULTA DE INFONAVIT                                                   5\n",
       "TRAMITE DE PLACAS                                                       5\n",
       "CONSULTA INFORMACION                                                    5\n",
       "PAGO DE REFRENDO                                                        4\n",
       "SOLICITUD DE BECAS                                                      4\n",
       "PREDIAL                                                                 4\n",
       "TRAMITES DE PLACAS                                                      4\n",
       "CONSULTAR INFORMACION                                                   4\n",
       "REVALIDACION VEHICULAR                                                  4\n",
       "TRAMITES DE INFONAVIT                                                   4\n",
       "PAGO TENENCIA                                                           4\n",
       "SOLO CONSULTA                                                           4\n",
       "PASAPORTE                                                               4\n",
       "CONTROL VEHICULAR                                                       4\n",
       "SEDESOL                                                                 4\n",
       "                                                                    ...  \n",
       "PENSION                                                                 1\n",
       "PERMANENCIA INFORMACIONDEL CONSULADO MEXICANO EN VELICE Y MIAMI         1\n",
       "PERMISO DE ELECTRONICO ETA                                              1\n",
       "PERMISO DE PESCA                                                        1\n",
       "PARA OBTENER SU TARJETON                                                1\n",
       "PARA LA VERIFICACION VEHICULAR                                          1\n",
       "PARA INFORMARSE SOBRE EL GOBIERNO                                       1\n",
       "PARA HACER TAREAS DE INVESTIGACION                                      1\n",
       "PAGOS DE SRVICIOS LUZ Y AGUA                                            1\n",
       "PAGOS DE TENENCI VEHICULAR                                              1\n",
       "PAGOS DE VEHICULO                                                       1\n",
       "PAGOS EN HACIENDA DE VEHICULO                                           1\n",
       "PAGOS PREDIAL AGUA Y TENENCIA                                           1\n",
       "PAGOS VEHICULARES CARTA DE ANTECEDENTES NO PENALES                      1\n",
       "PAGPREDIAL                                                              1\n",
       "PAQGO DEC AGUA                                                          1\n",
       "PARA ATENCION CIUDADANA RESPECTO A LA COLONIA                           1\n",
       "PARA BUSCAR INFORMACION SOBRE PROGRAMAS DE APOYO Y VIVIENDA.            1\n",
       "PARA BUSCAR SOBRE REFORMA EDUCATIVA                                     1\n",
       "PARA BUSCAR TRABAJO                                                     1\n",
       "PARA CITA EN EL SERVICIO NACIONAL DE EMPLEO                             1\n",
       "PARA CONSULTA DE INFORMACION                                            1\n",
       "PARA CONSULTAR ECAS                                                     1\n",
       "PARA CONSULTAR LA BOLSA DE TRABAJO DE GOBIERNO                          1\n",
       "PARA EL PAGO DE TENENCIA VEHICULAR                                      1\n",
       "PARA EL SEGURO SOCIAL                                                   1\n",
       "PARA ESTAR INFORMADA SOBREVEVENTOS                                      1\n",
       "PARA HABLAR CON GOBERNADOR                                              1\n",
       "PARA HACER RECLAMO AL GOBIERNO                                          1\n",
       " CONSULTQVDEBLNFORMACION DE PREDIAL                                     1\n",
       "Name: P7_34_4E, Length: 1714, dtype: int64"
      ]
     },
     "execution_count": 44,
     "metadata": {},
     "output_type": "execute_result"
    }
   ],
   "source": [
    "df_usuario_copy.P7_34_4E=df_usuario_copy.P7_34_4E.astype('category')\n",
    "df_usuario_copy.P7_34_4E.value_counts()"
   ]
  },
  {
   "cell_type": "code",
   "execution_count": 45,
   "metadata": {},
   "outputs": [],
   "source": [
    "df_usuario_copy.drop('P7_34_4E',axis=1,inplace=True)"
   ]
  },
  {
   "cell_type": "code",
   "execution_count": 46,
   "metadata": {},
   "outputs": [
    {
     "data": {
      "text/plain": [
       "99                                                                                        127675\n",
       "NO SABE UTILIZARLO                                                                           903\n",
       "NO SABE USARLO                                                                               564\n",
       "NO LE GUSTA                                                                                  251\n",
       "NO LO SABE USAR                                                                              174\n",
       "NO LO SABE UTILIZAR                                                                          137\n",
       "SE DESCOMPUSO                                                                                 64\n",
       "SE LE DESCOMPUSO                                                                              58\n",
       "NO LE INTERESA                                                                                57\n",
       "SE LO ROBARON                                                                                 42\n",
       "POR SU EDAD                                                                                   34\n",
       "ES MENOR DE EDAD                                                                              33\n",
       "NO LE SABE                                                                                    32\n",
       "POR LA EDAD                                                                                   31\n",
       "SE LE PERDIO                                                                                  31\n",
       "LO PERDIO                                                                                     30\n",
       "NO SABE UTILIZARLO.                                                                           30\n",
       "NO LE GUSTA USARLO                                                                            30\n",
       "NO SABE UTILIZAR                                                                              29\n",
       "POR SER MENOR DE EDAD                                                                         27\n",
       "NO LE GUSTA USAR CELULAR                                                                      27\n",
       "PORQUE ES MENOR DE EDAD                                                                       24\n",
       "NO SABE                                                                                       23\n",
       "PORQUE NO SABE UTILIZARLO                                                                     23\n",
       "NO TIENE                                                                                      22\n",
       "NO LE ENTIENDE                                                                                21\n",
       "NO LE LLAMA LA ATENCION                                                                       20\n",
       "NO SABE LEER                                                                                  20\n",
       "NO LE HAN COMPRADO                                                                            20\n",
       "NO SABE UTILIZARLA                                                                            18\n",
       "                                                                                           ...  \n",
       "POR SER MUY PEQUEÑA AUN                                                                        1\n",
       "POR SU EDAD NO TIENE UN CELULAR                                                                1\n",
       "POR SU EDAD NO TIENE UN CELULAR. SOLO SE LO PRESTAN                                            1\n",
       "POR SU EDAD NO UTILIZA CELULAR                                                                 1\n",
       "POR SU ENFERMEDAD DE CEGUERA NO PUEDE VER LOS NUMEROS NI MANIOBRAR EL TELEFONO                 1\n",
       "PORE QUE TIENE UNO PERO TODAVIA NO SE LO ARREGLAN                                              1\n",
       "POR UNA DISCAPCIDAD NO SABE UTILZAR EL CELULAR                                                 1\n",
       "POR UNA DISCAPACIDAD EN EL OJO.                                                                1\n",
       "POR UN INCIDENTE DEJO DE FUNCIONAR HA UN MES. ACTUALMENTE NO LO UTILIZA                        1\n",
       "POR UE ESTOY CHIQUITA                                                                          1\n",
       "POR TU EDD                                                                                     1\n",
       "POR SUS PAPAS NO LO DEJAN                                                                      1\n",
       "POR SU VISTA TIENE DIABETES                                                                    1\n",
       "POR SU SITUACION FISICA Y ADEMAS TIENE TELEFONO FIJO                                           1\n",
       "POR SU PEQUEÑA EDAD                                                                            1\n",
       "POR SU ENFERMEDAD DE MEOPIA SEVERA NO USA EL CELULAR YA QUE MANIFIESTA  QUE NO VE BIEN         1\n",
       "POR SU EDAD. Y HASTA QUE TENGA 10 AÑOS                                                         1\n",
       "POR SU EDAD SU MADRE DETERMINAQUE NO TENGA                                                     1\n",
       "POR SU EDAD YA NO LE INTERESA NI LE HACE FALTA USARLO                                          1\n",
       "POR SU EDAD Y POR FALTA DE RECURSOS ECONOMICOS.                                                1\n",
       "POR SU EDAD Y NO SABE UTILIZARLO                                                               1\n",
       "POR SU EDAD Y ANALFABETISMO NO LO NECESITA                                                     1\n",
       "POR SU EDAD TODAVIA NO LE PERMITEN USAR CELULAR                                                1\n",
       "POR SU EDAD SUS PAPAS NO LE PERMITEN EL USO                                                    1\n",
       "POR SU EDAD SUS PAPAS NO LA DEJAN TENER UNO                                                    1\n",
       "POR SU EDAD SUS PAPA NO LE DAN PERMISOO DE TENER UNO                                           1\n",
       "POR SU EDAD SUS PADRES NO LE PERMITEN UTIILIZARLO                                              1\n",
       "POR SU EDAD SUS PADRES NO LE PERMITEN TENER UN TELEFONO                                        1\n",
       "POR SU EDAD SUS PADRES CONSIDERAN Q NO LO REQUIERE Y MEJOR LE PRESTAN EL DE ELLOS              1\n",
       " AUN SOY MENOR DE EDAD Y MIS PAPAS NO ME COMPRAN                                               1\n",
       "Name: P8_2E, Length: 3884, dtype: int64"
      ]
     },
     "execution_count": 46,
     "metadata": {},
     "output_type": "execute_result"
    }
   ],
   "source": [
    "df_usuario_copy.P8_2E=df_usuario_copy.P8_2E.astype('category')\n",
    "df_usuario_copy.P8_2E.value_counts()"
   ]
  },
  {
   "cell_type": "code",
   "execution_count": 47,
   "metadata": {},
   "outputs": [],
   "source": [
    "df_usuario_copy.drop('P8_2E',axis=1,inplace=True)"
   ]
  },
  {
   "cell_type": "code",
   "execution_count": 48,
   "metadata": {
    "scrolled": true
   },
   "outputs": [
    {
     "data": {
      "text/plain": [
       "99     113969\n",
       "1.0     20996\n",
       "2.0       333\n",
       "9.0        25\n",
       "3.0        14\n",
       "4.0         3\n",
       "5.0         1\n",
       "Name: P8_4_1, dtype: int64"
      ]
     },
     "execution_count": 48,
     "metadata": {},
     "output_type": "execute_result"
    }
   ],
   "source": [
    "df_usuario_copy.P8_4_1=df_usuario_copy.P8_4_1.astype('category')\n",
    "df_usuario_copy.P8_4_1.value_counts()"
   ]
  },
  {
   "cell_type": "code",
   "execution_count": 49,
   "metadata": {},
   "outputs": [],
   "source": [
    "dicc_P8={9:99}\n",
    "df_usuario_copy.P8_4_1.replace(dicc_P8,inplace=True)"
   ]
  },
  {
   "cell_type": "code",
   "execution_count": 50,
   "metadata": {},
   "outputs": [
    {
     "data": {
      "text/plain": [
       "99    113994\n",
       "1      20996\n",
       "2        333\n",
       "3         14\n",
       "4          3\n",
       "5          1\n",
       "Name: P8_4_1, dtype: int64"
      ]
     },
     "execution_count": 50,
     "metadata": {},
     "output_type": "execute_result"
    }
   ],
   "source": [
    "df_usuario_copy.P8_4_1.value_counts()"
   ]
  },
  {
   "cell_type": "code",
   "execution_count": 51,
   "metadata": {},
   "outputs": [
    {
     "data": {
      "text/plain": [
       "99                                                   134554\n",
       "ANTIVIRUS                                                29\n",
       "EDITOR DE FOTOS                                          25\n",
       "EDITAR FOTOS                                             10\n",
       "EDITOR DE FOTOGRAFIAS                                     9\n",
       "MUSICA                                                    7\n",
       "EDICION DE FOTOS                                          7\n",
       "LA BIBLIA                                                 6\n",
       "TRADUCTOR                                                 5\n",
       "FOTOGRAFIA                                                5\n",
       "LIBROS                                                    5\n",
       "UBER                                                      5\n",
       "FOTOS                                                     5\n",
       "DEPORTES                                                  4\n",
       "PARA EDITAR FOTOS                                         4\n",
       "JUEGOS                                                    4\n",
       "NOTICIAS                                                  4\n",
       "SALUD                                                     4\n",
       "JW.ORG                                                    3\n",
       "OFFICE                                                    3\n",
       "NETFLIX                                                   3\n",
       "PINTEREST                                                 3\n",
       "BIBLIA                                                    3\n",
       "EDUCATIVAS                                                3\n",
       "SNAPCHAT                                                  3\n",
       "SCANER                                                    3\n",
       "CINEPOLIS                                                 3\n",
       "WHATSAP FACEBOOK                                          3\n",
       "PARA LEER LIBROS                                          3\n",
       "NOTICIEROS                                                2\n",
       "                                                      ...  \n",
       "PAGINAS EMERGENTES                                        1\n",
       "PAGASTAR DEVOLUCION DE DINERO TIENDAS COMERIALES          1\n",
       "OUTLOOK                                                   1\n",
       "OPPEN OFFICE                                              1\n",
       "PAQUETERIA OFFICE                                         1\n",
       "OPERA MINE                                                1\n",
       "OFICE                                                     1\n",
       "NUTRICIONALES Y DEPORTES                                  1\n",
       "NINGUNA                                                   1\n",
       "NFL                                                       1\n",
       "NETFLIX CLAROVIDEO                                        1\n",
       "PAQUETERIA DE OFFICE                                      1\n",
       "PAQUETERIA OFFICE RELOJ DE INTERVALOS                     1\n",
       "PARA DESCARGAR INFORMACION DE TORNEOS DE ROBOTICA         1\n",
       "PARA BUSCAR VIAJES Y VUELOS                               1\n",
       "PARA CUESTIONES DE SEGURIDAD                              1\n",
       "PARA CREAR DIBUJOS Y GRAFICOS                             1\n",
       "PARA CONTROL                                              1\n",
       "PARA CONSULTAS MEDICAS                                    1\n",
       "PARA COMPRAR ROPA Y CALZADO                               1\n",
       "PARA BUSQUEDA DE EMPLEOS                                  1\n",
       "PARA BAJAR MUSICA Y MESSANGER                             1\n",
       "PARA ABRIR PROGRAMAS COMPUTO                              1\n",
       "PARA APUESTAS                                             1\n",
       "PARA APRENDER IDIOMAS DUOLINGO                            1\n",
       "PARA ANTIVIRUS                                            1\n",
       "PARA AFINAR GUITARRA GUITAR TUNE                          1\n",
       "PARA ADMINISTRACION DE ACTIVIDADES DIVERSAS               1\n",
       "PARA ACCEDER A PLATAFORMAS EDUCATIVAS                     1\n",
       " DESCARGO LA APLICACION PINTERES                          1\n",
       "Name: P8_13_8E, Length: 611, dtype: int64"
      ]
     },
     "execution_count": 51,
     "metadata": {},
     "output_type": "execute_result"
    }
   ],
   "source": [
    "df_usuario_copy.P8_13_8E=df_usuario_copy.P8_13_8E.astype('category')\n",
    "df_usuario_copy.P8_13_8E.value_counts()"
   ]
  },
  {
   "cell_type": "code",
   "execution_count": 52,
   "metadata": {},
   "outputs": [],
   "source": [
    "df_usuario_copy.drop('P8_13_8E',axis=1,inplace=True)"
   ]
  },
  {
   "cell_type": "code",
   "execution_count": 53,
   "metadata": {},
   "outputs": [
    {
     "data": {
      "text/plain": [
       "100.0     32825\n",
       "99        32738\n",
       "200.0     17813\n",
       "50.0      13011\n",
       "150.0      5556\n",
       "300.0      4373\n",
       "20.0       3279\n",
       "400.0      2838\n",
       "500.0      2660\n",
       "30.0       2604\n",
       "9999.0     2244\n",
       "250.0      1694\n",
       "60.0       1170\n",
       "600.0      1072\n",
       "40.0        881\n",
       "120.0       875\n",
       "80.0        868\n",
       "350.0       758\n",
       "700.0       566\n",
       "1000.0      538\n",
       "800.0       492\n",
       "450.0       398\n",
       "10.0        331\n",
       "199.0       284\n",
       "0.0         236\n",
       "550.0       193\n",
       "1200.0      184\n",
       "249.0       171\n",
       "299.0       168\n",
       "399.0       159\n",
       "          ...  \n",
       "567.0         1\n",
       "515.0         1\n",
       "568.0         1\n",
       "573.0         1\n",
       "577.0         1\n",
       "579.0         1\n",
       "602.0         1\n",
       "617.0         1\n",
       "619.0         1\n",
       "521.0         1\n",
       "512.0         1\n",
       "448.0         1\n",
       "477.0         1\n",
       "454.0         1\n",
       "455.0         1\n",
       "457.0         1\n",
       "458.0         1\n",
       "467.0         1\n",
       "471.0         1\n",
       "476.0         1\n",
       "483.0         1\n",
       "511.0         1\n",
       "484.0         1\n",
       "485.0         1\n",
       "488.0         1\n",
       "491.0         1\n",
       "503.0         1\n",
       "508.0         1\n",
       "510.0         1\n",
       "428.0         1\n",
       "Name: P8_7, Length: 521, dtype: int64"
      ]
     },
     "execution_count": 53,
     "metadata": {},
     "output_type": "execute_result"
    }
   ],
   "source": [
    "df_usuario_copy.P8_7=df_usuario_copy.P8_7.astype('category')\n",
    "df_usuario_copy.P8_7.value_counts()"
   ]
  },
  {
   "cell_type": "code",
   "execution_count": 54,
   "metadata": {},
   "outputs": [],
   "source": [
    "##dicc_cel={\n",
    "    #0:0,1:0,2:0,3:0,4:0,5:0,6:0,7:0,8:0,9:0,10:0,11:0,12:0,13:0,14:0,15:0,16:0,17:0,18:0,19:0,20:0,21:0,22:0,23:0,24:0,25:0,26:0,27:0,28:0,29:0,30:0,31:0,32:0,33:0,34:0,35:0,36:0,37:0,38:0,39:0,40:0,41:0,42:0,43:0,44:0,45:0,46:0,47:0,48:0,49:0,50:0,51:0,52:0,53:0,54:0,55:0,56:0,57:0,58:0,59:0,60:0,61:0,62:0,63:0,64:0,65:0,66:0,67:0,68:0,69:0,70:0,71:0,72:0,73:0,74:0,75:0,76:0,77:0,78:0,79:0,80:0,81:0,82:0,83:0,84:0,85:0,86:0,87:0,88:0,89:0,90:0,91:0,92:0,93:0,94:0,95:0,96:0,97:0,98:0,99:0,100:0,101:0,102:0,103:0,104:0,105:0,106:0,107:0,108:0,109:0,110:0,111:0,112:0,113:0,114:0,115:0,116:0,117:0,118:0,119:0,120:0,121:0,122:0,123:0,124:0,125:0,126:0,127:0,128:0,129:0,130:0,131:0,132:0,133:0,134:0,135:0,136:0,137:0,138:0,139:0,140:0,141:0,142:0,143:0,144:0,145:0,146:0,147:0,148:0,149:0,150:0,151:0,152:0,153:0,154:0,155:0,156:0,157:0,158:0,159:0,160:0,161:0,162:0,163:0,164:0,165:0,166:0,167:0,168:0,169:0,170:0,171:0,172:0,173:0,174:0,175:0,176:0,177:0,178:0,179:0,180:0,181:0,182:0,183:0,184:0,185:0,186:0,187:0,188:0,189:0,190:0,191:0,192:0,193:0,194:0,195:0,196:0,197:0,198:0,199:0,200:0,201:0,202:0,203:0,204:0,205:0,206:0,207:0,208:0,209:0,210:0,211:0,212:0,213:0,214:0,215:0,216:0,217:0,218:0,219:0,220:0,221:0,222:0,223:0,224:0,225:0,226:0,227:0,228:0,229:0,230:0,231:0,232:0,233:0,234:0,235:0,236:0,237:0,238:0,239:0,240:0,241:0,242:0,243:0,244:0,245:0,246:0,247:0,248:0,249:0,250:0,251:0,252:0,253:0,254:0,255:0,256:0,257:0,258:0,259:0,260:0,261:0,262:0,263:0,264:0,265:0,266:0,267:0,268:0,269:0,270:0,271:0,272:0,273:0,274:0,275:0,276:0,277:0,278:0,279:0,280:0,281:0,282:0,283:0,284:0,285:0,286:0,287:0,288:0,289:0,290:0,291:0,292:0,293:0,294:0,295:0,296:0,297:0,298:0,299:0,300:0,301:0,302:0,303:0,304:0,305:0,306:0,307:0,308:0,309:0,310:0,311:0,312:0,313:0,314:0,315:0,316:0,317:0,318:0,319:0,320:0,321:0,322:0,323:0,324:0,325:0,326:0,327:0,328:0,329:0,330:0,331:0,332:0,333:0,334:0,335:0,336:0,337:0,338:0,339:0,340:0,341:0,342:0,343:0,344:0,345:0,346:0,347:0,348:0,349:0,350:0,351:0,352:0,353:0,354:0,355:0,356:0,357:0,358:0,359:0,360:0,361:0,362:0,363:0,364:0,365:0,366:0,367:0,368:0,369:0,370:0,371:0,372:0,373:0,374:0,375:0,376:0,377:0,378:0,379:0,380:0,381:0,382:0,383:0,384:0,385:0,386:0,387:0,388:0,389:0,390:0,391:0,392:0,393:0,394:0,395:0,396:0,397:0,398:0,399:0,400:0,401:0,402:0,403:0,404:0,405:0,406:0,407:0,408:0,409:0,410:0,411:0,412:0,413:0,414:0,415:0,416:0,417:0,418:0,419:0,420:0,421:0,422:0,423:0,424:0,425:0,426:0,427:0,428:0,429:0,430:0,431:0,432:0,433:0,434:0,435:0,436:0,437:0,438:0,439:0,440:0,441:0,442:0,443:0,444:0,445:0,446:0,447:0,448:0,449:0,450:0,451:0,452:0,453:0,454:0,455:0,456:0,457:0,458:0,459:0,460:0,461:0,462:0,463:0,464:0,465:0,466:0,467:0,468:0,469:0,470:0,471:0,472:0,473:0,474:0,475:0,476:0,477:0,478:0,479:0,480:0,481:0,482:0,483:0,484:0,485:0,486:0,487:0,488:0,489:0,490:0,491:0,492:0,493:0,494:0,495:0,496:0,497:0,498:0,499:0,500:0,501:0,502:0,503:0,504:0,505:0,506:0,507:0,508:0,509:0,510:0,511:0,512:0,513:0,514:0,515:0,516:0,517:0,518:0,519:0,520:0,521:0,522:0,523:0,524:0,525:0,526:0,527:0,528:0,529:0,530:0,531:0,532:0,533:0,534:0,535:0,536:0,537:0,538:0,539:0,540:0,541:0,542:0,543:0,544:0,545:0,546:0,547:0,548:0,549:0,550:0,551:0,552:0,553:0,554:0,555:0,556:0,557:0,558:0,559:0,560:0,561:0,562:0,563:0,564:0,565:0,566:0,567:0,568:0,569:0,570:0,571:0,572:0,573:0,574:0,575:0,576:0,577:0,578:0,579:0,580:0,581:0,582:0,583:0,584:0,585:0,586:0,587:0,588:0,589:0,590:0,591:0,592:0,593:0,594:0,595:0,596:0,597:0,598:0,599:0,600:0,601:0,602:0,603:0,604:0,605:0,606:0,607:0,608:0,609:0,610:0,611:0,612:0,613:0,614:0,615:0,616:0,617:0,618:0,619:0,620:0,621:0,622:0,623:0,624:0,625:0,626:0,627:0,628:0,629:0,630:0,631:0,632:0,633:0,634:0,635:0,636:0,637:0,638:0,639:0,640:0,641:0,642:0,643:0,644:0,645:0,646:0,647:0,648:0,649:0,650:0,651:0,652:0,653:0,654:0,655:0,656:0,657:0,658:0,659:0,660:0,661:0,662:0,663:0,664:0,665:0,666:0,667:0,668:0,669:0,670:0,671:0,672:0,673:0,674:0,675:0,676:0,677:0,678:0,679:0,680:0,681:0,682:0,683:0,684:0,685:0,686:0,687:0,688:0,689:0,690:0,691:0,692:0,693:0,694:0,695:0,696:0,697:0,698:0,699:0,700:0,701:0,702:0,703:0,704:0,705:0,706:0,707:0,708:0,709:0,710:0,711:0,712:0,713:0,714:0,715:0,716:0,717:0,718:0,719:0,720:0,721:0,722:0,723:0,724:0,725:0,726:0,727:0,728:0,729:0,730:0,731:0,732:0,733:0,734:0,735:0,736:0,737:0,738:0,739:0,740:0,741:0,742:0,743:0,744:0,745:0,746:0,747:0,748:0,749:0,750:0,751:0,752:0,753:0,754:0,755:0,756:0,757:0,758:0,759:0,760:0,761:0,762:0,763:0,764:0,765:0,766:0,767:0,768:0,769:0,770:0,771:0,772:0,773:0,774:0,775:0,776:0,777:0,778:0,779:0,780:0,781:0,782:0,783:0,784:0,785:0,786:0,787:0,788:0,789:0,790:0,791:0,792:0,793:0,794:0,795:0,796:0,797:0,798:0,799:0,800:0,801:0,802:0,803:0,804:0,805:0,806:0,807:0,808:0,809:0,810:0,811:0,812:0,813:0,814:0,815:0,816:0,817:0,818:0,819:0,820:0,821:0,822:0,823:0,824:0,825:0,826:0,827:0,828:0,829:0,830:0,831:0,832:0,833:0,834:0,835:0,836:0,837:0,838:0,839:0,840:0,841:0,842:0,843:0,844:0,845:0,846:0,847:0,848:0,849:0,850:0,851:0,852:0,853:0,854:0,855:0,856:0,857:0,858:0,859:0,860:0,861:0,862:0,863:0,864:0,865:0,866:0,867:0,868:0,869:0,870:0,871:0,872:0,873:0,874:0,875:0,876:0,877:0,878:0,879:0,880:0,881:0,882:0,883:0,884:0,885:0,886:0,887:0,888:0,889:0,890:0,891:0,892:0,893:0,894:0,895:0,896:0,897:0,898:0,899:0,900:0,901:0,902:0,903:0,904:0,905:0,906:0,907:0,908:0,909:0,910:0,911:0,912:0,913:0,914:0,915:0,916:0,917:0,918:0,919:0,920:0,921:0,922:0,923:0,924:0,925:0,926:0,927:0,928:0,929:0,930:0,931:0,932:0,933:0,934:0,935:0,936:0,937:0,938:0,939:0,940:0,941:0,942:0,943:0,944:0,945:0,946:0,947:0,948:0,949:0,950:0,951:0,952:0,953:0,954:0,955:0,956:0,957:0,958:0,959:0,960:0,961:0,962:0,963:0,964:0,965:0,966:0,967:0,968:0,969:0,970:0,971:0,972:0,973:0,974:0,975:0,976:0,977:0,978:0,979:0,980:0,981:0,982:0,983:0,984:0,985:0,986:0,987:0,988:0,989:0,990:0,991:0,992:0,993:0,994:0,995:0,996:0,997:0,998:0,999:0,\n",
    "    #1000:1000,1001:1000,1002:1000,1003:1000,1004:1000,1005:1000,1006:1000,1007:1000,1008:1000,1009:1000,1010:1000,1011:1000,1012:1000,1013:1000,1014:1000,1015:1000,1016:1000,1017:1000,1018:1000,1019:1000,1020:1000,1021:1000,1022:1000,1023:1000,1024:1000,1025:1000,1026:1000,1027:1000,1028:1000,1029:1000,1030:1000,1031:1000,1032:1000,1033:1000,1034:1000,1035:1000,1036:1000,1037:1000,1038:1000,1039:1000,1040:1000,1041:1000,1042:1000,1043:1000,1044:1000,1045:1000,1046:1000,1047:1000,1048:1000,1049:1000,1050:1000,1051:1000,1052:1000,1053:1000,1054:1000,1055:1000,1056:1000,1057:1000,1058:1000,1059:1000,1060:1000,1061:1000,1062:1000,1063:1000,1064:1000,1065:1000,1066:1000,1067:1000,1068:1000,1069:1000,1070:1000,1071:1000,1072:1000,1073:1000,1074:1000,1075:1000,1076:1000,1077:1000,1078:1000,1079:1000,1080:1000,1081:1000,1082:1000,1083:1000,1084:1000,1085:1000,1086:1000,1087:1000,1088:1000,1089:1000,1090:1000,1091:1000,1092:1000,1093:1000,1094:1000,1095:1000,1096:1000,1097:1000,1098:1000,1099:1000,1100:1000,1101:1000,1102:1000,1103:1000,1104:1000,1105:1000,1106:1000,1107:1000,1108:1000,1109:1000,1110:1000,1111:1000,1112:1000,1113:1000,1114:1000,1115:1000,1116:1000,1117:1000,1118:1000,1119:1000,1120:1000,1121:1000,1122:1000,1123:1000,1124:1000,1125:1000,1126:1000,1127:1000,1128:1000,1129:1000,1130:1000,1131:1000,1132:1000,1133:1000,1134:1000,1135:1000,1136:1000,1137:1000,1138:1000,1139:1000,1140:1000,1141:1000,1142:1000,1143:1000,1144:1000,1145:1000,1146:1000,1147:1000,1148:1000,1149:1000,1150:1000,1151:1000,1152:1000,1153:1000,1154:1000,1155:1000,1156:1000,1157:1000,1158:1000,1159:1000,1160:1000,1161:1000,1162:1000,1163:1000,1164:1000,1165:1000,1166:1000,1167:1000,1168:1000,1169:1000,1170:1000,1171:1000,1172:1000,1173:1000,1174:1000,1175:1000,1176:1000,1177:1000,1178:1000,1179:1000,1180:1000,1181:1000,1182:1000,1183:1000,1184:1000,1185:1000,1186:1000,1187:1000,1188:1000,1189:1000,1190:1000,1191:1000,1192:1000,1193:1000,1194:1000,1195:1000,1196:1000,1197:1000,1198:1000,1199:1000,1200:1000,1201:1000,1202:1000,1203:1000,1204:1000,1205:1000,1206:1000,1207:1000,1208:1000,1209:1000,1210:1000,1211:1000,1212:1000,1213:1000,1214:1000,1215:1000,1216:1000,1217:1000,1218:1000,1219:1000,1220:1000,1221:1000,1222:1000,1223:1000,1224:1000,1225:1000,1226:1000,1227:1000,1228:1000,1229:1000,1230:1000,1231:1000,1232:1000,1233:1000,1234:1000,1235:1000,1236:1000,1237:1000,1238:1000,1239:1000,1240:1000,1241:1000,1242:1000,1243:1000,1244:1000,1245:1000,1246:1000,1247:1000,1248:1000,1249:1000,1250:1000,1251:1000,1252:1000,1253:1000,1254:1000,1255:1000,1256:1000,1257:1000,1258:1000,1259:1000,1260:1000,1261:1000,1262:1000,1263:1000,1264:1000,1265:1000,1266:1000,1267:1000,1268:1000,1269:1000,1270:1000,1271:1000,1272:1000,1273:1000,1274:1000,1275:1000,1276:1000,1277:1000,1278:1000,1279:1000,1280:1000,1281:1000,1282:1000,1283:1000,1284:1000,1285:1000,1286:1000,1287:1000,1288:1000,1289:1000,1290:1000,1291:1000,1292:1000,1293:1000,1294:1000,1295:1000,1296:1000,1297:1000,1298:1000,1299:1000,1300:1000,1301:1000,1302:1000,1303:1000,1304:1000,1305:1000,1306:1000,1307:1000,1308:1000,1309:1000,1310:1000,1311:1000,1312:1000,1313:1000,1314:1000,1315:1000,1316:1000,1317:1000,1318:1000,1319:1000,1320:1000,1321:1000,1322:1000,1323:1000,1324:1000,1325:1000,1326:1000,1327:1000,1328:1000,1329:1000,1330:1000,1331:1000,1332:1000,1333:1000,1334:1000,1335:1000,1336:1000,1337:1000,1338:1000,1339:1000,1340:1000,1341:1000,1342:1000,1343:1000,1344:1000,1345:1000,1346:1000,1347:1000,1348:1000,1349:1000,1350:1000,1351:1000,1352:1000,1353:1000,1354:1000,1355:1000,1356:1000,1357:1000,1358:1000,1359:1000,1360:1000,1361:1000,1362:1000,1363:1000,1364:1000,1365:1000,1366:1000,1367:1000,1368:1000,1369:1000,1370:1000,1371:1000,1372:1000,1373:1000,1374:1000,1375:1000,1376:1000,1377:1000,1378:1000,1379:1000,1380:1000,1381:1000,1382:1000,1383:1000,1384:1000,1385:1000,1386:1000,1387:1000,1388:1000,1389:1000,1390:1000,1391:1000,1392:1000,1393:1000,1394:1000,1395:1000,1396:1000,1397:1000,1398:1000,1399:1000,1400:1000,1401:1000,1402:1000,1403:1000,1404:1000,1405:1000,1406:1000,1407:1000,1408:1000,1409:1000,1410:1000,1411:1000,1412:1000,1413:1000,1414:1000,1415:1000,1416:1000,1417:1000,1418:1000,1419:1000,1420:1000,1421:1000,1422:1000,1423:1000,1424:1000,1425:1000,1426:1000,1427:1000,1428:1000,1429:1000,1430:1000,1431:1000,1432:1000,1433:1000,1434:1000,1435:1000,1436:1000,1437:1000,1438:1000,1439:1000,1440:1000,1441:1000,1442:1000,1443:1000,1444:1000,1445:1000,1446:1000,1447:1000,1448:1000,1449:1000,1450:1000,1451:1000,1452:1000,1453:1000,1454:1000,1455:1000,1456:1000,1457:1000,1458:1000,1459:1000,1460:1000,1461:1000,1462:1000,1463:1000,1464:1000,1465:1000,1466:1000,1467:1000,1468:1000,1469:1000,1470:1000,1471:1000,1472:1000,1473:1000,1474:1000,1475:1000,1476:1000,1477:1000,1478:1000,1479:1000,1480:1000,1481:1000,1482:1000,1483:1000,1484:1000,1485:1000,1486:1000,1487:1000,1488:1000,1489:1000,1490:1000,1491:1000,1492:1000,1493:1000,1494:1000,1495:1000,1496:1000,1497:1000,1498:1000,1499:1000,1500:1000,1501:1000,1502:1000,1503:1000,1504:1000,1505:1000,1506:1000,1507:1000,1508:1000,1509:1000,1510:1000,1511:1000,1512:1000,1513:1000,1514:1000,1515:1000,1516:1000,1517:1000,1518:1000,1519:1000,1520:1000,1521:1000,1522:1000,1523:1000,1524:1000,1525:1000,1526:1000,1527:1000,1528:1000,1529:1000,1530:1000,1531:1000,1532:1000,1533:1000,1534:1000,1535:1000,1536:1000,1537:1000,1538:1000,1539:1000,1540:1000,1541:1000,1542:1000,1543:1000,1544:1000,1545:1000,1546:1000,1547:1000,1548:1000,1549:1000,1550:1000,1551:1000,1552:1000,1553:1000,1554:1000,1555:1000,1556:1000,1557:1000,1558:1000,1559:1000,1560:1000,1561:1000,1562:1000,1563:1000,1564:1000,1565:1000,1566:1000,1567:1000,1568:1000,1569:1000,1570:1000,1571:1000,1572:1000,1573:1000,1574:1000,1575:1000,1576:1000,1577:1000,1578:1000,1579:1000,1580:1000,1581:1000,1582:1000,1583:1000,1584:1000,1585:1000,1586:1000,1587:1000,1588:1000,1589:1000,1590:1000,1591:1000,1592:1000,1593:1000,1594:1000,1595:1000,1596:1000,1597:1000,1598:1000,1599:1000,1600:1000,1601:1000,1602:1000,1603:1000,1604:1000,1605:1000,1606:1000,1607:1000,1608:1000,1609:1000,1610:1000,1611:1000,1612:1000,1613:1000,1614:1000,1615:1000,1616:1000,1617:1000,1618:1000,1619:1000,1620:1000,1621:1000,1622:1000,1623:1000,1624:1000,1625:1000,1626:1000,1627:1000,1628:1000,1629:1000,1630:1000,1631:1000,1632:1000,1633:1000,1634:1000,1635:1000,1636:1000,1637:1000,1638:1000,1639:1000,1640:1000,1641:1000,1642:1000,1643:1000,1644:1000,1645:1000,1646:1000,1647:1000,1648:1000,1649:1000,1650:1000,1651:1000,1652:1000,1653:1000,1654:1000,1655:1000,1656:1000,1657:1000,1658:1000,1659:1000,1660:1000,1661:1000,1662:1000,1663:1000,1664:1000,1665:1000,1666:1000,1667:1000,1668:1000,1669:1000,1670:1000,1671:1000,1672:1000,1673:1000,1674:1000,1675:1000,1676:1000,1677:1000,1678:1000,1679:1000,1680:1000,1681:1000,1682:1000,1683:1000,1684:1000,1685:1000,1686:1000,1687:1000,1688:1000,1689:1000,1690:1000,1691:1000,1692:1000,1693:1000,1694:1000,1695:1000,1696:1000,1697:1000,1698:1000,1699:1000,1700:1000,1701:1000,1702:1000,1703:1000,1704:1000,1705:1000,1706:1000,1707:1000,1708:1000,1709:1000,1710:1000,1711:1000,1712:1000,1713:1000,1714:1000,1715:1000,1716:1000,1717:1000,1718:1000,1719:1000,1720:1000,1721:1000,1722:1000,1723:1000,1724:1000,1725:1000,1726:1000,1727:1000,1728:1000,1729:1000,1730:1000,1731:1000,1732:1000,1733:1000,1734:1000,1735:1000,1736:1000,1737:1000,1738:1000,1739:1000,1740:1000,1741:1000,1742:1000,1743:1000,1744:1000,1745:1000,1746:1000,1747:1000,1748:1000,1749:1000,1750:1000,1751:1000,1752:1000,1753:1000,1754:1000,1755:1000,1756:1000,1757:1000,1758:1000,1759:1000,1760:1000,1761:1000,1762:1000,1763:1000,1764:1000,1765:1000,1766:1000,1767:1000,1768:1000,1769:1000,1770:1000,1771:1000,1772:1000,1773:1000,1774:1000,1775:1000,1776:1000,1777:1000,1778:1000,1779:1000,1780:1000,1781:1000,1782:1000,1783:1000,1784:1000,1785:1000,1786:1000,1787:1000,1788:1000,1789:1000,1790:1000,1791:1000,1792:1000,1793:1000,1794:1000,1795:1000,1796:1000,1797:1000,1798:1000,1799:1000,1800:1000,1801:1000,1802:1000,1803:1000,1804:1000,1805:1000,1806:1000,1807:1000,1808:1000,1809:1000,1810:1000,1811:1000,1812:1000,1813:1000,1814:1000,1815:1000,1816:1000,1817:1000,1818:1000,1819:1000,1820:1000,1821:1000,1822:1000,1823:1000,1824:1000,1825:1000,1826:1000,1827:1000,1828:1000,1829:1000,1830:1000,1831:1000,1832:1000,1833:1000,1834:1000,1835:1000,1836:1000,1837:1000,1838:1000,1839:1000,1840:1000,1841:1000,1842:1000,1843:1000,1844:1000,1845:1000,1846:1000,1847:1000,1848:1000,1849:1000,1850:1000,1851:1000,1852:1000,1853:1000,1854:1000,1855:1000,1856:1000,1857:1000,1858:1000,1859:1000,1860:1000,1861:1000,1862:1000,1863:1000,1864:1000,1865:1000,1866:1000,1867:1000,1868:1000,1869:1000,1870:1000,1871:1000,1872:1000,1873:1000,1874:1000,1875:1000,1876:1000,1877:1000,1878:1000,1879:1000,1880:1000,1881:1000,1882:1000,1883:1000,1884:1000,1885:1000,1886:1000,1887:1000,1888:1000,1889:1000,1890:1000,1891:1000,1892:1000,1893:1000,1894:1000,1895:1000,1896:1000,1897:1000,1898:1000,1899:1000,1900:1000,1901:1000,1902:1000,1903:1000,1904:1000,1905:1000,1906:1000,1907:1000,1908:1000,1909:1000,1910:1000,1911:1000,1912:1000,1913:1000,1914:1000,1915:1000,1916:1000,1917:1000,1918:1000,1919:1000,1920:1000,1921:1000,1922:1000,1923:1000,1924:1000,1925:1000,1926:1000,1927:1000,1928:1000,1929:1000,1930:1000,1931:1000,1932:1000,1933:1000,1934:1000,1935:1000,1936:1000,1937:1000,1938:1000,1939:1000,1940:1000,1941:1000,1942:1000,1943:1000,1944:1000,1945:1000,1946:1000,1947:1000,1948:1000,1949:1000,1950:1000,1951:1000,1952:1000,1953:1000,1954:1000,1955:1000,1956:1000,1957:1000,1958:1000,1959:1000,1960:1000,1961:1000,1962:1000,1963:1000,1964:1000,1965:1000,1966:1000,1967:1000,1968:1000,1969:1000,1970:1000,1971:1000,1972:1000,1973:1000,1974:1000,1975:1000,1976:1000,1977:1000,1978:1000,1979:1000,1980:1000,1981:1000,1982:1000,1983:1000,1984:1000,1985:1000,1986:1000,1987:1000,1988:1000,1989:1000,1990:1000,1991:1000,1992:1000,1993:1000,1994:1000,1995:1000,1996:1000,1997:1000,1998:1000,1999:1000,\n",
    "    #2000:2000,2001:2000,2002:2000,2003:2000,2004:2000,2005:2000,2006:2000,2007:2000,2008:2000,2009:2000,2010:2000,2011:2000,2012:2000,2013:2000,2014:2000,2015:2000,2016:2000,2017:2000,2018:2000,2019:2000,2020:2000,2021:2000,2022:2000,2023:2000,2024:2000,2025:2000,2026:2000,2027:2000,2028:2000,2029:2000,2030:2000,2031:2000,2032:2000,2033:2000,2034:2000,2035:2000,2036:2000,2037:2000,2038:2000,2039:2000,2040:2000,2041:2000,2042:2000,2043:2000,2044:2000,2045:2000,2046:2000,2047:2000,2048:2000,2049:2000,2050:2000,2051:2000,2052:2000,2053:2000,2054:2000,2055:2000,2056:2000,2057:2000,2058:2000,2059:2000,2060:2000,2061:2000,2062:2000,2063:2000,2064:2000,2065:2000,2066:2000,2067:2000,2068:2000,2069:2000,2070:2000,2071:2000,2072:2000,2073:2000,2074:2000,2075:2000,2076:2000,2077:2000,2078:2000,2079:2000,2080:2000,2081:2000,2082:2000,2083:2000,2084:2000,2085:2000,2086:2000,2087:2000,2088:2000,2089:2000,2090:2000,2091:2000,2092:2000,2093:2000,2094:2000,2095:2000,2096:2000,2097:2000,2098:2000,2099:2000,2100:2000,2101:2000,2102:2000,2103:2000,2104:2000,2105:2000,2106:2000,2107:2000,2108:2000,2109:2000,2110:2000,2111:2000,2112:2000,2113:2000,2114:2000,2115:2000,2116:2000,2117:2000,2118:2000,2119:2000,2120:2000,2121:2000,2122:2000,2123:2000,2124:2000,2125:2000,2126:2000,2127:2000,2128:2000,2129:2000,2130:2000,2131:2000,2132:2000,2133:2000,2134:2000,2135:2000,2136:2000,2137:2000,2138:2000,2139:2000,2140:2000,2141:2000,2142:2000,2143:2000,2144:2000,2145:2000,2146:2000,2147:2000,2148:2000,2149:2000,2150:2000,2151:2000,2152:2000,2153:2000,2154:2000,2155:2000,2156:2000,2157:2000,2158:2000,2159:2000,2160:2000,2161:2000,2162:2000,2163:2000,2164:2000,2165:2000,2166:2000,2167:2000,2168:2000,2169:2000,2170:2000,2171:2000,2172:2000,2173:2000,2174:2000,2175:2000,2176:2000,2177:2000,2178:2000,2179:2000,2180:2000,2181:2000,2182:2000,2183:2000,2184:2000,2185:2000,2186:2000,2187:2000,2188:2000,2189:2000,2190:2000,2191:2000,2192:2000,2193:2000,2194:2000,2195:2000,2196:2000,2197:2000,2198:2000,2199:2000,2200:2000,2201:2000,2202:2000,2203:2000,2204:2000,2205:2000,2206:2000,2207:2000,2208:2000,2209:2000,2210:2000,2211:2000,2212:2000,2213:2000,2214:2000,2215:2000,2216:2000,2217:2000,2218:2000,2219:2000,2220:2000,2221:2000,2222:2000,2223:2000,2224:2000,2225:2000,2226:2000,2227:2000,2228:2000,2229:2000,2230:2000,2231:2000,2232:2000,2233:2000,2234:2000,2235:2000,2236:2000,2237:2000,2238:2000,2239:2000,2240:2000,2241:2000,2242:2000,2243:2000,2244:2000,2245:2000,2246:2000,2247:2000,2248:2000,2249:2000,2250:2000,2251:2000,2252:2000,2253:2000,2254:2000,2255:2000,2256:2000,2257:2000,2258:2000,2259:2000,2260:2000,2261:2000,2262:2000,2263:2000,2264:2000,2265:2000,2266:2000,2267:2000,2268:2000,2269:2000,2270:2000,2271:2000,2272:2000,2273:2000,2274:2000,2275:2000,2276:2000,2277:2000,2278:2000,2279:2000,2280:2000,2281:2000,2282:2000,2283:2000,2284:2000,2285:2000,2286:2000,2287:2000,2288:2000,2289:2000,2290:2000,2291:2000,2292:2000,2293:2000,2294:2000,2295:2000,2296:2000,2297:2000,2298:2000,2299:2000,2300:2000,2301:2000,2302:2000,2303:2000,2304:2000,2305:2000,2306:2000,2307:2000,2308:2000,2309:2000,2310:2000,2311:2000,2312:2000,2313:2000,2314:2000,2315:2000,2316:2000,2317:2000,2318:2000,2319:2000,2320:2000,2321:2000,2322:2000,2323:2000,2324:2000,2325:2000,2326:2000,2327:2000,2328:2000,2329:2000,2330:2000,2331:2000,2332:2000,2333:2000,2334:2000,2335:2000,2336:2000,2337:2000,2338:2000,2339:2000,2340:2000,2341:2000,2342:2000,2343:2000,2344:2000,2345:2000,2346:2000,2347:2000,2348:2000,2349:2000,2350:2000,2351:2000,2352:2000,2353:2000,2354:2000,2355:2000,2356:2000,2357:2000,2358:2000,2359:2000,2360:2000,2361:2000,2362:2000,2363:2000,2364:2000,2365:2000,2366:2000,2367:2000,2368:2000,2369:2000,2370:2000,2371:2000,2372:2000,2373:2000,2374:2000,2375:2000,2376:2000,2377:2000,2378:2000,2379:2000,2380:2000,2381:2000,2382:2000,2383:2000,2384:2000,2385:2000,2386:2000,2387:2000,2388:2000,2389:2000,2390:2000,2391:2000,2392:2000,2393:2000,2394:2000,2395:2000,2396:2000,2397:2000,2398:2000,2399:2000,2400:2000,2401:2000,2402:2000,2403:2000,2404:2000,2405:2000,2406:2000,2407:2000,2408:2000,2409:2000,2410:2000,2411:2000,2412:2000,2413:2000,2414:2000,2415:2000,2416:2000,2417:2000,2418:2000,2419:2000,2420:2000,2421:2000,2422:2000,2423:2000,2424:2000,2425:2000,2426:2000,2427:2000,2428:2000,2429:2000,2430:2000,2431:2000,2432:2000,2433:2000,2434:2000,2435:2000,2436:2000,2437:2000,2438:2000,2439:2000,2440:2000,2441:2000,2442:2000,2443:2000,2444:2000,2445:2000,2446:2000,2447:2000,2448:2000,2449:2000,2450:2000,2451:2000,2452:2000,2453:2000,2454:2000,2455:2000,2456:2000,2457:2000,2458:2000,2459:2000,2460:2000,2461:2000,2462:2000,2463:2000,2464:2000,2465:2000,2466:2000,2467:2000,2468:2000,2469:2000,2470:2000,2471:2000,2472:2000,2473:2000,2474:2000,2475:2000,2476:2000,2477:2000,2478:2000,2479:2000,2480:2000,2481:2000,2482:2000,2483:2000,2484:2000,2485:2000,2486:2000,2487:2000,2488:2000,2489:2000,2490:2000,2491:2000,2492:2000,2493:2000,2494:2000,2495:2000,2496:2000,2497:2000,2498:2000,2499:2000,2500:2000,2501:2000,2502:2000,2503:2000,2504:2000,2505:2000,2506:2000,2507:2000,2508:2000,2509:2000,2510:2000,2511:2000,2512:2000,2513:2000,2514:2000,2515:2000,2516:2000,2517:2000,2518:2000,2519:2000,2520:2000,2521:2000,2522:2000,2523:2000,2524:2000,2525:2000,2526:2000,2527:2000,2528:2000,2529:2000,2530:2000,2531:2000,2532:2000,2533:2000,2534:2000,2535:2000,2536:2000,2537:2000,2538:2000,2539:2000,2540:2000,2541:2000,2542:2000,2543:2000,2544:2000,2545:2000,2546:2000,2547:2000,2548:2000,2549:2000,2550:2000,2551:2000,2552:2000,2553:2000,2554:2000,2555:2000,2556:2000,2557:2000,2558:2000,2559:2000,2560:2000,2561:2000,2562:2000,2563:2000,2564:2000,2565:2000,2566:2000,2567:2000,2568:2000,2569:2000,2570:2000,2571:2000,2572:2000,2573:2000,2574:2000,2575:2000,2576:2000,2577:2000,2578:2000,2579:2000,2580:2000,2581:2000,2582:2000,2583:2000,2584:2000,2585:2000,2586:2000,2587:2000,2588:2000,2589:2000,2590:2000,2591:2000,2592:2000,2593:2000,2594:2000,2595:2000,2596:2000,2597:2000,2598:2000,2599:2000,2600:2000,2601:2000,2602:2000,2603:2000,2604:2000,2605:2000,2606:2000,2607:2000,2608:2000,2609:2000,2610:2000,2611:2000,2612:2000,2613:2000,2614:2000,2615:2000,2616:2000,2617:2000,2618:2000,2619:2000,2620:2000,2621:2000,2622:2000,2623:2000,2624:2000,2625:2000,2626:2000,2627:2000,2628:2000,2629:2000,2630:2000,2631:2000,2632:2000,2633:2000,2634:2000,2635:2000,2636:2000,2637:2000,2638:2000,2639:2000,2640:2000,2641:2000,2642:2000,2643:2000,2644:2000,2645:2000,2646:2000,2647:2000,2648:2000,2649:2000,2650:2000,2651:2000,2652:2000,2653:2000,2654:2000,2655:2000,2656:2000,2657:2000,2658:2000,2659:2000,2660:2000,2661:2000,2662:2000,2663:2000,2664:2000,2665:2000,2666:2000,2667:2000,2668:2000,2669:2000,2670:2000,2671:2000,2672:2000,2673:2000,2674:2000,2675:2000,2676:2000,2677:2000,2678:2000,2679:2000,2680:2000,2681:2000,2682:2000,2683:2000,2684:2000,2685:2000,2686:2000,2687:2000,2688:2000,2689:2000,2690:2000,2691:2000,2692:2000,2693:2000,2694:2000,2695:2000,2696:2000,2697:2000,2698:2000,2699:2000,2700:2000,2701:2000,2702:2000,2703:2000,2704:2000,2705:2000,2706:2000,2707:2000,2708:2000,2709:2000,2710:2000,2711:2000,2712:2000,2713:2000,2714:2000,2715:2000,2716:2000,2717:2000,2718:2000,2719:2000,2720:2000,2721:2000,2722:2000,2723:2000,2724:2000,2725:2000,2726:2000,2727:2000,2728:2000,2729:2000,2730:2000,2731:2000,2732:2000,2733:2000,2734:2000,2735:2000,2736:2000,2737:2000,2738:2000,2739:2000,2740:2000,2741:2000,2742:2000,2743:2000,2744:2000,2745:2000,2746:2000,2747:2000,2748:2000,2749:2000,2750:2000,2751:2000,2752:2000,2753:2000,2754:2000,2755:2000,2756:2000,2757:2000,2758:2000,2759:2000,2760:2000,2761:2000,2762:2000,2763:2000,2764:2000,2765:2000,2766:2000,2767:2000,2768:2000,2769:2000,2770:2000,2771:2000,2772:2000,2773:2000,2774:2000,2775:2000,2776:2000,2777:2000,2778:2000,2779:2000,2780:2000,2781:2000,2782:2000,2783:2000,2784:2000,2785:2000,2786:2000,2787:2000,2788:2000,2789:2000,2790:2000,2791:2000,2792:2000,2793:2000,2794:2000,2795:2000,2796:2000,2797:2000,2798:2000,2799:2000,2800:2000,2801:2000,2802:2000,2803:2000,2804:2000,2805:2000,2806:2000,2807:2000,2808:2000,2809:2000,2810:2000,2811:2000,2812:2000,2813:2000,2814:2000,2815:2000,2816:2000,2817:2000,2818:2000,2819:2000,2820:2000,2821:2000,2822:2000,2823:2000,2824:2000,2825:2000,2826:2000,2827:2000,2828:2000,2829:2000,2830:2000,2831:2000,2832:2000,2833:2000,2834:2000,2835:2000,2836:2000,2837:2000,2838:2000,2839:2000,2840:2000,2841:2000,2842:2000,2843:2000,2844:2000,2845:2000,2846:2000,2847:2000,2848:2000,2849:2000,2850:2000,2851:2000,2852:2000,2853:2000,2854:2000,2855:2000,2856:2000,2857:2000,2858:2000,2859:2000,2860:2000,2861:2000,2862:2000,2863:2000,2864:2000,2865:2000,2866:2000,2867:2000,2868:2000,2869:2000,2870:2000,2871:2000,2872:2000,2873:2000,2874:2000,2875:2000,2876:2000,2877:2000,2878:2000,2879:2000,2880:2000,2881:2000,2882:2000,2883:2000,2884:2000,2885:2000,2886:2000,2887:2000,2888:2000,2889:2000,2890:2000,2891:2000,2892:2000,2893:2000,2894:2000,2895:2000,2896:2000,2897:2000,2898:2000,2899:2000,2900:2000,2901:2000,2902:2000,2903:2000,2904:2000,2905:2000,2906:2000,2907:2000,2908:2000,2909:2000,2910:2000,2911:2000,2912:2000,2913:2000,2914:2000,2915:2000,2916:2000,2917:2000,2918:2000,2919:2000,2920:2000,2921:2000,2922:2000,2923:2000,2924:2000,2925:2000,2926:2000,2927:2000,2928:2000,2929:2000,2930:2000,2931:2000,2932:2000,2933:2000,2934:2000,2935:2000,2936:2000,2937:2000,2938:2000,2939:2000,2940:2000,2941:2000,2942:2000,2943:2000,2944:2000,2945:2000,2946:2000,2947:2000,2948:2000,2949:2000,2950:2000,2951:2000,2952:2000,2953:2000,2954:2000,2955:2000,2956:2000,2957:2000,2958:2000,2959:2000,2960:2000,2961:2000,2962:2000,2963:2000,2964:2000,2965:2000,2966:2000,2967:2000,2968:2000,2969:2000,2970:2000,2971:2000,2972:2000,2973:2000,2974:2000,2975:2000,2976:2000,2977:2000,2978:2000,2979:2000,2980:2000,2981:2000,2982:2000,2983:2000,2984:2000,2985:2000,2986:2000,2987:2000,2988:2000,2989:2000,2990:2000,2991:2000,2992:2000,2993:2000,2994:2000,2995:2000,2996:2000,2997:2000,2998:2000,2999:2000,\n",
    "    #3000:3000,3001:3000,3002:3000,3003:3000,3004:3000,3005:3000,3006:3000,3007:3000,3008:3000,3009:3000,3010:3000,3011:3000,3012:3000,3013:3000,3014:3000,3015:3000,3016:3000,3017:3000,3018:3000,3019:3000,3020:3000,3021:3000,3022:3000,3023:3000,3024:3000,3025:3000,3026:3000,3027:3000,3028:3000,3029:3000,3030:3000,3031:3000,3032:3000,3033:3000,3034:3000,3035:3000,3036:3000,3037:3000,3038:3000,3039:3000,3040:3000,3041:3000,3042:3000,3043:3000,3044:3000,3045:3000,3046:3000,3047:3000,3048:3000,3049:3000,3050:3000,3051:3000,3052:3000,3053:3000,3054:3000,3055:3000,3056:3000,3057:3000,3058:3000,3059:3000,3060:3000,3061:3000,3062:3000,3063:3000,3064:3000,3065:3000,3066:3000,3067:3000,3068:3000,3069:3000,3070:3000,3071:3000,3072:3000,3073:3000,3074:3000,3075:3000,3076:3000,3077:3000,3078:3000,3079:3000,3080:3000,3081:3000,3082:3000,3083:3000,3084:3000,3085:3000,3086:3000,3087:3000,3088:3000,3089:3000,3090:3000,3091:3000,3092:3000,3093:3000,3094:3000,3095:3000,3096:3000,3097:3000,3098:3000,3099:3000,3100:3000,3101:3000,3102:3000,3103:3000,3104:3000,3105:3000,3106:3000,3107:3000,3108:3000,3109:3000,3110:3000,3111:3000,3112:3000,3113:3000,3114:3000,3115:3000,3116:3000,3117:3000,3118:3000,3119:3000,3120:3000,3121:3000,3122:3000,3123:3000,3124:3000,3125:3000,3126:3000,3127:3000,3128:3000,3129:3000,3130:3000,3131:3000,3132:3000,3133:3000,3134:3000,3135:3000,3136:3000,3137:3000,3138:3000,3139:3000,3140:3000,3141:3000,3142:3000,3143:3000,3144:3000,3145:3000,3146:3000,3147:3000,3148:3000,3149:3000,3150:3000,3151:3000,3152:3000,3153:3000,3154:3000,3155:3000,3156:3000,3157:3000,3158:3000,3159:3000,3160:3000,3161:3000,3162:3000,3163:3000,3164:3000,3165:3000,3166:3000,3167:3000,3168:3000,3169:3000,3170:3000,3171:3000,3172:3000,3173:3000,3174:3000,3175:3000,3176:3000,3177:3000,3178:3000,3179:3000,3180:3000,3181:3000,3182:3000,3183:3000,3184:3000,3185:3000,3186:3000,3187:3000,3188:3000,3189:3000,3190:3000,3191:3000,3192:3000,3193:3000,3194:3000,3195:3000,3196:3000,3197:3000,3198:3000,3199:3000,3200:3000,3201:3000,3202:3000,3203:3000,3204:3000,3205:3000,3206:3000,3207:3000,3208:3000,3209:3000,3210:3000,3211:3000,3212:3000,3213:3000,3214:3000,3215:3000,3216:3000,3217:3000,3218:3000,3219:3000,3220:3000,3221:3000,3222:3000,3223:3000,3224:3000,3225:3000,3226:3000,3227:3000,3228:3000,3229:3000,3230:3000,3231:3000,3232:3000,3233:3000,3234:3000,3235:3000,3236:3000,3237:3000,3238:3000,3239:3000,3240:3000,3241:3000,3242:3000,3243:3000,3244:3000,3245:3000,3246:3000,3247:3000,3248:3000,3249:3000,3250:3000,3251:3000,3252:3000,3253:3000,3254:3000,3255:3000,3256:3000,3257:3000,3258:3000,3259:3000,3260:3000,3261:3000,3262:3000,3263:3000,3264:3000,3265:3000,3266:3000,3267:3000,3268:3000,3269:3000,3270:3000,3271:3000,3272:3000,3273:3000,3274:3000,3275:3000,3276:3000,3277:3000,3278:3000,3279:3000,3280:3000,3281:3000,3282:3000,3283:3000,3284:3000,3285:3000,3286:3000,3287:3000,3288:3000,3289:3000,3290:3000,3291:3000,3292:3000,3293:3000,3294:3000,3295:3000,3296:3000,3297:3000,3298:3000,3299:3000,3300:3000,3301:3000,3302:3000,3303:3000,3304:3000,3305:3000,3306:3000,3307:3000,3308:3000,3309:3000,3310:3000,3311:3000,3312:3000,3313:3000,3314:3000,3315:3000,3316:3000,3317:3000,3318:3000,3319:3000,3320:3000,3321:3000,3322:3000,3323:3000,3324:3000,3325:3000,3326:3000,3327:3000,3328:3000,3329:3000,3330:3000,3331:3000,3332:3000,3333:3000,3334:3000,3335:3000,3336:3000,3337:3000,3338:3000,3339:3000,3340:3000,3341:3000,3342:3000,3343:3000,3344:3000,3345:3000,3346:3000,3347:3000,3348:3000,3349:3000,3350:3000,3351:3000,3352:3000,3353:3000,3354:3000,3355:3000,3356:3000,3357:3000,3358:3000,3359:3000,3360:3000,3361:3000,3362:3000,3363:3000,3364:3000,3365:3000,3366:3000,3367:3000,3368:3000,3369:3000,3370:3000,3371:3000,3372:3000,3373:3000,3374:3000,3375:3000,3376:3000,3377:3000,3378:3000,3379:3000,3380:3000,3381:3000,3382:3000,3383:3000,3384:3000,3385:3000,3386:3000,3387:3000,3388:3000,3389:3000,3390:3000,3391:3000,3392:3000,3393:3000,3394:3000,3395:3000,3396:3000,3397:3000,3398:3000,3399:3000,3400:3000,3401:3000,3402:3000,3403:3000,3404:3000,3405:3000,3406:3000,3407:3000,3408:3000,3409:3000,3410:3000,3411:3000,3412:3000,3413:3000,3414:3000,3415:3000,3416:3000,3417:3000,3418:3000,3419:3000,3420:3000,3421:3000,3422:3000,3423:3000,3424:3000,3425:3000,3426:3000,3427:3000,3428:3000,3429:3000,3430:3000,3431:3000,3432:3000,3433:3000,3434:3000,3435:3000,3436:3000,3437:3000,3438:3000,3439:3000,3440:3000,3441:3000,3442:3000,3443:3000,3444:3000,3445:3000,3446:3000,3447:3000,3448:3000,3449:3000,3450:3000,3451:3000,3452:3000,3453:3000,3454:3000,3455:3000,3456:3000,3457:3000,3458:3000,3459:3000,3460:3000,3461:3000,3462:3000,3463:3000,3464:3000,3465:3000,3466:3000,3467:3000,3468:3000,3469:3000,3470:3000,3471:3000,3472:3000,3473:3000,3474:3000,3475:3000,3476:3000,3477:3000,3478:3000,3479:3000,3480:3000,3481:3000,3482:3000,3483:3000,3484:3000,3485:3000,3486:3000,3487:3000,3488:3000,3489:3000,3490:3000,3491:3000,3492:3000,3493:3000,3494:3000,3495:3000,3496:3000,3497:3000,3498:3000,3499:3000,3500:3000,3501:3000,3502:3000,3503:3000,3504:3000,3505:3000,3506:3000,3507:3000,3508:3000,3509:3000,3510:3000,3511:3000,3512:3000,3513:3000,3514:3000,3515:3000,3516:3000,3517:3000,3518:3000,3519:3000,3520:3000,3521:3000,3522:3000,3523:3000,3524:3000,3525:3000,3526:3000,3527:3000,3528:3000,3529:3000,3530:3000,3531:3000,3532:3000,3533:3000,3534:3000,3535:3000,3536:3000,3537:3000,3538:3000,3539:3000,3540:3000,3541:3000,3542:3000,3543:3000,3544:3000,3545:3000,3546:3000,3547:3000,3548:3000,3549:3000,3550:3000,3551:3000,3552:3000,3553:3000,3554:3000,3555:3000,3556:3000,3557:3000,3558:3000,3559:3000,3560:3000,3561:3000,3562:3000,3563:3000,3564:3000,3565:3000,3566:3000,3567:3000,3568:3000,3569:3000,3570:3000,3571:3000,3572:3000,3573:3000,3574:3000,3575:3000,3576:3000,3577:3000,3578:3000,3579:3000,3580:3000,3581:3000,3582:3000,3583:3000,3584:3000,3585:3000,3586:3000,3587:3000,3588:3000,3589:3000,3590:3000,3591:3000,3592:3000,3593:3000,3594:3000,3595:3000,3596:3000,3597:3000,3598:3000,3599:3000,3600:3000,3601:3000,3602:3000,3603:3000,3604:3000,3605:3000,3606:3000,3607:3000,3608:3000,3609:3000,3610:3000,3611:3000,3612:3000,3613:3000,3614:3000,3615:3000,3616:3000,3617:3000,3618:3000,3619:3000,3620:3000,3621:3000,3622:3000,3623:3000,3624:3000,3625:3000,3626:3000,3627:3000,3628:3000,3629:3000,3630:3000,3631:3000,3632:3000,3633:3000,3634:3000,3635:3000,3636:3000,3637:3000,3638:3000,3639:3000,3640:3000,3641:3000,3642:3000,3643:3000,3644:3000,3645:3000,3646:3000,3647:3000,3648:3000,3649:3000,3650:3000,3651:3000,3652:3000,3653:3000,3654:3000,3655:3000,3656:3000,3657:3000,3658:3000,3659:3000,3660:3000,3661:3000,3662:3000,3663:3000,3664:3000,3665:3000,3666:3000,3667:3000,3668:3000,3669:3000,3670:3000,3671:3000,3672:3000,3673:3000,3674:3000,3675:3000,3676:3000,3677:3000,3678:3000,3679:3000,3680:3000,3681:3000,3682:3000,3683:3000,3684:3000,3685:3000,3686:3000,3687:3000,3688:3000,3689:3000,3690:3000,3691:3000,3692:3000,3693:3000,3694:3000,3695:3000,3696:3000,3697:3000,3698:3000,3699:3000,3700:3000,3701:3000,3702:3000,3703:3000,3704:3000,3705:3000,3706:3000,3707:3000,3708:3000,3709:3000,3710:3000,3711:3000,3712:3000,3713:3000,3714:3000,3715:3000,3716:3000,3717:3000,3718:3000,3719:3000,3720:3000,3721:3000,3722:3000,3723:3000,3724:3000,3725:3000,3726:3000,3727:3000,3728:3000,3729:3000,3730:3000,3731:3000,3732:3000,3733:3000,3734:3000,3735:3000,3736:3000,3737:3000,3738:3000,3739:3000,3740:3000,3741:3000,3742:3000,3743:3000,3744:3000,3745:3000,3746:3000,3747:3000,3748:3000,3749:3000,3750:3000,3751:3000,3752:3000,3753:3000,3754:3000,3755:3000,3756:3000,3757:3000,3758:3000,3759:3000,3760:3000,3761:3000,3762:3000,3763:3000,3764:3000,3765:3000,3766:3000,3767:3000,3768:3000,3769:3000,3770:3000,3771:3000,3772:3000,3773:3000,3774:3000,3775:3000,3776:3000,3777:3000,3778:3000,3779:3000,3780:3000,3781:3000,3782:3000,3783:3000,3784:3000,3785:3000,3786:3000,3787:3000,3788:3000,3789:3000,3790:3000,3791:3000,3792:3000,3793:3000,3794:3000,3795:3000,3796:3000,3797:3000,3798:3000,3799:3000,3800:3000,3801:3000,3802:3000,3803:3000,3804:3000,3805:3000,3806:3000,3807:3000,3808:3000,3809:3000,3810:3000,3811:3000,3812:3000,3813:3000,3814:3000,3815:3000,3816:3000,3817:3000,3818:3000,3819:3000,3820:3000,3821:3000,3822:3000,3823:3000,3824:3000,3825:3000,3826:3000,3827:3000,3828:3000,3829:3000,3830:3000,3831:3000,3832:3000,3833:3000,3834:3000,3835:3000,3836:3000,3837:3000,3838:3000,3839:3000,3840:3000,3841:3000,3842:3000,3843:3000,3844:3000,3845:3000,3846:3000,3847:3000,3848:3000,3849:3000,3850:3000,3851:3000,3852:3000,3853:3000,3854:3000,3855:3000,3856:3000,3857:3000,3858:3000,3859:3000,3860:3000,3861:3000,3862:3000,3863:3000,3864:3000,3865:3000,3866:3000,3867:3000,3868:3000,3869:3000,3870:3000,3871:3000,3872:3000,3873:3000,3874:3000,3875:3000,3876:3000,3877:3000,3878:3000,3879:3000,3880:3000,3881:3000,3882:3000,3883:3000,3884:3000,3885:3000,3886:3000,3887:3000,3888:3000,3889:3000,3890:3000,3891:3000,3892:3000,3893:3000,3894:3000,3895:3000,3896:3000,3897:3000,3898:3000,3899:3000,3900:3000,3901:3000,3902:3000,3903:3000,3904:3000,3905:3000,3906:3000,3907:3000,3908:3000,3909:3000,3910:3000,3911:3000,3912:3000,3913:3000,3914:3000,3915:3000,3916:3000,3917:3000,3918:3000,3919:3000,3920:3000,3921:3000,3922:3000,3923:3000,3924:3000,3925:3000,3926:3000,3927:3000,3928:3000,3929:3000,3930:3000,3931:3000,3932:3000,3933:3000,3934:3000,3935:3000,3936:3000,3937:3000,3938:3000,3939:3000,3940:3000,3941:3000,3942:3000,3943:3000,3944:3000,3945:3000,3946:3000,3947:3000,3948:3000,3949:3000,3950:3000,3951:3000,3952:3000,3953:3000,3954:3000,3955:3000,3956:3000,3957:3000,3958:3000,3959:3000,3960:3000,3961:3000,3962:3000,3963:3000,3964:3000,3965:3000,3966:3000,3967:3000,3968:3000,3969:3000,3970:3000,3971:3000,3972:3000,3973:3000,3974:3000,3975:3000,3976:3000,3977:3000,3978:3000,3979:3000,3980:3000,3981:3000,3982:3000,3983:3000,3984:3000,3985:3000,3986:3000,3987:3000,3988:3000,3989:3000,3990:3000,3991:3000,3992:3000,3993:3000,3994:3000,3995:3000,3996:3000,3997:3000,3998:3000,3999:3000,\n",
    "    #4000:4000,4001:4000,4002:4000,4003:4000,4004:4000,4005:4000,4006:4000,4007:4000,4008:4000,4009:4000,4010:4000,4011:4000,4012:4000,4013:4000,4014:4000,4015:4000,4016:4000,4017:4000,4018:4000,4019:4000,4020:4000,4021:4000,4022:4000,4023:4000,4024:4000,4025:4000,4026:4000,4027:4000,4028:4000,4029:4000,4030:4000,4031:4000,4032:4000,4033:4000,4034:4000,4035:4000,4036:4000,4037:4000,4038:4000,4039:4000,4040:4000,4041:4000,4042:4000,4043:4000,4044:4000,4045:4000,4046:4000,4047:4000,4048:4000,4049:4000,4050:4000,4051:4000,4052:4000,4053:4000,4054:4000,4055:4000,4056:4000,4057:4000,4058:4000,4059:4000,4060:4000,4061:4000,4062:4000,4063:4000,4064:4000,4065:4000,4066:4000,4067:4000,4068:4000,4069:4000,4070:4000,4071:4000,4072:4000,4073:4000,4074:4000,4075:4000,4076:4000,4077:4000,4078:4000,4079:4000,4080:4000,4081:4000,4082:4000,4083:4000,4084:4000,4085:4000,4086:4000,4087:4000,4088:4000,4089:4000,4090:4000,4091:4000,4092:4000,4093:4000,4094:4000,4095:4000,4096:4000,4097:4000,4098:4000,4099:4000,4100:4000,4101:4000,4102:4000,4103:4000,4104:4000,4105:4000,4106:4000,4107:4000,4108:4000,4109:4000,4110:4000,4111:4000,4112:4000,4113:4000,4114:4000,4115:4000,4116:4000,4117:4000,4118:4000,4119:4000,4120:4000,4121:4000,4122:4000,4123:4000,4124:4000,4125:4000,4126:4000,4127:4000,4128:4000,4129:4000,4130:4000,4131:4000,4132:4000,4133:4000,4134:4000,4135:4000,4136:4000,4137:4000,4138:4000,4139:4000,4140:4000,4141:4000,4142:4000,4143:4000,4144:4000,4145:4000,4146:4000,4147:4000,4148:4000,4149:4000,4150:4000,4151:4000,4152:4000,4153:4000,4154:4000,4155:4000,4156:4000,4157:4000,4158:4000,4159:4000,4160:4000,4161:4000,4162:4000,4163:4000,4164:4000,4165:4000,4166:4000,4167:4000,4168:4000,4169:4000,4170:4000,4171:4000,4172:4000,4173:4000,4174:4000,4175:4000,4176:4000,4177:4000,4178:4000,4179:4000,4180:4000,4181:4000,4182:4000,4183:4000,4184:4000,4185:4000,4186:4000,4187:4000,4188:4000,4189:4000,4190:4000,4191:4000,4192:4000,4193:4000,4194:4000,4195:4000,4196:4000,4197:4000,4198:4000,4199:4000,4200:4000,4201:4000,4202:4000,4203:4000,4204:4000,4205:4000,4206:4000,4207:4000,4208:4000,4209:4000,4210:4000,4211:4000,4212:4000,4213:4000,4214:4000,4215:4000,4216:4000,4217:4000,4218:4000,4219:4000,4220:4000,4221:4000,4222:4000,4223:4000,4224:4000,4225:4000,4226:4000,4227:4000,4228:4000,4229:4000,4230:4000,4231:4000,4232:4000,4233:4000,4234:4000,4235:4000,4236:4000,4237:4000,4238:4000,4239:4000,4240:4000,4241:4000,4242:4000,4243:4000,4244:4000,4245:4000,4246:4000,4247:4000,4248:4000,4249:4000,4250:4000,4251:4000,4252:4000,4253:4000,4254:4000,4255:4000,4256:4000,4257:4000,4258:4000,4259:4000,4260:4000,4261:4000,4262:4000,4263:4000,4264:4000,4265:4000,4266:4000,4267:4000,4268:4000,4269:4000,4270:4000,4271:4000,4272:4000,4273:4000,4274:4000,4275:4000,4276:4000,4277:4000,4278:4000,4279:4000,4280:4000,4281:4000,4282:4000,4283:4000,4284:4000,4285:4000,4286:4000,4287:4000,4288:4000,4289:4000,4290:4000,4291:4000,4292:4000,4293:4000,4294:4000,4295:4000,4296:4000,4297:4000,4298:4000,4299:4000,4300:4000,4301:4000,4302:4000,4303:4000,4304:4000,4305:4000,4306:4000,4307:4000,4308:4000,4309:4000,4310:4000,4311:4000,4312:4000,4313:4000,4314:4000,4315:4000,4316:4000,4317:4000,4318:4000,4319:4000,4320:4000,4321:4000,4322:4000,4323:4000,4324:4000,4325:4000,4326:4000,4327:4000,4328:4000,4329:4000,4330:4000,4331:4000,4332:4000,4333:4000,4334:4000,4335:4000,4336:4000,4337:4000,4338:4000,4339:4000,4340:4000,4341:4000,4342:4000,4343:4000,4344:4000,4345:4000,4346:4000,4347:4000,4348:4000,4349:4000,4350:4000,4351:4000,4352:4000,4353:4000,4354:4000,4355:4000,4356:4000,4357:4000,4358:4000,4359:4000,4360:4000,4361:4000,4362:4000,4363:4000,4364:4000,4365:4000,4366:4000,4367:4000,4368:4000,4369:4000,4370:4000,4371:4000,4372:4000,4373:4000,4374:4000,4375:4000,4376:4000,4377:4000,4378:4000,4379:4000,4380:4000,4381:4000,4382:4000,4383:4000,4384:4000,4385:4000,4386:4000,4387:4000,4388:4000,4389:4000,4390:4000,4391:4000,4392:4000,4393:4000,4394:4000,4395:4000,4396:4000,4397:4000,4398:4000,4399:4000,4400:4000,4401:4000,4402:4000,4403:4000,4404:4000,4405:4000,4406:4000,4407:4000,4408:4000,4409:4000,4410:4000,4411:4000,4412:4000,4413:4000,4414:4000,4415:4000,4416:4000,4417:4000,4418:4000,4419:4000,4420:4000,4421:4000,4422:4000,4423:4000,4424:4000,4425:4000,4426:4000,4427:4000,4428:4000,4429:4000,4430:4000,4431:4000,4432:4000,4433:4000,4434:4000,4435:4000,4436:4000,4437:4000,4438:4000,4439:4000,4440:4000,4441:4000,4442:4000,4443:4000,4444:4000,4445:4000,4446:4000,4447:4000,4448:4000,4449:4000,4450:4000,4451:4000,4452:4000,4453:4000,4454:4000,4455:4000,4456:4000,4457:4000,4458:4000,4459:4000,4460:4000,4461:4000,4462:4000,4463:4000,4464:4000,4465:4000,4466:4000,4467:4000,4468:4000,4469:4000,4470:4000,4471:4000,4472:4000,4473:4000,4474:4000,4475:4000,4476:4000,4477:4000,4478:4000,4479:4000,4480:4000,4481:4000,4482:4000,4483:4000,4484:4000,4485:4000,4486:4000,4487:4000,4488:4000,4489:4000,4490:4000,4491:4000,4492:4000,4493:4000,4494:4000,4495:4000,4496:4000,4497:4000,4498:4000,4499:4000,4500:4000,4501:4000,4502:4000,4503:4000,4504:4000,4505:4000,4506:4000,4507:4000,4508:4000,4509:4000,4510:4000,4511:4000,4512:4000,4513:4000,4514:4000,4515:4000,4516:4000,4517:4000,4518:4000,4519:4000,4520:4000,4521:4000,4522:4000,4523:4000,4524:4000,4525:4000,4526:4000,4527:4000,4528:4000,4529:4000,4530:4000,4531:4000,4532:4000,4533:4000,4534:4000,4535:4000,4536:4000,4537:4000,4538:4000,4539:4000,4540:4000,4541:4000,4542:4000,4543:4000,4544:4000,4545:4000,4546:4000,4547:4000,4548:4000,4549:4000,4550:4000,4551:4000,4552:4000,4553:4000,4554:4000,4555:4000,4556:4000,4557:4000,4558:4000,4559:4000,4560:4000,4561:4000,4562:4000,4563:4000,4564:4000,4565:4000,4566:4000,4567:4000,4568:4000,4569:4000,4570:4000,4571:4000,4572:4000,4573:4000,4574:4000,4575:4000,4576:4000,4577:4000,4578:4000,4579:4000,4580:4000,4581:4000,4582:4000,4583:4000,4584:4000,4585:4000,4586:4000,4587:4000,4588:4000,4589:4000,4590:4000,4591:4000,4592:4000,4593:4000,4594:4000,4595:4000,4596:4000,4597:4000,4598:4000,4599:4000,4600:4000,4601:4000,4602:4000,4603:4000,4604:4000,4605:4000,4606:4000,4607:4000,4608:4000,4609:4000,4610:4000,4611:4000,4612:4000,4613:4000,4614:4000,4615:4000,4616:4000,4617:4000,4618:4000,4619:4000,4620:4000,4621:4000,4622:4000,4623:4000,4624:4000,4625:4000,4626:4000,4627:4000,4628:4000,4629:4000,4630:4000,4631:4000,4632:4000,4633:4000,4634:4000,4635:4000,4636:4000,4637:4000,4638:4000,4639:4000,4640:4000,4641:4000,4642:4000,4643:4000,4644:4000,4645:4000,4646:4000,4647:4000,4648:4000,4649:4000,4650:4000,4651:4000,4652:4000,4653:4000,4654:4000,4655:4000,4656:4000,4657:4000,4658:4000,4659:4000,4660:4000,4661:4000,4662:4000,4663:4000,4664:4000,4665:4000,4666:4000,4667:4000,4668:4000,4669:4000,4670:4000,4671:4000,4672:4000,4673:4000,4674:4000,4675:4000,4676:4000,4677:4000,4678:4000,4679:4000,4680:4000,4681:4000,4682:4000,4683:4000,4684:4000,4685:4000,4686:4000,4687:4000,4688:4000,4689:4000,4690:4000,4691:4000,4692:4000,4693:4000,4694:4000,4695:4000,4696:4000,4697:4000,4698:4000,4699:4000,4700:4000,4701:4000,4702:4000,4703:4000,4704:4000,4705:4000,4706:4000,4707:4000,4708:4000,4709:4000,4710:4000,4711:4000,4712:4000,4713:4000,4714:4000,4715:4000,4716:4000,4717:4000,4718:4000,4719:4000,4720:4000,4721:4000,4722:4000,4723:4000,4724:4000,4725:4000,4726:4000,4727:4000,4728:4000,4729:4000,4730:4000,4731:4000,4732:4000,4733:4000,4734:4000,4735:4000,4736:4000,4737:4000,4738:4000,4739:4000,4740:4000,4741:4000,4742:4000,4743:4000,4744:4000,4745:4000,4746:4000,4747:4000,4748:4000,4749:4000,4750:4000,4751:4000,4752:4000,4753:4000,4754:4000,4755:4000,4756:4000,4757:4000,4758:4000,4759:4000,4760:4000,4761:4000,4762:4000,4763:4000,4764:4000,4765:4000,4766:4000,4767:4000,4768:4000,4769:4000,4770:4000,4771:4000,4772:4000,4773:4000,4774:4000,4775:4000,4776:4000,4777:4000,4778:4000,4779:4000,4780:4000,4781:4000,4782:4000,4783:4000,4784:4000,4785:4000,4786:4000,4787:4000,4788:4000,4789:4000,4790:4000,4791:4000,4792:4000,4793:4000,4794:4000,4795:4000,4796:4000,4797:4000,4798:4000,4799:4000,4800:4000,4801:4000,4802:4000,4803:4000,4804:4000,4805:4000,4806:4000,4807:4000,4808:4000,4809:4000,4810:4000,4811:4000,4812:4000,4813:4000,4814:4000,4815:4000,4816:4000,4817:4000,4818:4000,4819:4000,4820:4000,4821:4000,4822:4000,4823:4000,4824:4000,4825:4000,4826:4000,4827:4000,4828:4000,4829:4000,4830:4000,4831:4000,4832:4000,4833:4000,4834:4000,4835:4000,4836:4000,4837:4000,4838:4000,4839:4000,4840:4000,4841:4000,4842:4000,4843:4000,4844:4000,4845:4000,4846:4000,4847:4000,4848:4000,4849:4000,4850:4000,4851:4000,4852:4000,4853:4000,4854:4000,4855:4000,4856:4000,4857:4000,4858:4000,4859:4000,4860:4000,4861:4000,4862:4000,4863:4000,4864:4000,4865:4000,4866:4000,4867:4000,4868:4000,4869:4000,4870:4000,4871:4000,4872:4000,4873:4000,4874:4000,4875:4000,4876:4000,4877:4000,4878:4000,4879:4000,4880:4000,4881:4000,4882:4000,4883:4000,4884:4000,4885:4000,4886:4000,4887:4000,4888:4000,4889:4000,4890:4000,4891:4000,4892:4000,4893:4000,4894:4000,4895:4000,4896:4000,4897:4000,4898:4000,4899:4000,4900:4000,4901:4000,4902:4000,4903:4000,4904:4000,4905:4000,4906:4000,4907:4000,4908:4000,4909:4000,4910:4000,4911:4000,4912:4000,4913:4000,4914:4000,4915:4000,4916:4000,4917:4000,4918:4000,4919:4000,4920:4000,4921:4000,4922:4000,4923:4000,4924:4000,4925:4000,4926:4000,4927:4000,4928:4000,4929:4000,4930:4000,4931:4000,4932:4000,4933:4000,4934:4000,4935:4000,4936:4000,4937:4000,4938:4000,4939:4000,4940:4000,4941:4000,4942:4000,4943:4000,4944:4000,4945:4000,4946:4000,4947:4000,4948:4000,4949:4000,4950:4000,4951:4000,4952:4000,4953:4000,4954:4000,4955:4000,4956:4000,4957:4000,4958:4000,4959:4000,4960:4000,4961:4000,4962:4000,4963:4000,4964:4000,4965:4000,4966:4000,4967:4000,4968:4000,4969:4000,4970:4000,4971:4000,4972:4000,4973:4000,4974:4000,4975:4000,4976:4000,4977:4000,4978:4000,4979:4000,4980:4000,4981:4000,4982:4000,4983:4000,4984:4000,4985:4000,4986:4000,4987:4000,4988:4000,4989:4000,4990:4000,4991:4000,4992:4000,4993:4000,4994:4000,4995:4000,4996:4000,4997:4000,4998:4000,4999:4000,\n",
    "    #5000:5000,5001:5000,5002:5000,5003:5000,5004:5000,5005:5000,5006:5000,5007:5000,5008:5000,5009:5000,5010:5000,5011:5000,5012:5000,5013:5000,5014:5000,5015:5000,5016:5000,5017:5000,5018:5000,5019:5000,5020:5000,5021:5000,5022:5000,5023:5000,5024:5000,5025:5000,5026:5000,5027:5000,5028:5000,5029:5000,5030:5000,5031:5000,5032:5000,5033:5000,5034:5000,5035:5000,5036:5000,5037:5000,5038:5000,5039:5000,5040:5000,5041:5000,5042:5000,5043:5000,5044:5000,5045:5000,5046:5000,5047:5000,5048:5000,5049:5000,5050:5000,5051:5000,5052:5000,5053:5000,5054:5000,5055:5000,5056:5000,5057:5000,5058:5000,5059:5000,5060:5000,5061:5000,5062:5000,5063:5000,5064:5000,5065:5000,5066:5000,5067:5000,5068:5000,5069:5000,5070:5000,5071:5000,5072:5000,5073:5000,5074:5000,5075:5000,5076:5000,5077:5000,5078:5000,5079:5000,5080:5000,5081:5000,5082:5000,5083:5000,5084:5000,5085:5000,5086:5000,5087:5000,5088:5000,5089:5000,5090:5000,5091:5000,5092:5000,5093:5000,5094:5000,5095:5000,5096:5000,5097:5000,5098:5000,5099:5000,5100:5000,5101:5000,5102:5000,5103:5000,5104:5000,5105:5000,5106:5000,5107:5000,5108:5000,5109:5000,5110:5000,5111:5000,5112:5000,5113:5000,5114:5000,5115:5000,5116:5000,5117:5000,5118:5000,5119:5000,5120:5000,5121:5000,5122:5000,5123:5000,5124:5000,5125:5000,5126:5000,5127:5000,5128:5000,5129:5000,5130:5000,5131:5000,5132:5000,5133:5000,5134:5000,5135:5000,5136:5000,5137:5000,5138:5000,5139:5000,5140:5000,5141:5000,5142:5000,5143:5000,5144:5000,5145:5000,5146:5000,5147:5000,5148:5000,5149:5000,5150:5000,5151:5000,5152:5000,5153:5000,5154:5000,5155:5000,5156:5000,5157:5000,5158:5000,5159:5000,5160:5000,5161:5000,5162:5000,5163:5000,5164:5000,5165:5000,5166:5000,5167:5000,5168:5000,5169:5000,5170:5000,5171:5000,5172:5000,5173:5000,5174:5000,5175:5000,5176:5000,5177:5000,5178:5000,5179:5000,5180:5000,5181:5000,5182:5000,5183:5000,5184:5000,5185:5000,5186:5000,5187:5000,5188:5000,5189:5000,5190:5000,5191:5000,5192:5000,5193:5000,5194:5000,5195:5000,5196:5000,5197:5000,5198:5000,5199:5000,5200:5000,5201:5000,5202:5000,5203:5000,5204:5000,5205:5000,5206:5000,5207:5000,5208:5000,5209:5000,5210:5000,5211:5000,5212:5000,5213:5000,5214:5000,5215:5000,5216:5000,5217:5000,5218:5000,5219:5000,5220:5000,5221:5000,5222:5000,5223:5000,5224:5000,5225:5000,5226:5000,5227:5000,5228:5000,5229:5000,5230:5000,5231:5000,5232:5000,5233:5000,5234:5000,5235:5000,5236:5000,5237:5000,5238:5000,5239:5000,5240:5000,5241:5000,5242:5000,5243:5000,5244:5000,5245:5000,5246:5000,5247:5000,5248:5000,5249:5000,5250:5000,5251:5000,5252:5000,5253:5000,5254:5000,5255:5000,5256:5000,5257:5000,5258:5000,5259:5000,5260:5000,5261:5000,5262:5000,5263:5000,5264:5000,5265:5000,5266:5000,5267:5000,5268:5000,5269:5000,5270:5000,5271:5000,5272:5000,5273:5000,5274:5000,5275:5000,5276:5000,5277:5000,5278:5000,5279:5000,5280:5000,5281:5000,5282:5000,5283:5000,5284:5000,5285:5000,5286:5000,5287:5000,5288:5000,5289:5000,5290:5000,5291:5000,5292:5000,5293:5000,5294:5000,5295:5000,5296:5000,5297:5000,5298:5000,5299:5000,5300:5000,5301:5000,5302:5000,5303:5000,5304:5000,5305:5000,5306:5000,5307:5000,5308:5000,5309:5000,5310:5000,5311:5000,5312:5000,5313:5000,5314:5000,5315:5000,5316:5000,5317:5000,5318:5000,5319:5000,5320:5000,5321:5000,5322:5000,5323:5000,5324:5000,5325:5000,5326:5000,5327:5000,5328:5000,5329:5000,5330:5000,5331:5000,5332:5000,5333:5000,5334:5000,5335:5000,5336:5000,5337:5000,5338:5000,5339:5000,5340:5000,5341:5000,5342:5000,5343:5000,5344:5000,5345:5000,5346:5000,5347:5000,5348:5000,5349:5000,5350:5000,5351:5000,5352:5000,5353:5000,5354:5000,5355:5000,5356:5000,5357:5000,5358:5000,5359:5000,5360:5000,5361:5000,5362:5000,5363:5000,5364:5000,5365:5000,5366:5000,5367:5000,5368:5000,5369:5000,5370:5000,5371:5000,5372:5000,5373:5000,5374:5000,5375:5000,5376:5000,5377:5000,5378:5000,5379:5000,5380:5000,5381:5000,5382:5000,5383:5000,5384:5000,5385:5000,5386:5000,5387:5000,5388:5000,5389:5000,5390:5000,5391:5000,5392:5000,5393:5000,5394:5000,5395:5000,5396:5000,5397:5000,5398:5000,5399:5000,5400:5000,5401:5000,5402:5000,5403:5000,5404:5000,5405:5000,5406:5000,5407:5000,5408:5000,5409:5000,5410:5000,5411:5000,5412:5000,5413:5000,5414:5000,5415:5000,5416:5000,5417:5000,5418:5000,5419:5000,5420:5000,5421:5000,5422:5000,5423:5000,5424:5000,5425:5000,5426:5000,5427:5000,5428:5000,5429:5000,5430:5000,5431:5000,5432:5000,5433:5000,5434:5000,5435:5000,5436:5000,5437:5000,5438:5000,5439:5000,5440:5000,5441:5000,5442:5000,5443:5000,5444:5000,5445:5000,5446:5000,5447:5000,5448:5000,5449:5000,5450:5000,5451:5000,5452:5000,5453:5000,5454:5000,5455:5000,5456:5000,5457:5000,5458:5000,5459:5000,5460:5000,5461:5000,5462:5000,5463:5000,5464:5000,5465:5000,5466:5000,5467:5000,5468:5000,5469:5000,5470:5000,5471:5000,5472:5000,5473:5000,5474:5000,5475:5000,5476:5000,5477:5000,5478:5000,5479:5000,5480:5000,5481:5000,5482:5000,5483:5000,5484:5000,5485:5000,5486:5000,5487:5000,5488:5000,5489:5000,5490:5000,5491:5000,5492:5000,5493:5000,5494:5000,5495:5000,5496:5000,5497:5000,5498:5000,5499:5000,5500:5000,5501:5000,5502:5000,5503:5000,5504:5000,5505:5000,5506:5000,5507:5000,5508:5000,5509:5000,5510:5000,5511:5000,5512:5000,5513:5000,5514:5000,5515:5000,5516:5000,5517:5000,5518:5000,5519:5000,5520:5000,5521:5000,5522:5000,5523:5000,5524:5000,5525:5000,5526:5000,5527:5000,5528:5000,5529:5000,5530:5000,5531:5000,5532:5000,5533:5000,5534:5000,5535:5000,5536:5000,5537:5000,5538:5000,5539:5000,5540:5000,5541:5000,5542:5000,5543:5000,5544:5000,5545:5000,5546:5000,5547:5000,5548:5000,5549:5000,5550:5000,5551:5000,5552:5000,5553:5000,5554:5000,5555:5000,5556:5000,5557:5000,5558:5000,5559:5000,5560:5000,5561:5000,5562:5000,5563:5000,5564:5000,5565:5000,5566:5000,5567:5000,5568:5000,5569:5000,5570:5000,5571:5000,5572:5000,5573:5000,5574:5000,5575:5000,5576:5000,5577:5000,5578:5000,5579:5000,5580:5000,5581:5000,5582:5000,5583:5000,5584:5000,5585:5000,5586:5000,5587:5000,5588:5000,5589:5000,5590:5000,5591:5000,5592:5000,5593:5000,5594:5000,5595:5000,5596:5000,5597:5000,5598:5000,5599:5000,5600:5000,5601:5000,5602:5000,5603:5000,5604:5000,5605:5000,5606:5000,5607:5000,5608:5000,5609:5000,5610:5000,5611:5000,5612:5000,5613:5000,5614:5000,5615:5000,5616:5000,5617:5000,5618:5000,5619:5000,5620:5000,5621:5000,5622:5000,5623:5000,5624:5000,5625:5000,5626:5000,5627:5000,5628:5000,5629:5000,5630:5000,5631:5000,5632:5000,5633:5000,5634:5000,5635:5000,5636:5000,5637:5000,5638:5000,5639:5000,5640:5000,5641:5000,5642:5000,5643:5000,5644:5000,5645:5000,5646:5000,5647:5000,5648:5000,5649:5000,5650:5000,5651:5000,5652:5000,5653:5000,5654:5000,5655:5000,5656:5000,5657:5000,5658:5000,5659:5000,5660:5000,5661:5000,5662:5000,5663:5000,5664:5000,5665:5000,5666:5000,5667:5000,5668:5000,5669:5000,5670:5000,5671:5000,5672:5000,5673:5000,5674:5000,5675:5000,5676:5000,5677:5000,5678:5000,5679:5000,5680:5000,5681:5000,5682:5000,5683:5000,5684:5000,5685:5000,5686:5000,5687:5000,5688:5000,5689:5000,5690:5000,5691:5000,5692:5000,5693:5000,5694:5000,5695:5000,5696:5000,5697:5000,5698:5000,5699:5000,5700:5000,5701:5000,5702:5000,5703:5000,5704:5000,5705:5000,5706:5000,5707:5000,5708:5000,5709:5000,5710:5000,5711:5000,5712:5000,5713:5000,5714:5000,5715:5000,5716:5000,5717:5000,5718:5000,5719:5000,5720:5000,5721:5000,5722:5000,5723:5000,5724:5000,5725:5000,5726:5000,5727:5000,5728:5000,5729:5000,5730:5000,5731:5000,5732:5000,5733:5000,5734:5000,5735:5000,5736:5000,5737:5000,5738:5000,5739:5000,5740:5000,5741:5000,5742:5000,5743:5000,5744:5000,5745:5000,5746:5000,5747:5000,5748:5000,5749:5000,5750:5000,5751:5000,5752:5000,5753:5000,5754:5000,5755:5000,5756:5000,5757:5000,5758:5000,5759:5000,5760:5000,5761:5000,5762:5000,5763:5000,5764:5000,5765:5000,5766:5000,5767:5000,5768:5000,5769:5000,5770:5000,5771:5000,5772:5000,5773:5000,5774:5000,5775:5000,5776:5000,5777:5000,5778:5000,5779:5000,5780:5000,5781:5000,5782:5000,5783:5000,5784:5000,5785:5000,5786:5000,5787:5000,5788:5000,5789:5000,5790:5000,5791:5000,5792:5000,5793:5000,5794:5000,5795:5000,5796:5000,5797:5000,5798:5000,5799:5000,5800:5000,5801:5000,5802:5000,5803:5000,5804:5000,5805:5000,5806:5000,5807:5000,5808:5000,5809:5000,5810:5000,5811:5000,5812:5000,5813:5000,5814:5000,5815:5000,5816:5000,5817:5000,5818:5000,5819:5000,5820:5000,5821:5000,5822:5000,5823:5000,5824:5000,5825:5000,5826:5000,5827:5000,5828:5000,5829:5000,5830:5000,5831:5000,5832:5000,5833:5000,5834:5000,5835:5000,5836:5000,5837:5000,5838:5000,5839:5000,5840:5000,5841:5000,5842:5000,5843:5000,5844:5000,5845:5000,5846:5000,5847:5000,5848:5000,5849:5000,5850:5000,5851:5000,5852:5000,5853:5000,5854:5000,5855:5000,5856:5000,5857:5000,5858:5000,5859:5000,5860:5000,5861:5000,5862:5000,5863:5000,5864:5000,5865:5000,5866:5000,5867:5000,5868:5000,5869:5000,5870:5000,5871:5000,5872:5000,5873:5000,5874:5000,5875:5000,5876:5000,5877:5000,5878:5000,5879:5000,5880:5000,5881:5000,5882:5000,5883:5000,5884:5000,5885:5000,5886:5000,5887:5000,5888:5000,5889:5000,5890:5000,5891:5000,5892:5000,5893:5000,5894:5000,5895:5000,5896:5000,5897:5000,5898:5000,5899:5000,5900:5000,5901:5000,5902:5000,5903:5000,5904:5000,5905:5000,5906:5000,5907:5000,5908:5000,5909:5000,5910:5000,5911:5000,5912:5000,5913:5000,5914:5000,5915:5000,5916:5000,5917:5000,5918:5000,5919:5000,5920:5000,5921:5000,5922:5000,5923:5000,5924:5000,5925:5000,5926:5000,5927:5000,5928:5000,5929:5000,5930:5000,5931:5000,5932:5000,5933:5000,5934:5000,5935:5000,5936:5000,5937:5000,5938:5000,5939:5000,5940:5000,5941:5000,5942:5000,5943:5000,5944:5000,5945:5000,5946:5000,5947:5000,5948:5000,5949:5000,5950:5000,5951:5000,5952:5000,5953:5000,5954:5000,5955:5000,5956:5000,5957:5000,5958:5000,5959:5000,5960:5000,5961:5000,5962:5000,5963:5000,5964:5000,5965:5000,5966:5000,5967:5000,5968:5000,5969:5000,5970:5000,5971:5000,5972:5000,5973:5000,5974:5000,5975:5000,5976:5000,5977:5000,5978:5000,5979:5000,5980:5000,5981:5000,5982:5000,5983:5000,5984:5000,5985:5000,5986:5000,5987:5000,5988:5000,5989:5000,5990:5000,5991:5000,5992:5000,5993:5000,5994:5000,5995:5000,5996:5000,5997:5000,5998:5000,5999:5000,\n",
    "    #6000:6000,6001:6000,6002:6000,6003:6000,6004:6000,6005:6000,6006:6000,6007:6000,6008:6000,6009:6000,6010:6000,6011:6000,6012:6000,6013:6000,6014:6000,6015:6000,6016:6000,6017:6000,6018:6000,6019:6000,6020:6000,6021:6000,6022:6000,6023:6000,6024:6000,6025:6000,6026:6000,6027:6000,6028:6000,6029:6000,6030:6000,6031:6000,6032:6000,6033:6000,6034:6000,6035:6000,6036:6000,6037:6000,6038:6000,6039:6000,6040:6000,6041:6000,6042:6000,6043:6000,6044:6000,6045:6000,6046:6000,6047:6000,6048:6000,6049:6000,6050:6000,6051:6000,6052:6000,6053:6000,6054:6000,6055:6000,6056:6000,6057:6000,6058:6000,6059:6000,6060:6000,6061:6000,6062:6000,6063:6000,6064:6000,6065:6000,6066:6000,6067:6000,6068:6000,6069:6000,6070:6000,6071:6000,6072:6000,6073:6000,6074:6000,6075:6000,6076:6000,6077:6000,6078:6000,6079:6000,6080:6000,6081:6000,6082:6000,6083:6000,6084:6000,6085:6000,6086:6000,6087:6000,6088:6000,6089:6000,6090:6000,6091:6000,6092:6000,6093:6000,6094:6000,6095:6000,6096:6000,6097:6000,6098:6000,6099:6000,6100:6000,6101:6000,6102:6000,6103:6000,6104:6000,6105:6000,6106:6000,6107:6000,6108:6000,6109:6000,6110:6000,6111:6000,6112:6000,6113:6000,6114:6000,6115:6000,6116:6000,6117:6000,6118:6000,6119:6000,6120:6000,6121:6000,6122:6000,6123:6000,6124:6000,6125:6000,6126:6000,6127:6000,6128:6000,6129:6000,6130:6000,6131:6000,6132:6000,6133:6000,6134:6000,6135:6000,6136:6000,6137:6000,6138:6000,6139:6000,6140:6000,6141:6000,6142:6000,6143:6000,6144:6000,6145:6000,6146:6000,6147:6000,6148:6000,6149:6000,6150:6000,6151:6000,6152:6000,6153:6000,6154:6000,6155:6000,6156:6000,6157:6000,6158:6000,6159:6000,6160:6000,6161:6000,6162:6000,6163:6000,6164:6000,6165:6000,6166:6000,6167:6000,6168:6000,6169:6000,6170:6000,6171:6000,6172:6000,6173:6000,6174:6000,6175:6000,6176:6000,6177:6000,6178:6000,6179:6000,6180:6000,6181:6000,6182:6000,6183:6000,6184:6000,6185:6000,6186:6000,6187:6000,6188:6000,6189:6000,6190:6000,6191:6000,6192:6000,6193:6000,6194:6000,6195:6000,6196:6000,6197:6000,6198:6000,6199:6000,6200:6000,6201:6000,6202:6000,6203:6000,6204:6000,6205:6000,6206:6000,6207:6000,6208:6000,6209:6000,6210:6000,6211:6000,6212:6000,6213:6000,6214:6000,6215:6000,6216:6000,6217:6000,6218:6000,6219:6000,6220:6000,6221:6000,6222:6000,6223:6000,6224:6000,6225:6000,6226:6000,6227:6000,6228:6000,6229:6000,6230:6000,6231:6000,6232:6000,6233:6000,6234:6000,6235:6000,6236:6000,6237:6000,6238:6000,6239:6000,6240:6000,6241:6000,6242:6000,6243:6000,6244:6000,6245:6000,6246:6000,6247:6000,6248:6000,6249:6000,6250:6000,6251:6000,6252:6000,6253:6000,6254:6000,6255:6000,6256:6000,6257:6000,6258:6000,6259:6000,6260:6000,6261:6000,6262:6000,6263:6000,6264:6000,6265:6000,6266:6000,6267:6000,6268:6000,6269:6000,6270:6000,6271:6000,6272:6000,6273:6000,6274:6000,6275:6000,6276:6000,6277:6000,6278:6000,6279:6000,6280:6000,6281:6000,6282:6000,6283:6000,6284:6000,6285:6000,6286:6000,6287:6000,6288:6000,6289:6000,6290:6000,6291:6000,6292:6000,6293:6000,6294:6000,6295:6000,6296:6000,6297:6000,6298:6000,6299:6000,6300:6000,6301:6000,6302:6000,6303:6000,6304:6000,6305:6000,6306:6000,6307:6000,6308:6000,6309:6000,6310:6000,6311:6000,6312:6000,6313:6000,6314:6000,6315:6000,6316:6000,6317:6000,6318:6000,6319:6000,6320:6000,6321:6000,6322:6000,6323:6000,6324:6000,6325:6000,6326:6000,6327:6000,6328:6000,6329:6000,6330:6000,6331:6000,6332:6000,6333:6000,6334:6000,6335:6000,6336:6000,6337:6000,6338:6000,6339:6000,6340:6000,6341:6000,6342:6000,6343:6000,6344:6000,6345:6000,6346:6000,6347:6000,6348:6000,6349:6000,6350:6000,6351:6000,6352:6000,6353:6000,6354:6000,6355:6000,6356:6000,6357:6000,6358:6000,6359:6000,6360:6000,6361:6000,6362:6000,6363:6000,6364:6000,6365:6000,6366:6000,6367:6000,6368:6000,6369:6000,6370:6000,6371:6000,6372:6000,6373:6000,6374:6000,6375:6000,6376:6000,6377:6000,6378:6000,6379:6000,6380:6000,6381:6000,6382:6000,6383:6000,6384:6000,6385:6000,6386:6000,6387:6000,6388:6000,6389:6000,6390:6000,6391:6000,6392:6000,6393:6000,6394:6000,6395:6000,6396:6000,6397:6000,6398:6000,6399:6000,6400:6000,6401:6000,6402:6000,6403:6000,6404:6000,6405:6000,6406:6000,6407:6000,6408:6000,6409:6000,6410:6000,6411:6000,6412:6000,6413:6000,6414:6000,6415:6000,6416:6000,6417:6000,6418:6000,6419:6000,6420:6000,6421:6000,6422:6000,6423:6000,6424:6000,6425:6000,6426:6000,6427:6000,6428:6000,6429:6000,6430:6000,6431:6000,6432:6000,6433:6000,6434:6000,6435:6000,6436:6000,6437:6000,6438:6000,6439:6000,6440:6000,6441:6000,6442:6000,6443:6000,6444:6000,6445:6000,6446:6000,6447:6000,6448:6000,6449:6000,6450:6000,6451:6000,6452:6000,6453:6000,6454:6000,6455:6000,6456:6000,6457:6000,6458:6000,6459:6000,6460:6000,6461:6000,6462:6000,6463:6000,6464:6000,6465:6000,6466:6000,6467:6000,6468:6000,6469:6000,6470:6000,6471:6000,6472:6000,6473:6000,6474:6000,6475:6000,6476:6000,6477:6000,6478:6000,6479:6000,6480:6000,6481:6000,6482:6000,6483:6000,6484:6000,6485:6000,6486:6000,6487:6000,6488:6000,6489:6000,6490:6000,6491:6000,6492:6000,6493:6000,6494:6000,6495:6000,6496:6000,6497:6000,6498:6000,6499:6000,6500:6000,6501:6000,6502:6000,6503:6000,6504:6000,6505:6000,6506:6000,6507:6000,6508:6000,6509:6000,6510:6000,6511:6000,6512:6000,6513:6000,6514:6000,6515:6000,6516:6000,6517:6000,6518:6000,6519:6000,6520:6000,6521:6000,6522:6000,6523:6000,6524:6000,6525:6000,6526:6000,6527:6000,6528:6000,6529:6000,6530:6000,6531:6000,6532:6000,6533:6000,6534:6000,6535:6000,6536:6000,6537:6000,6538:6000,6539:6000,6540:6000,6541:6000,6542:6000,6543:6000,6544:6000,6545:6000,6546:6000,6547:6000,6548:6000,6549:6000,6550:6000,6551:6000,6552:6000,6553:6000,6554:6000,6555:6000,6556:6000,6557:6000,6558:6000,6559:6000,6560:6000,6561:6000,6562:6000,6563:6000,6564:6000,6565:6000,6566:6000,6567:6000,6568:6000,6569:6000,6570:6000,6571:6000,6572:6000,6573:6000,6574:6000,6575:6000,6576:6000,6577:6000,6578:6000,6579:6000,6580:6000,6581:6000,6582:6000,6583:6000,6584:6000,6585:6000,6586:6000,6587:6000,6588:6000,6589:6000,6590:6000,6591:6000,6592:6000,6593:6000,6594:6000,6595:6000,6596:6000,6597:6000,6598:6000,6599:6000,6600:6000,6601:6000,6602:6000,6603:6000,6604:6000,6605:6000,6606:6000,6607:6000,6608:6000,6609:6000,6610:6000,6611:6000,6612:6000,6613:6000,6614:6000,6615:6000,6616:6000,6617:6000,6618:6000,6619:6000,6620:6000,6621:6000,6622:6000,6623:6000,6624:6000,6625:6000,6626:6000,6627:6000,6628:6000,6629:6000,6630:6000,6631:6000,6632:6000,6633:6000,6634:6000,6635:6000,6636:6000,6637:6000,6638:6000,6639:6000,6640:6000,6641:6000,6642:6000,6643:6000,6644:6000,6645:6000,6646:6000,6647:6000,6648:6000,6649:6000,6650:6000,6651:6000,6652:6000,6653:6000,6654:6000,6655:6000,6656:6000,6657:6000,6658:6000,6659:6000,6660:6000,6661:6000,6662:6000,6663:6000,6664:6000,6665:6000,6666:6000,6667:6000,6668:6000,6669:6000,6670:6000,6671:6000,6672:6000,6673:6000,6674:6000,6675:6000,6676:6000,6677:6000,6678:6000,6679:6000,6680:6000,6681:6000,6682:6000,6683:6000,6684:6000,6685:6000,6686:6000,6687:6000,6688:6000,6689:6000,6690:6000,6691:6000,6692:6000,6693:6000,6694:6000,6695:6000,6696:6000,6697:6000,6698:6000,6699:6000,6700:6000,6701:6000,6702:6000,6703:6000,6704:6000,6705:6000,6706:6000,6707:6000,6708:6000,6709:6000,6710:6000,6711:6000,6712:6000,6713:6000,6714:6000,6715:6000,6716:6000,6717:6000,6718:6000,6719:6000,6720:6000,6721:6000,6722:6000,6723:6000,6724:6000,6725:6000,6726:6000,6727:6000,6728:6000,6729:6000,6730:6000,6731:6000,6732:6000,6733:6000,6734:6000,6735:6000,6736:6000,6737:6000,6738:6000,6739:6000,6740:6000,6741:6000,6742:6000,6743:6000,6744:6000,6745:6000,6746:6000,6747:6000,6748:6000,6749:6000,6750:6000,6751:6000,6752:6000,6753:6000,6754:6000,6755:6000,6756:6000,6757:6000,6758:6000,6759:6000,6760:6000,6761:6000,6762:6000,6763:6000,6764:6000,6765:6000,6766:6000,6767:6000,6768:6000,6769:6000,6770:6000,6771:6000,6772:6000,6773:6000,6774:6000,6775:6000,6776:6000,6777:6000,6778:6000,6779:6000,6780:6000,6781:6000,6782:6000,6783:6000,6784:6000,6785:6000,6786:6000,6787:6000,6788:6000,6789:6000,6790:6000,6791:6000,6792:6000,6793:6000,6794:6000,6795:6000,6796:6000,6797:6000,6798:6000,6799:6000,6800:6000,6801:6000,6802:6000,6803:6000,6804:6000,6805:6000,6806:6000,6807:6000,6808:6000,6809:6000,6810:6000,6811:6000,6812:6000,6813:6000,6814:6000,6815:6000,6816:6000,6817:6000,6818:6000,6819:6000,6820:6000,6821:6000,6822:6000,6823:6000,6824:6000,6825:6000,6826:6000,6827:6000,6828:6000,6829:6000,6830:6000,6831:6000,6832:6000,6833:6000,6834:6000,6835:6000,6836:6000,6837:6000,6838:6000,6839:6000,6840:6000,6841:6000,6842:6000,6843:6000,6844:6000,6845:6000,6846:6000,6847:6000,6848:6000,6849:6000,6850:6000,6851:6000,6852:6000,6853:6000,6854:6000,6855:6000,6856:6000,6857:6000,6858:6000,6859:6000,6860:6000,6861:6000,6862:6000,6863:6000,6864:6000,6865:6000,6866:6000,6867:6000,6868:6000,6869:6000,6870:6000,6871:6000,6872:6000,6873:6000,6874:6000,6875:6000,6876:6000,6877:6000,6878:6000,6879:6000,6880:6000,6881:6000,6882:6000,6883:6000,6884:6000,6885:6000,6886:6000,6887:6000,6888:6000,6889:6000,6890:6000,6891:6000,6892:6000,6893:6000,6894:6000,6895:6000,6896:6000,6897:6000,6898:6000,6899:6000,6900:6000,6901:6000,6902:6000,6903:6000,6904:6000,6905:6000,6906:6000,6907:6000,6908:6000,6909:6000,6910:6000,6911:6000,6912:6000,6913:6000,6914:6000,6915:6000,6916:6000,6917:6000,6918:6000,6919:6000,6920:6000,6921:6000,6922:6000,6923:6000,6924:6000,6925:6000,6926:6000,6927:6000,6928:6000,6929:6000,6930:6000,6931:6000,6932:6000,6933:6000,6934:6000,6935:6000,6936:6000,6937:6000,6938:6000,6939:6000,6940:6000,6941:6000,6942:6000,6943:6000,6944:6000,6945:6000,6946:6000,6947:6000,6948:6000,6949:6000,6950:6000,6951:6000,6952:6000,6953:6000,6954:6000,6955:6000,6956:6000,6957:6000,6958:6000,6959:6000,6960:6000,6961:6000,6962:6000,6963:6000,6964:6000,6965:6000,6966:6000,6967:6000,6968:6000,6969:6000,6970:6000,6971:6000,6972:6000,6973:6000,6974:6000,6975:6000,6976:6000,6977:6000,6978:6000,6979:6000,6980:6000,6981:6000,6982:6000,6983:6000,6984:6000,6985:6000,6986:6000,6987:6000,6988:6000,6989:6000,6990:6000,6991:6000,6992:6000,6993:6000,6994:6000,6995:6000,6996:6000,6997:6000,6998:6000,6999:6000,\n",
    "    #7000:7000,7001:7000,7002:7000,7003:7000,7004:7000,7005:7000,7006:7000,7007:7000,7008:7000,7009:7000,7010:7000,7011:7000,7012:7000,7013:7000,7014:7000,7015:7000,7016:7000,7017:7000,7018:7000,7019:7000,7020:7000,7021:7000,7022:7000,7023:7000,7024:7000,7025:7000,7026:7000,7027:7000,7028:7000,7029:7000,7030:7000,7031:7000,7032:7000,7033:7000,7034:7000,7035:7000,7036:7000,7037:7000,7038:7000,7039:7000,7040:7000,7041:7000,7042:7000,7043:7000,7044:7000,7045:7000,7046:7000,7047:7000,7048:7000,7049:7000,7050:7000,7051:7000,7052:7000,7053:7000,7054:7000,7055:7000,7056:7000,7057:7000,7058:7000,7059:7000,7060:7000,7061:7000,7062:7000,7063:7000,7064:7000,7065:7000,7066:7000,7067:7000,7068:7000,7069:7000,7070:7000,7071:7000,7072:7000,7073:7000,7074:7000,7075:7000,7076:7000,7077:7000,7078:7000,7079:7000,7080:7000,7081:7000,7082:7000,7083:7000,7084:7000,7085:7000,7086:7000,7087:7000,7088:7000,7089:7000,7090:7000,7091:7000,7092:7000,7093:7000,7094:7000,7095:7000,7096:7000,7097:7000,7098:7000,7099:7000,7100:7000,7101:7000,7102:7000,7103:7000,7104:7000,7105:7000,7106:7000,7107:7000,7108:7000,7109:7000,7110:7000,7111:7000,7112:7000,7113:7000,7114:7000,7115:7000,7116:7000,7117:7000,7118:7000,7119:7000,7120:7000,7121:7000,7122:7000,7123:7000,7124:7000,7125:7000,7126:7000,7127:7000,7128:7000,7129:7000,7130:7000,7131:7000,7132:7000,7133:7000,7134:7000,7135:7000,7136:7000,7137:7000,7138:7000,7139:7000,7140:7000,7141:7000,7142:7000,7143:7000,7144:7000,7145:7000,7146:7000,7147:7000,7148:7000,7149:7000,7150:7000,7151:7000,7152:7000,7153:7000,7154:7000,7155:7000,7156:7000,7157:7000,7158:7000,7159:7000,7160:7000,7161:7000,7162:7000,7163:7000,7164:7000,7165:7000,7166:7000,7167:7000,7168:7000,7169:7000,7170:7000,7171:7000,7172:7000,7173:7000,7174:7000,7175:7000,7176:7000,7177:7000,7178:7000,7179:7000,7180:7000,7181:7000,7182:7000,7183:7000,7184:7000,7185:7000,7186:7000,7187:7000,7188:7000,7189:7000,7190:7000,7191:7000,7192:7000,7193:7000,7194:7000,7195:7000,7196:7000,7197:7000,7198:7000,7199:7000,7200:7000,7201:7000,7202:7000,7203:7000,7204:7000,7205:7000,7206:7000,7207:7000,7208:7000,7209:7000,7210:7000,7211:7000,7212:7000,7213:7000,7214:7000,7215:7000,7216:7000,7217:7000,7218:7000,7219:7000,7220:7000,7221:7000,7222:7000,7223:7000,7224:7000,7225:7000,7226:7000,7227:7000,7228:7000,7229:7000,7230:7000,7231:7000,7232:7000,7233:7000,7234:7000,7235:7000,7236:7000,7237:7000,7238:7000,7239:7000,7240:7000,7241:7000,7242:7000,7243:7000,7244:7000,7245:7000,7246:7000,7247:7000,7248:7000,7249:7000,7250:7000,7251:7000,7252:7000,7253:7000,7254:7000,7255:7000,7256:7000,7257:7000,7258:7000,7259:7000,7260:7000,7261:7000,7262:7000,7263:7000,7264:7000,7265:7000,7266:7000,7267:7000,7268:7000,7269:7000,7270:7000,7271:7000,7272:7000,7273:7000,7274:7000,7275:7000,7276:7000,7277:7000,7278:7000,7279:7000,7280:7000,7281:7000,7282:7000,7283:7000,7284:7000,7285:7000,7286:7000,7287:7000,7288:7000,7289:7000,7290:7000,7291:7000,7292:7000,7293:7000,7294:7000,7295:7000,7296:7000,7297:7000,7298:7000,7299:7000,7300:7000,7301:7000,7302:7000,7303:7000,7304:7000,7305:7000,7306:7000,7307:7000,7308:7000,7309:7000,7310:7000,7311:7000,7312:7000,7313:7000,7314:7000,7315:7000,7316:7000,7317:7000,7318:7000,7319:7000,7320:7000,7321:7000,7322:7000,7323:7000,7324:7000,7325:7000,7326:7000,7327:7000,7328:7000,7329:7000,7330:7000,7331:7000,7332:7000,7333:7000,7334:7000,7335:7000,7336:7000,7337:7000,7338:7000,7339:7000,7340:7000,7341:7000,7342:7000,7343:7000,7344:7000,7345:7000,7346:7000,7347:7000,7348:7000,7349:7000,7350:7000,7351:7000,7352:7000,7353:7000,7354:7000,7355:7000,7356:7000,7357:7000,7358:7000,7359:7000,7360:7000,7361:7000,7362:7000,7363:7000,7364:7000,7365:7000,7366:7000,7367:7000,7368:7000,7369:7000,7370:7000,7371:7000,7372:7000,7373:7000,7374:7000,7375:7000,7376:7000,7377:7000,7378:7000,7379:7000,7380:7000,7381:7000,7382:7000,7383:7000,7384:7000,7385:7000,7386:7000,7387:7000,7388:7000,7389:7000,7390:7000,7391:7000,7392:7000,7393:7000,7394:7000,7395:7000,7396:7000,7397:7000,7398:7000,7399:7000,7400:7000,7401:7000,7402:7000,7403:7000,7404:7000,7405:7000,7406:7000,7407:7000,7408:7000,7409:7000,7410:7000,7411:7000,7412:7000,7413:7000,7414:7000,7415:7000,7416:7000,7417:7000,7418:7000,7419:7000,7420:7000,7421:7000,7422:7000,7423:7000,7424:7000,7425:7000,7426:7000,7427:7000,7428:7000,7429:7000,7430:7000,7431:7000,7432:7000,7433:7000,7434:7000,7435:7000,7436:7000,7437:7000,7438:7000,7439:7000,7440:7000,7441:7000,7442:7000,7443:7000,7444:7000,7445:7000,7446:7000,7447:7000,7448:7000,7449:7000,7450:7000,7451:7000,7452:7000,7453:7000,7454:7000,7455:7000,7456:7000,7457:7000,7458:7000,7459:7000,7460:7000,7461:7000,7462:7000,7463:7000,7464:7000,7465:7000,7466:7000,7467:7000,7468:7000,7469:7000,7470:7000,7471:7000,7472:7000,7473:7000,7474:7000,7475:7000,7476:7000,7477:7000,7478:7000,7479:7000,7480:7000,7481:7000,7482:7000,7483:7000,7484:7000,7485:7000,7486:7000,7487:7000,7488:7000,7489:7000,7490:7000,7491:7000,7492:7000,7493:7000,7494:7000,7495:7000,7496:7000,7497:7000,7498:7000,7499:7000,7500:7000,7501:7000,7502:7000,7503:7000,7504:7000,7505:7000,7506:7000,7507:7000,7508:7000,7509:7000,7510:7000,7511:7000,7512:7000,7513:7000,7514:7000,7515:7000,7516:7000,7517:7000,7518:7000,7519:7000,7520:7000,7521:7000,7522:7000,7523:7000,7524:7000,7525:7000,7526:7000,7527:7000,7528:7000,7529:7000,7530:7000,7531:7000,7532:7000,7533:7000,7534:7000,7535:7000,7536:7000,7537:7000,7538:7000,7539:7000,7540:7000,7541:7000,7542:7000,7543:7000,7544:7000,7545:7000,7546:7000,7547:7000,7548:7000,7549:7000,7550:7000,7551:7000,7552:7000,7553:7000,7554:7000,7555:7000,7556:7000,7557:7000,7558:7000,7559:7000,7560:7000,7561:7000,7562:7000,7563:7000,7564:7000,7565:7000,7566:7000,7567:7000,7568:7000,7569:7000,7570:7000,7571:7000,7572:7000,7573:7000,7574:7000,7575:7000,7576:7000,7577:7000,7578:7000,7579:7000,7580:7000,7581:7000,7582:7000,7583:7000,7584:7000,7585:7000,7586:7000,7587:7000,7588:7000,7589:7000,7590:7000,7591:7000,7592:7000,7593:7000,7594:7000,7595:7000,7596:7000,7597:7000,7598:7000,7599:7000,7600:7000,7601:7000,7602:7000,7603:7000,7604:7000,7605:7000,7606:7000,7607:7000,7608:7000,7609:7000,7610:7000,7611:7000,7612:7000,7613:7000,7614:7000,7615:7000,7616:7000,7617:7000,7618:7000,7619:7000,7620:7000,7621:7000,7622:7000,7623:7000,7624:7000,7625:7000,7626:7000,7627:7000,7628:7000,7629:7000,7630:7000,7631:7000,7632:7000,7633:7000,7634:7000,7635:7000,7636:7000,7637:7000,7638:7000,7639:7000,7640:7000,7641:7000,7642:7000,7643:7000,7644:7000,7645:7000,7646:7000,7647:7000,7648:7000,7649:7000,7650:7000,7651:7000,7652:7000,7653:7000,7654:7000,7655:7000,7656:7000,7657:7000,7658:7000,7659:7000,7660:7000,7661:7000,7662:7000,7663:7000,7664:7000,7665:7000,7666:7000,7667:7000,7668:7000,7669:7000,7670:7000,7671:7000,7672:7000,7673:7000,7674:7000,7675:7000,7676:7000,7677:7000,7678:7000,7679:7000,7680:7000,7681:7000,7682:7000,7683:7000,7684:7000,7685:7000,7686:7000,7687:7000,7688:7000,7689:7000,7690:7000,7691:7000,7692:7000,7693:7000,7694:7000,7695:7000,7696:7000,7697:7000,7698:7000,7699:7000,7700:7000,7701:7000,7702:7000,7703:7000,7704:7000,7705:7000,7706:7000,7707:7000,7708:7000,7709:7000,7710:7000,7711:7000,7712:7000,7713:7000,7714:7000,7715:7000,7716:7000,7717:7000,7718:7000,7719:7000,7720:7000,7721:7000,7722:7000,7723:7000,7724:7000,7725:7000,7726:7000,7727:7000,7728:7000,7729:7000,7730:7000,7731:7000,7732:7000,7733:7000,7734:7000,7735:7000,7736:7000,7737:7000,7738:7000,7739:7000,7740:7000,7741:7000,7742:7000,7743:7000,7744:7000,7745:7000,7746:7000,7747:7000,7748:7000,7749:7000,7750:7000,7751:7000,7752:7000,7753:7000,7754:7000,7755:7000,7756:7000,7757:7000,7758:7000,7759:7000,7760:7000,7761:7000,7762:7000,7763:7000,7764:7000,7765:7000,7766:7000,7767:7000,7768:7000,7769:7000,7770:7000,7771:7000,7772:7000,7773:7000,7774:7000,7775:7000,7776:7000,7777:7000,7778:7000,7779:7000,7780:7000,7781:7000,7782:7000,7783:7000,7784:7000,7785:7000,7786:7000,7787:7000,7788:7000,7789:7000,7790:7000,7791:7000,7792:7000,7793:7000,7794:7000,7795:7000,7796:7000,7797:7000,7798:7000,7799:7000,7800:7000,7801:7000,7802:7000,7803:7000,7804:7000,7805:7000,7806:7000,7807:7000,7808:7000,7809:7000,7810:7000,7811:7000,7812:7000,7813:7000,7814:7000,7815:7000,7816:7000,7817:7000,7818:7000,7819:7000,7820:7000,7821:7000,7822:7000,7823:7000,7824:7000,7825:7000,7826:7000,7827:7000,7828:7000,7829:7000,7830:7000,7831:7000,7832:7000,7833:7000,7834:7000,7835:7000,7836:7000,7837:7000,7838:7000,7839:7000,7840:7000,7841:7000,7842:7000,7843:7000,7844:7000,7845:7000,7846:7000,7847:7000,7848:7000,7849:7000,7850:7000,7851:7000,7852:7000,7853:7000,7854:7000,7855:7000,7856:7000,7857:7000,7858:7000,7859:7000,7860:7000,7861:7000,7862:7000,7863:7000,7864:7000,7865:7000,7866:7000,7867:7000,7868:7000,7869:7000,7870:7000,7871:7000,7872:7000,7873:7000,7874:7000,7875:7000,7876:7000,7877:7000,7878:7000,7879:7000,7880:7000,7881:7000,7882:7000,7883:7000,7884:7000,7885:7000,7886:7000,7887:7000,7888:7000,7889:7000,7890:7000,7891:7000,7892:7000,7893:7000,7894:7000,7895:7000,7896:7000,7897:7000,7898:7000,7899:7000,7900:7000,7901:7000,7902:7000,7903:7000,7904:7000,7905:7000,7906:7000,7907:7000,7908:7000,7909:7000,7910:7000,7911:7000,7912:7000,7913:7000,7914:7000,7915:7000,7916:7000,7917:7000,7918:7000,7919:7000,7920:7000,7921:7000,7922:7000,7923:7000,7924:7000,7925:7000,7926:7000,7927:7000,7928:7000,7929:7000,7930:7000,7931:7000,7932:7000,7933:7000,7934:7000,7935:7000,7936:7000,7937:7000,7938:7000,7939:7000,7940:7000,7941:7000,7942:7000,7943:7000,7944:7000,7945:7000,7946:7000,7947:7000,7948:7000,7949:7000,7950:7000,7951:7000,7952:7000,7953:7000,7954:7000,7955:7000,7956:7000,7957:7000,7958:7000,7959:7000,7960:7000,7961:7000,7962:7000,7963:7000,7964:7000,7965:7000,7966:7000,7967:7000,7968:7000,7969:7000,7970:7000,7971:7000,7972:7000,7973:7000,7974:7000,7975:7000,7976:7000,7977:7000,7978:7000,7979:7000,7980:7000,7981:7000,7982:7000,7983:7000,7984:7000,7985:7000,7986:7000,7987:7000,7988:7000,7989:7000,7990:7000,7991:7000,7992:7000,7993:7000,7994:7000,7995:7000,7996:7000,7997:7000,7998:7000,7999:7000,\n",
    "    #8000:8000,8001:8000,8002:8000,8003:8000,8004:8000,8005:8000,8006:8000,8007:8000,8008:8000,8009:8000,8010:8000,8011:8000,8012:8000,8013:8000,8014:8000,8015:8000,8016:8000,8017:8000,8018:8000,8019:8000,8020:8000,8021:8000,8022:8000,8023:8000,8024:8000,8025:8000,8026:8000,8027:8000,8028:8000,8029:8000,8030:8000,8031:8000,8032:8000,8033:8000,8034:8000,8035:8000,8036:8000,8037:8000,8038:8000,8039:8000,8040:8000,8041:8000,8042:8000,8043:8000,8044:8000,8045:8000,8046:8000,8047:8000,8048:8000,8049:8000,8050:8000,8051:8000,8052:8000,8053:8000,8054:8000,8055:8000,8056:8000,8057:8000,8058:8000,8059:8000,8060:8000,8061:8000,8062:8000,8063:8000,8064:8000,8065:8000,8066:8000,8067:8000,8068:8000,8069:8000,8070:8000,8071:8000,8072:8000,8073:8000,8074:8000,8075:8000,8076:8000,8077:8000,8078:8000,8079:8000,8080:8000,8081:8000,8082:8000,8083:8000,8084:8000,8085:8000,8086:8000,8087:8000,8088:8000,8089:8000,8090:8000,8091:8000,8092:8000,8093:8000,8094:8000,8095:8000,8096:8000,8097:8000,8098:8000,8099:8000,8100:8000,8101:8000,8102:8000,8103:8000,8104:8000,8105:8000,8106:8000,8107:8000,8108:8000,8109:8000,8110:8000,8111:8000,8112:8000,8113:8000,8114:8000,8115:8000,8116:8000,8117:8000,8118:8000,8119:8000,8120:8000,8121:8000,8122:8000,8123:8000,8124:8000,8125:8000,8126:8000,8127:8000,8128:8000,8129:8000,8130:8000,8131:8000,8132:8000,8133:8000,8134:8000,8135:8000,8136:8000,8137:8000,8138:8000,8139:8000,8140:8000,8141:8000,8142:8000,8143:8000,8144:8000,8145:8000,8146:8000,8147:8000,8148:8000,8149:8000,8150:8000,8151:8000,8152:8000,8153:8000,8154:8000,8155:8000,8156:8000,8157:8000,8158:8000,8159:8000,8160:8000,8161:8000,8162:8000,8163:8000,8164:8000,8165:8000,8166:8000,8167:8000,8168:8000,8169:8000,8170:8000,8171:8000,8172:8000,8173:8000,8174:8000,8175:8000,8176:8000,8177:8000,8178:8000,8179:8000,8180:8000,8181:8000,8182:8000,8183:8000,8184:8000,8185:8000,8186:8000,8187:8000,8188:8000,8189:8000,8190:8000,8191:8000,8192:8000,8193:8000,8194:8000,8195:8000,8196:8000,8197:8000,8198:8000,8199:8000,8200:8000,8201:8000,8202:8000,8203:8000,8204:8000,8205:8000,8206:8000,8207:8000,8208:8000,8209:8000,8210:8000,8211:8000,8212:8000,8213:8000,8214:8000,8215:8000,8216:8000,8217:8000,8218:8000,8219:8000,8220:8000,8221:8000,8222:8000,8223:8000,8224:8000,8225:8000,8226:8000,8227:8000,8228:8000,8229:8000,8230:8000,8231:8000,8232:8000,8233:8000,8234:8000,8235:8000,8236:8000,8237:8000,8238:8000,8239:8000,8240:8000,8241:8000,8242:8000,8243:8000,8244:8000,8245:8000,8246:8000,8247:8000,8248:8000,8249:8000,8250:8000,8251:8000,8252:8000,8253:8000,8254:8000,8255:8000,8256:8000,8257:8000,8258:8000,8259:8000,8260:8000,8261:8000,8262:8000,8263:8000,8264:8000,8265:8000,8266:8000,8267:8000,8268:8000,8269:8000,8270:8000,8271:8000,8272:8000,8273:8000,8274:8000,8275:8000,8276:8000,8277:8000,8278:8000,8279:8000,8280:8000,8281:8000,8282:8000,8283:8000,8284:8000,8285:8000,8286:8000,8287:8000,8288:8000,8289:8000,8290:8000,8291:8000,8292:8000,8293:8000,8294:8000,8295:8000,8296:8000,8297:8000,8298:8000,8299:8000,8300:8000,8301:8000,8302:8000,8303:8000,8304:8000,8305:8000,8306:8000,8307:8000,8308:8000,8309:8000,8310:8000,8311:8000,8312:8000,8313:8000,8314:8000,8315:8000,8316:8000,8317:8000,8318:8000,8319:8000,8320:8000,8321:8000,8322:8000,8323:8000,8324:8000,8325:8000,8326:8000,8327:8000,8328:8000,8329:8000,8330:8000,8331:8000,8332:8000,8333:8000,8334:8000,8335:8000,8336:8000,8337:8000,8338:8000,8339:8000,8340:8000,8341:8000,8342:8000,8343:8000,8344:8000,8345:8000,8346:8000,8347:8000,8348:8000,8349:8000,8350:8000,8351:8000,8352:8000,8353:8000,8354:8000,8355:8000,8356:8000,8357:8000,8358:8000,8359:8000,8360:8000,8361:8000,8362:8000,8363:8000,8364:8000,8365:8000,8366:8000,8367:8000,8368:8000,8369:8000,8370:8000,8371:8000,8372:8000,8373:8000,8374:8000,8375:8000,8376:8000,8377:8000,8378:8000,8379:8000,8380:8000,8381:8000,8382:8000,8383:8000,8384:8000,8385:8000,8386:8000,8387:8000,8388:8000,8389:8000,8390:8000,8391:8000,8392:8000,8393:8000,8394:8000,8395:8000,8396:8000,8397:8000,8398:8000,8399:8000,8400:8000,8401:8000,8402:8000,8403:8000,8404:8000,8405:8000,8406:8000,8407:8000,8408:8000,8409:8000,8410:8000,8411:8000,8412:8000,8413:8000,8414:8000,8415:8000,8416:8000,8417:8000,8418:8000,8419:8000,8420:8000,8421:8000,8422:8000,8423:8000,8424:8000,8425:8000,8426:8000,8427:8000,8428:8000,8429:8000,8430:8000,8431:8000,8432:8000,8433:8000,8434:8000,8435:8000,8436:8000,8437:8000,8438:8000,8439:8000,8440:8000,8441:8000,8442:8000,8443:8000,8444:8000,8445:8000,8446:8000,8447:8000,8448:8000,8449:8000,8450:8000,8451:8000,8452:8000,8453:8000,8454:8000,8455:8000,8456:8000,8457:8000,8458:8000,8459:8000,8460:8000,8461:8000,8462:8000,8463:8000,8464:8000,8465:8000,8466:8000,8467:8000,8468:8000,8469:8000,8470:8000,8471:8000,8472:8000,8473:8000,8474:8000,8475:8000,8476:8000,8477:8000,8478:8000,8479:8000,8480:8000,8481:8000,8482:8000,8483:8000,8484:8000,8485:8000,8486:8000,8487:8000,8488:8000,8489:8000,8490:8000,8491:8000,8492:8000,8493:8000,8494:8000,8495:8000,8496:8000,8497:8000,8498:8000,8499:8000,8500:8000,8501:8000,8502:8000,8503:8000,8504:8000,8505:8000,8506:8000,8507:8000,8508:8000,8509:8000,8510:8000,8511:8000,8512:8000,8513:8000,8514:8000,8515:8000,8516:8000,8517:8000,8518:8000,8519:8000,8520:8000,8521:8000,8522:8000,8523:8000,8524:8000,8525:8000,8526:8000,8527:8000,8528:8000,8529:8000,8530:8000,8531:8000,8532:8000,8533:8000,8534:8000,8535:8000,8536:8000,8537:8000,8538:8000,8539:8000,8540:8000,8541:8000,8542:8000,8543:8000,8544:8000,8545:8000,8546:8000,8547:8000,8548:8000,8549:8000,8550:8000,8551:8000,8552:8000,8553:8000,8554:8000,8555:8000,8556:8000,8557:8000,8558:8000,8559:8000,8560:8000,8561:8000,8562:8000,8563:8000,8564:8000,8565:8000,8566:8000,8567:8000,8568:8000,8569:8000,8570:8000,8571:8000,8572:8000,8573:8000,8574:8000,8575:8000,8576:8000,8577:8000,8578:8000,8579:8000,8580:8000,8581:8000,8582:8000,8583:8000,8584:8000,8585:8000,8586:8000,8587:8000,8588:8000,8589:8000,8590:8000,8591:8000,8592:8000,8593:8000,8594:8000,8595:8000,8596:8000,8597:8000,8598:8000,8599:8000,8600:8000,8601:8000,8602:8000,8603:8000,8604:8000,8605:8000,8606:8000,8607:8000,8608:8000,8609:8000,8610:8000,8611:8000,8612:8000,8613:8000,8614:8000,8615:8000,8616:8000,8617:8000,8618:8000,8619:8000,8620:8000,8621:8000,8622:8000,8623:8000,8624:8000,8625:8000,8626:8000,8627:8000,8628:8000,8629:8000,8630:8000,8631:8000,8632:8000,8633:8000,8634:8000,8635:8000,8636:8000,8637:8000,8638:8000,8639:8000,8640:8000,8641:8000,8642:8000,8643:8000,8644:8000,8645:8000,8646:8000,8647:8000,8648:8000,8649:8000,8650:8000,8651:8000,8652:8000,8653:8000,8654:8000,8655:8000,8656:8000,8657:8000,8658:8000,8659:8000,8660:8000,8661:8000,8662:8000,8663:8000,8664:8000,8665:8000,8666:8000,8667:8000,8668:8000,8669:8000,8670:8000,8671:8000,8672:8000,8673:8000,8674:8000,8675:8000,8676:8000,8677:8000,8678:8000,8679:8000,8680:8000,8681:8000,8682:8000,8683:8000,8684:8000,8685:8000,8686:8000,8687:8000,8688:8000,8689:8000,8690:8000,8691:8000,8692:8000,8693:8000,8694:8000,8695:8000,8696:8000,8697:8000,8698:8000,8699:8000,8700:8000,8701:8000,8702:8000,8703:8000,8704:8000,8705:8000,8706:8000,8707:8000,8708:8000,8709:8000,8710:8000,8711:8000,8712:8000,8713:8000,8714:8000,8715:8000,8716:8000,8717:8000,8718:8000,8719:8000,8720:8000,8721:8000,8722:8000,8723:8000,8724:8000,8725:8000,8726:8000,8727:8000,8728:8000,8729:8000,8730:8000,8731:8000,8732:8000,8733:8000,8734:8000,8735:8000,8736:8000,8737:8000,8738:8000,8739:8000,8740:8000,8741:8000,8742:8000,8743:8000,8744:8000,8745:8000,8746:8000,8747:8000,8748:8000,8749:8000,8750:8000,8751:8000,8752:8000,8753:8000,8754:8000,8755:8000,8756:8000,8757:8000,8758:8000,8759:8000,8760:8000,8761:8000,8762:8000,8763:8000,8764:8000,8765:8000,8766:8000,8767:8000,8768:8000,8769:8000,8770:8000,8771:8000,8772:8000,8773:8000,8774:8000,8775:8000,8776:8000,8777:8000,8778:8000,8779:8000,8780:8000,8781:8000,8782:8000,8783:8000,8784:8000,8785:8000,8786:8000,8787:8000,8788:8000,8789:8000,8790:8000,8791:8000,8792:8000,8793:8000,8794:8000,8795:8000,8796:8000,8797:8000,8798:8000,8799:8000,8800:8000,8801:8000,8802:8000,8803:8000,8804:8000,8805:8000,8806:8000,8807:8000,8808:8000,8809:8000,8810:8000,8811:8000,8812:8000,8813:8000,8814:8000,8815:8000,8816:8000,8817:8000,8818:8000,8819:8000,8820:8000,8821:8000,8822:8000,8823:8000,8824:8000,8825:8000,8826:8000,8827:8000,8828:8000,8829:8000,8830:8000,8831:8000,8832:8000,8833:8000,8834:8000,8835:8000,8836:8000,8837:8000,8838:8000,8839:8000,8840:8000,8841:8000,8842:8000,8843:8000,8844:8000,8845:8000,8846:8000,8847:8000,8848:8000,8849:8000,8850:8000,8851:8000,8852:8000,8853:8000,8854:8000,8855:8000,8856:8000,8857:8000,8858:8000,8859:8000,8860:8000,8861:8000,8862:8000,8863:8000,8864:8000,8865:8000,8866:8000,8867:8000,8868:8000,8869:8000,8870:8000,8871:8000,8872:8000,8873:8000,8874:8000,8875:8000,8876:8000,8877:8000,8878:8000,8879:8000,8880:8000,8881:8000,8882:8000,8883:8000,8884:8000,8885:8000,8886:8000,8887:8000,8888:8000,8889:8000,8890:8000,8891:8000,8892:8000,8893:8000,8894:8000,8895:8000,8896:8000,8897:8000,8898:8000,8899:8000,8900:8000,8901:8000,8902:8000,8903:8000,8904:8000,8905:8000,8906:8000,8907:8000,8908:8000,8909:8000,8910:8000,8911:8000,8912:8000,8913:8000,8914:8000,8915:8000,8916:8000,8917:8000,8918:8000,8919:8000,8920:8000,8921:8000,8922:8000,8923:8000,8924:8000,8925:8000,8926:8000,8927:8000,8928:8000,8929:8000,8930:8000,8931:8000,8932:8000,8933:8000,8934:8000,8935:8000,8936:8000,8937:8000,8938:8000,8939:8000,8940:8000,8941:8000,8942:8000,8943:8000,8944:8000,8945:8000,8946:8000,8947:8000,8948:8000,8949:8000,8950:8000,8951:8000,8952:8000,8953:8000,8954:8000,8955:8000,8956:8000,8957:8000,8958:8000,8959:8000,8960:8000,8961:8000,8962:8000,8963:8000,8964:8000,8965:8000,8966:8000,8967:8000,8968:8000,8969:8000,8970:8000,8971:8000,8972:8000,8973:8000,8974:8000,8975:8000,8976:8000,8977:8000,8978:8000,8979:8000,8980:8000,8981:8000,8982:8000,8983:8000,8984:8000,8985:8000,8986:8000,8987:8000,8988:8000,8989:8000,8990:8000,8991:8000,8992:8000,8993:8000,8994:8000,8995:8000,8996:8000,8997:8000,8998:8000,8999:8000,\n",
    "    #9000:9000,9001:9000,9002:9000,9003:9000,9004:9000,9005:9000,9006:9000,9007:9000,9008:9000,9009:9000,9010:9000,9011:9000,9012:9000,9013:9000,9014:9000,9015:9000,9016:9000,9017:9000,9018:9000,9019:9000,9020:9000,9021:9000,9022:9000,9023:9000,9024:9000,9025:9000,9026:9000,9027:9000,9028:9000,9029:9000,9030:9000,9031:9000,9032:9000,9033:9000,9034:9000,9035:9000,9036:9000,9037:9000,9038:9000,9039:9000,9040:9000,9041:9000,9042:9000,9043:9000,9044:9000,9045:9000,9046:9000,9047:9000,9048:9000,9049:9000,9050:9000,9051:9000,9052:9000,9053:9000,9054:9000,9055:9000,9056:9000,9057:9000,9058:9000,9059:9000,9060:9000,9061:9000,9062:9000,9063:9000,9064:9000,9065:9000,9066:9000,9067:9000,9068:9000,9069:9000,9070:9000,9071:9000,9072:9000,9073:9000,9074:9000,9075:9000,9076:9000,9077:9000,9078:9000,9079:9000,9080:9000,9081:9000,9082:9000,9083:9000,9084:9000,9085:9000,9086:9000,9087:9000,9088:9000,9089:9000,9090:9000,9091:9000,9092:9000,9093:9000,9094:9000,9095:9000,9096:9000,9097:9000,9098:9000,9099:9000,9100:9000,9101:9000,9102:9000,9103:9000,9104:9000,9105:9000,9106:9000,9107:9000,9108:9000,9109:9000,9110:9000,9111:9000,9112:9000,9113:9000,9114:9000,9115:9000,9116:9000,9117:9000,9118:9000,9119:9000,9120:9000,9121:9000,9122:9000,9123:9000,9124:9000,9125:9000,9126:9000,9127:9000,9128:9000,9129:9000,9130:9000,9131:9000,9132:9000,9133:9000,9134:9000,9135:9000,9136:9000,9137:9000,9138:9000,9139:9000,9140:9000,9141:9000,9142:9000,9143:9000,9144:9000,9145:9000,9146:9000,9147:9000,9148:9000,9149:9000,9150:9000,9151:9000,9152:9000,9153:9000,9154:9000,9155:9000,9156:9000,9157:9000,9158:9000,9159:9000,9160:9000,9161:9000,9162:9000,9163:9000,9164:9000,9165:9000,9166:9000,9167:9000,9168:9000,9169:9000,9170:9000,9171:9000,9172:9000,9173:9000,9174:9000,9175:9000,9176:9000,9177:9000,9178:9000,9179:9000,9180:9000,9181:9000,9182:9000,9183:9000,9184:9000,9185:9000,9186:9000,9187:9000,9188:9000,9189:9000,9190:9000,9191:9000,9192:9000,9193:9000,9194:9000,9195:9000,9196:9000,9197:9000,9198:9000,9199:9000,9200:9000,9201:9000,9202:9000,9203:9000,9204:9000,9205:9000,9206:9000,9207:9000,9208:9000,9209:9000,9210:9000,9211:9000,9212:9000,9213:9000,9214:9000,9215:9000,9216:9000,9217:9000,9218:9000,9219:9000,9220:9000,9221:9000,9222:9000,9223:9000,9224:9000,9225:9000,9226:9000,9227:9000,9228:9000,9229:9000,9230:9000,9231:9000,9232:9000,9233:9000,9234:9000,9235:9000,9236:9000,9237:9000,9238:9000,9239:9000,9240:9000,9241:9000,9242:9000,9243:9000,9244:9000,9245:9000,9246:9000,9247:9000,9248:9000,9249:9000,9250:9000,9251:9000,9252:9000,9253:9000,9254:9000,9255:9000,9256:9000,9257:9000,9258:9000,9259:9000,9260:9000,9261:9000,9262:9000,9263:9000,9264:9000,9265:9000,9266:9000,9267:9000,9268:9000,9269:9000,9270:9000,9271:9000,9272:9000,9273:9000,9274:9000,9275:9000,9276:9000,9277:9000,9278:9000,9279:9000,9280:9000,9281:9000,9282:9000,9283:9000,9284:9000,9285:9000,9286:9000,9287:9000,9288:9000,9289:9000,9290:9000,9291:9000,9292:9000,9293:9000,9294:9000,9295:9000,9296:9000,9297:9000,9298:9000,9299:9000,9300:9000,9301:9000,9302:9000,9303:9000,9304:9000,9305:9000,9306:9000,9307:9000,9308:9000,9309:9000,9310:9000,9311:9000,9312:9000,9313:9000,9314:9000,9315:9000,9316:9000,9317:9000,9318:9000,9319:9000,9320:9000,9321:9000,9322:9000,9323:9000,9324:9000,9325:9000,9326:9000,9327:9000,9328:9000,9329:9000,9330:9000,9331:9000,9332:9000,9333:9000,9334:9000,9335:9000,9336:9000,9337:9000,9338:9000,9339:9000,9340:9000,9341:9000,9342:9000,9343:9000,9344:9000,9345:9000,9346:9000,9347:9000,9348:9000,9349:9000,9350:9000,9351:9000,9352:9000,9353:9000,9354:9000,9355:9000,9356:9000,9357:9000,9358:9000,9359:9000,9360:9000,9361:9000,9362:9000,9363:9000,9364:9000,9365:9000,9366:9000,9367:9000,9368:9000,9369:9000,9370:9000,9371:9000,9372:9000,9373:9000,9374:9000,9375:9000,9376:9000,9377:9000,9378:9000,9379:9000,9380:9000,9381:9000,9382:9000,9383:9000,9384:9000,9385:9000,9386:9000,9387:9000,9388:9000,9389:9000,9390:9000,9391:9000,9392:9000,9393:9000,9394:9000,9395:9000,9396:9000,9397:9000,9398:9000,9399:9000,9400:9000,9401:9000,9402:9000,9403:9000,9404:9000,9405:9000,9406:9000,9407:9000,9408:9000,9409:9000,9410:9000,9411:9000,9412:9000,9413:9000,9414:9000,9415:9000,9416:9000,9417:9000,9418:9000,9419:9000,9420:9000,9421:9000,9422:9000,9423:9000,9424:9000,9425:9000,9426:9000,9427:9000,9428:9000,9429:9000,9430:9000,9431:9000,9432:9000,9433:9000,9434:9000,9435:9000,9436:9000,9437:9000,9438:9000,9439:9000,9440:9000,9441:9000,9442:9000,9443:9000,9444:9000,9445:9000,9446:9000,9447:9000,9448:9000,9449:9000,9450:9000,9451:9000,9452:9000,9453:9000,9454:9000,9455:9000,9456:9000,9457:9000,9458:9000,9459:9000,9460:9000,9461:9000,9462:9000,9463:9000,9464:9000,9465:9000,9466:9000,9467:9000,9468:9000,9469:9000,9470:9000,9471:9000,9472:9000,9473:9000,9474:9000,9475:9000,9476:9000,9477:9000,9478:9000,9479:9000,9480:9000,9481:9000,9482:9000,9483:9000,9484:9000,9485:9000,9486:9000,9487:9000,9488:9000,9489:9000,9490:9000,9491:9000,9492:9000,9493:9000,9494:9000,9495:9000,9496:9000,9497:9000,9498:9000,9499:9000,9500:9000,9501:9000,9502:9000,9503:9000,9504:9000,9505:9000,9506:9000,9507:9000,9508:9000,9509:9000,9510:9000,9511:9000,9512:9000,9513:9000,9514:9000,9515:9000,9516:9000,9517:9000,9518:9000,9519:9000,9520:9000,9521:9000,9522:9000,9523:9000,9524:9000,9525:9000,9526:9000,9527:9000,9528:9000,9529:9000,9530:9000,9531:9000,9532:9000,9533:9000,9534:9000,9535:9000,9536:9000,9537:9000,9538:9000,9539:9000,9540:9000,9541:9000,9542:9000,9543:9000,9544:9000,9545:9000,9546:9000,9547:9000,9548:9000,9549:9000,9550:9000,9551:9000,9552:9000,9553:9000,9554:9000,9555:9000,9556:9000,9557:9000,9558:9000,9559:9000,9560:9000,9561:9000,9562:9000,9563:9000,9564:9000,9565:9000,9566:9000,9567:9000,9568:9000,9569:9000,9570:9000,9571:9000,9572:9000,9573:9000,9574:9000,9575:9000,9576:9000,9577:9000,9578:9000,9579:9000,9580:9000,9581:9000,9582:9000,9583:9000,9584:9000,9585:9000,9586:9000,9587:9000,9588:9000,9589:9000,9590:9000,9591:9000,9592:9000,9593:9000,9594:9000,9595:9000,9596:9000,9597:9000,9598:9000,9599:9000,9600:9000,9601:9000,9602:9000,9603:9000,9604:9000,9605:9000,9606:9000,9607:9000,9608:9000,9609:9000,9610:9000,9611:9000,9612:9000,9613:9000,9614:9000,9615:9000,9616:9000,9617:9000,9618:9000,9619:9000,9620:9000,9621:9000,9622:9000,9623:9000,9624:9000,9625:9000,9626:9000,9627:9000,9628:9000,9629:9000,9630:9000,9631:9000,9632:9000,9633:9000,9634:9000,9635:9000,9636:9000,9637:9000,9638:9000,9639:9000,9640:9000,9641:9000,9642:9000,9643:9000,9644:9000,9645:9000,9646:9000,9647:9000,9648:9000,9649:9000,9650:9000,9651:9000,9652:9000,9653:9000,9654:9000,9655:9000,9656:9000,9657:9000,9658:9000,9659:9000,9660:9000,9661:9000,9662:9000,9663:9000,9664:9000,9665:9000,9666:9000,9667:9000,9668:9000,9669:9000,9670:9000,9671:9000,9672:9000,9673:9000,9674:9000,9675:9000,9676:9000,9677:9000,9678:9000,9679:9000,9680:9000,9681:9000,9682:9000,9683:9000,9684:9000,9685:9000,9686:9000,9687:9000,9688:9000,9689:9000,9690:9000,9691:9000,9692:9000,9693:9000,9694:9000,9695:9000,9696:9000,9697:9000,9698:9000,9699:9000,9700:9000,9701:9000,9702:9000,9703:9000,9704:9000,9705:9000,9706:9000,9707:9000,9708:9000,9709:9000,9710:9000,9711:9000,9712:9000,9713:9000,9714:9000,9715:9000,9716:9000,9717:9000,9718:9000,9719:9000,9720:9000,9721:9000,9722:9000,9723:9000,9724:9000,9725:9000,9726:9000,9727:9000,9728:9000,9729:9000,9730:9000,9731:9000,9732:9000,9733:9000,9734:9000,9735:9000,9736:9000,9737:9000,9738:9000,9739:9000,9740:9000,9741:9000,9742:9000,9743:9000,9744:9000,9745:9000,9746:9000,9747:9000,9748:9000,9749:9000,9750:9000,9751:9000,9752:9000,9753:9000,9754:9000,9755:9000,9756:9000,9757:9000,9758:9000,9759:9000,9760:9000,9761:9000,9762:9000,9763:9000,9764:9000,9765:9000,9766:9000,9767:9000,9768:9000,9769:9000,9770:9000,9771:9000,9772:9000,9773:9000,9774:9000,9775:9000,9776:9000,9777:9000,9778:9000,9779:9000,9780:9000,9781:9000,9782:9000,9783:9000,9784:9000,9785:9000,9786:9000,9787:9000,9788:9000,9789:9000,9790:9000,9791:9000,9792:9000,9793:9000,9794:9000,9795:9000,9796:9000,9797:9000,9798:9000,9799:9000,9800:9000,9801:9000,9802:9000,9803:9000,9804:9000,9805:9000,9806:9000,9807:9000,9808:9000,9809:9000,9810:9000,9811:9000,9812:9000,9813:9000,9814:9000,9815:9000,9816:9000,9817:9000,9818:9000,9819:9000,9820:9000,9821:9000,9822:9000,9823:9000,9824:9000,9825:9000,9826:9000,9827:9000,9828:9000,9829:9000,9830:9000,9831:9000,9832:9000,9833:9000,9834:9000,9835:9000,9836:9000,9837:9000,9838:9000,9839:9000,9840:9000,9841:9000,9842:9000,9843:9000,9844:9000,9845:9000,9846:9000,9847:9000,9848:9000,9849:9000,9850:9000,9851:9000,9852:9000,9853:9000,9854:9000,9855:9000,9856:9000,9857:9000,9858:9000,9859:9000,9860:9000,9861:9000,9862:9000,9863:9000,9864:9000,9865:9000,9866:9000,9867:9000,9868:9000,9869:9000,9870:9000,9871:9000,9872:9000,9873:9000,9874:9000,9875:9000,9876:9000,9877:9000,9878:9000,9879:9000,9880:9000,9881:9000,9882:9000,9883:9000,9884:9000,9885:9000,9886:9000,9887:9000,9888:9000,9889:9000,9890:9000,9891:9000,9892:9000,9893:9000,9894:9000,9895:9000,9896:9000,9897:9000,9898:9000,9899:9000,9900:9000,9901:9000,9902:9000,9903:9000,9904:9000,9905:9000,9906:9000,9907:9000,9908:9000,9909:9000,9910:9000,9911:9000,9912:9000,9913:9000,9914:9000,9915:9000,9916:9000,9917:9000,9918:9000,9919:9000,9920:9000,9921:9000,9922:9000,9923:9000,9924:9000,9925:9000,9926:9000,9927:9000,9928:9000,9929:9000,9930:9000,9931:9000,9932:9000,9933:9000,9934:9000,9935:9000,9936:9000,9937:9000,9938:9000,9939:9000,9940:9000,9941:9000,9942:9000,9943:9000,9944:9000,9945:9000,9946:9000,9947:9000,9948:9000,9949:9000,9950:9000,9951:9000,9952:9000,9953:9000,9954:9000,9955:9000,9956:9000,9957:9000,9958:9000,9959:9000,9960:9000,9961:9000,9962:9000,9963:9000,9964:9000,9965:9000,9966:9000,9967:9000,9968:9000,9969:9000,9970:9000,9971:9000,9972:9000,9973:9000,9974:9000,9975:9000,9976:9000,9977:9000,9978:9000,9979:9000,9980:9000,9981:9000,9982:9000,9983:9000,9984:9000,9985:9000,9986:9000,9987:9000,9988:9000,9989:9000,9990:9000,9991:9000,9992:9000,9993:9000,9994:9000,9995:9000,9996:9000,9997:9000,9998:9000,9999:9000\n",
    "    #     }\n",
    "\n",
    "df_usuario_copy.P8_7.replace(dicc_cel, inplace=True)\n"
   ]
  },
  {
   "cell_type": "code",
   "execution_count": 55,
   "metadata": {},
   "outputs": [
    {
     "data": {
      "text/plain": [
       "0       99015\n",
       "99      32738\n",
       "9000     2246\n",
       "1000     1186\n",
       "2000      105\n",
       "3000       29\n",
       "4000       12\n",
       "5000        5\n",
       "8000        3\n",
       "7000        2\n",
       "Name: P8_7, dtype: int64"
      ]
     },
     "execution_count": 55,
     "metadata": {},
     "output_type": "execute_result"
    }
   ],
   "source": [
    "df_usuario_copy.P8_7.value_counts()"
   ]
  },
  {
   "cell_type": "code",
   "execution_count": 56,
   "metadata": {},
   "outputs": [],
   "source": [
    "path='C:/Users/alejandro/Desktop/ProyectoFinal Delfin/Bases de datos/Limpiados/tr_usuario.csv'\n",
    "\n",
    "df_usuario_copy.to_csv(path_or_buf=path,index=True, encoding='utf-8')"
   ]
  },
  {
   "cell_type": "code",
   "execution_count": null,
   "metadata": {},
   "outputs": [],
   "source": []
  },
  {
   "cell_type": "code",
   "execution_count": null,
   "metadata": {},
   "outputs": [],
   "source": []
  },
  {
   "cell_type": "code",
   "execution_count": null,
   "metadata": {},
   "outputs": [],
   "source": []
  },
  {
   "cell_type": "code",
   "execution_count": null,
   "metadata": {},
   "outputs": [],
   "source": []
  }
 ],
 "metadata": {
  "kernelspec": {
   "display_name": "Python 3",
   "language": "python",
   "name": "python3"
  },
  "language_info": {
   "codemirror_mode": {
    "name": "ipython",
    "version": 3
   },
   "file_extension": ".py",
   "mimetype": "text/x-python",
   "name": "python",
   "nbconvert_exporter": "python",
   "pygments_lexer": "ipython3",
   "version": "3.6.5"
  }
 },
 "nbformat": 4,
 "nbformat_minor": 2
}
