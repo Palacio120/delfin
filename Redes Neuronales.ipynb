{
 "cells": [
  {
   "cell_type": "markdown",
   "metadata": {},
   "source": [
    "## Agregar las librerias necesarias para graficar y la funcion sigmoide"
   ]
  },
  {
   "cell_type": "code",
   "execution_count": 27,
   "metadata": {
    "collapsed": true
   },
   "outputs": [],
   "source": [
    "import numpy as np\n",
    "import scipy.special as sigmoid"
   ]
  },
  {
   "cell_type": "code",
   "execution_count": 78,
   "metadata": {
    "collapsed": true
   },
   "outputs": [],
   "source": [
    "#creamos una clace para la red neuronal\n",
    "class neuronalNetwork:\n",
    "    \n",
    "    #inicializa la red neuronal\n",
    "    def __init__(self, inputnodes, hiddennodes, outputnodes, lerningrate):\n",
    "        self.inodes=inputnodes\n",
    "        self.hnodes=hiddennodes\n",
    "        self.onodes=outputnodes\n",
    "        self.lr=lerningrate\n",
    "        \n",
    "        self.wih=np.random.normal(0.0,pow(self.inodes, -0.5),(self.hnodes,self.inodes))\n",
    "        self.who=np.random.normal(0.0,pow(self.hnodes, -0.5),(self.onodes,self.hnodes))\n",
    "        \n",
    "        self.activation_function=lambda x: sigmoid.expit(x)\n",
    "        pass\n",
    "        \n",
    "    #Entrenador de la red\n",
    "    def query(self,inputs_list):\n",
    "        inputs=np.array(inputs_list,ndmin=2).T\n",
    "        \n",
    "        hiden_inputs=np.dot(self.wih, inputs)\n",
    "        hiden_outputs= self.activation_function(hiden_inputs)\n",
    "        \n",
    "        final_inputs=np.dot(self.who,hiden_outputs)\n",
    "        final_outputs=self.activation_function(final_inputs)\n",
    "        \n",
    "        return final_outputs\n",
    "        \n",
    "        pass\n",
    "    \n",
    "    #Query de la red\n",
    "    def train(self, inputs_list, target_list):\n",
    "        inputs=np.array(inputs_list, ndmin=2).T\n",
    "        tragets=np.array(target_list, ndmin=2).T\n",
    "        \n",
    "        hidden_inputs=np.dot(self.wih, inputs)\n",
    "        hiden_outputs= self.activation_function(hidden_inputs)\n",
    "        \n",
    "        final_inputs=np.dot(self.who,hiden_outputs)\n",
    "        final_outputs=self.activation_function(final_inputs)\n",
    "        \n",
    "        output_errors= tragets- final_outputs\n",
    "        hidden_errors= np.dot(self.who.T,output_errors)\n",
    "        \n",
    "        self.who +=self.lr*np.dot((output_errors*final_outputs*(1.0- final_outputs)),np.transpose(hiden_outputs))\n",
    "        self.wih +=self.lr*np.dot((hidden_errors*hiden_outputs*(1.0- hiden_outputs)),np.transpose(inputs))\n",
    "        \n",
    "        pass\n"
   ]
  },
  {
   "cell_type": "markdown",
   "metadata": {},
   "source": [
    "## Hacemos el esqueleto de la red neuronal inicializando los datos "
   ]
  },
  {
   "cell_type": "code",
   "execution_count": 84,
   "metadata": {
    "collapsed": true
   },
   "outputs": [],
   "source": [
    "input_nodes=10\n",
    "hidden_nodes=5\n",
    "output_nodes=1\n",
    "\n",
    "learninrate=0.3\n",
    "\n",
    "n= neuronalNetwork(input_nodes,hidden_nodes,output_nodes,learninrate)"
   ]
  },
  {
   "cell_type": "code",
   "execution_count": 85,
   "metadata": {
    "collapsed": false
   },
   "outputs": [
    {
     "data": {
      "text/plain": [
       "array([[ 0.69646919,  0.28613933,  0.22685145,  0.55131477,  0.71946897,\n",
       "         0.42310646,  0.9807642 ,  0.68482974,  0.4809319 ,  0.39211752],\n",
       "       [ 0.34317802,  0.72904971,  0.43857224,  0.0596779 ,  0.39804426,\n",
       "         0.73799541,  0.18249173,  0.17545176,  0.53155137,  0.53182759],\n",
       "       [ 0.63440096,  0.84943179,  0.72445532,  0.61102351,  0.72244338,\n",
       "         0.32295891,  0.36178866,  0.22826323,  0.29371405,  0.63097612]])"
      ]
     },
     "execution_count": 85,
     "metadata": {},
     "output_type": "execute_result"
    }
   ],
   "source": [
    "np.random.seed(123)\n",
    "input_nodes=np.random.rand(3,10)\n",
    "input_nodes"
   ]
  },
  {
   "cell_type": "code",
   "execution_count": 86,
   "metadata": {
    "collapsed": false
   },
   "outputs": [
    {
     "data": {
      "text/plain": [
       "array([[ 0.54340494],\n",
       "       [ 0.27836939],\n",
       "       [ 0.42451759]])"
      ]
     },
     "execution_count": 86,
     "metadata": {},
     "output_type": "execute_result"
    }
   ],
   "source": [
    "np.random.seed(100)\n",
    "output_nodes=np.random.rand(3,1)\n",
    "output_nodes"
   ]
  },
  {
   "cell_type": "code",
   "execution_count": 87,
   "metadata": {
    "collapsed": false
   },
   "outputs": [],
   "source": [
    "n.train(input_nodes,output_nodes)"
   ]
  },
  {
   "cell_type": "code",
   "execution_count": 89,
   "metadata": {
    "collapsed": true
   },
   "outputs": [],
   "source": [
    "test_nodes=np.random.rand(1,10)"
   ]
  },
  {
   "cell_type": "code",
   "execution_count": 90,
   "metadata": {
    "collapsed": false
   },
   "outputs": [
    {
     "data": {
      "text/plain": [
       "array([[ 0.57278115]])"
      ]
     },
     "execution_count": 90,
     "metadata": {},
     "output_type": "execute_result"
    }
   ],
   "source": [
    "n.query(test_nodes)"
   ]
  },
  {
   "cell_type": "code",
   "execution_count": null,
   "metadata": {
    "collapsed": true
   },
   "outputs": [],
   "source": []
  }
 ],
 "metadata": {
  "anaconda-cloud": {},
  "kernelspec": {
   "display_name": "Python [conda root]",
   "language": "python",
   "name": "conda-root-py"
  },
  "language_info": {
   "codemirror_mode": {
    "name": "ipython",
    "version": 3
   },
   "file_extension": ".py",
   "mimetype": "text/x-python",
   "name": "python",
   "nbconvert_exporter": "python",
   "pygments_lexer": "ipython3",
   "version": "3.5.2"
  }
 },
 "nbformat": 4,
 "nbformat_minor": 1
}
